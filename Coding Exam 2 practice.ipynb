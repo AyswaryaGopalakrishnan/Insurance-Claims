{
 "cells": [
  {
   "cell_type": "code",
   "execution_count": 1,
   "metadata": {},
   "outputs": [],
   "source": [
    "import numpy as np\n",
    "import pandas as pd\n",
    "import matplotlib.pyplot as plt\n",
    "%matplotlib inline\n",
    "import seaborn as sns"
   ]
  },
  {
   "cell_type": "code",
   "execution_count": 2,
   "metadata": {},
   "outputs": [],
   "source": [
    "data=pd.read_csv(\"insurance_claims.csv\")"
   ]
  },
  {
   "cell_type": "code",
   "execution_count": 3,
   "metadata": {},
   "outputs": [
    {
     "data": {
      "text/html": [
       "<div>\n",
       "<style scoped>\n",
       "    .dataframe tbody tr th:only-of-type {\n",
       "        vertical-align: middle;\n",
       "    }\n",
       "\n",
       "    .dataframe tbody tr th {\n",
       "        vertical-align: top;\n",
       "    }\n",
       "\n",
       "    .dataframe thead th {\n",
       "        text-align: right;\n",
       "    }\n",
       "</style>\n",
       "<table border=\"1\" class=\"dataframe\">\n",
       "  <thead>\n",
       "    <tr style=\"text-align: right;\">\n",
       "      <th></th>\n",
       "      <th>months_as_customer</th>\n",
       "      <th>age</th>\n",
       "      <th>policy_number</th>\n",
       "      <th>policy_bind_date</th>\n",
       "      <th>policy_state</th>\n",
       "      <th>policy_csl</th>\n",
       "      <th>policy_deductable</th>\n",
       "      <th>policy_annual_premium</th>\n",
       "      <th>umbrella_limit</th>\n",
       "      <th>insured_zip</th>\n",
       "      <th>...</th>\n",
       "      <th>witnesses</th>\n",
       "      <th>police_report_available</th>\n",
       "      <th>total_claim_amount</th>\n",
       "      <th>injury_claim</th>\n",
       "      <th>property_claim</th>\n",
       "      <th>vehicle_claim</th>\n",
       "      <th>auto_make</th>\n",
       "      <th>auto_model</th>\n",
       "      <th>auto_year</th>\n",
       "      <th>fraud_reported</th>\n",
       "    </tr>\n",
       "  </thead>\n",
       "  <tbody>\n",
       "    <tr>\n",
       "      <th>0</th>\n",
       "      <td>328</td>\n",
       "      <td>48</td>\n",
       "      <td>521585</td>\n",
       "      <td>17-10-2014</td>\n",
       "      <td>OH</td>\n",
       "      <td>250/500</td>\n",
       "      <td>1000</td>\n",
       "      <td>1406.91</td>\n",
       "      <td>0</td>\n",
       "      <td>466132</td>\n",
       "      <td>...</td>\n",
       "      <td>2</td>\n",
       "      <td>YES</td>\n",
       "      <td>71610</td>\n",
       "      <td>6510</td>\n",
       "      <td>13020</td>\n",
       "      <td>52080</td>\n",
       "      <td>Saab</td>\n",
       "      <td>92x</td>\n",
       "      <td>2004</td>\n",
       "      <td>Y</td>\n",
       "    </tr>\n",
       "    <tr>\n",
       "      <th>1</th>\n",
       "      <td>228</td>\n",
       "      <td>42</td>\n",
       "      <td>342868</td>\n",
       "      <td>27-06-2006</td>\n",
       "      <td>IN</td>\n",
       "      <td>250/500</td>\n",
       "      <td>2000</td>\n",
       "      <td>1197.22</td>\n",
       "      <td>5000000</td>\n",
       "      <td>468176</td>\n",
       "      <td>...</td>\n",
       "      <td>0</td>\n",
       "      <td>?</td>\n",
       "      <td>5070</td>\n",
       "      <td>780</td>\n",
       "      <td>780</td>\n",
       "      <td>3510</td>\n",
       "      <td>Mercedes</td>\n",
       "      <td>E400</td>\n",
       "      <td>2007</td>\n",
       "      <td>Y</td>\n",
       "    </tr>\n",
       "    <tr>\n",
       "      <th>2</th>\n",
       "      <td>134</td>\n",
       "      <td>29</td>\n",
       "      <td>687698</td>\n",
       "      <td>06-09-2000</td>\n",
       "      <td>OH</td>\n",
       "      <td>100/300</td>\n",
       "      <td>2000</td>\n",
       "      <td>1413.14</td>\n",
       "      <td>5000000</td>\n",
       "      <td>430632</td>\n",
       "      <td>...</td>\n",
       "      <td>3</td>\n",
       "      <td>NO</td>\n",
       "      <td>34650</td>\n",
       "      <td>7700</td>\n",
       "      <td>3850</td>\n",
       "      <td>23100</td>\n",
       "      <td>Dodge</td>\n",
       "      <td>RAM</td>\n",
       "      <td>2007</td>\n",
       "      <td>N</td>\n",
       "    </tr>\n",
       "    <tr>\n",
       "      <th>3</th>\n",
       "      <td>256</td>\n",
       "      <td>41</td>\n",
       "      <td>227811</td>\n",
       "      <td>25-05-1990</td>\n",
       "      <td>IL</td>\n",
       "      <td>250/500</td>\n",
       "      <td>2000</td>\n",
       "      <td>1415.74</td>\n",
       "      <td>6000000</td>\n",
       "      <td>608117</td>\n",
       "      <td>...</td>\n",
       "      <td>2</td>\n",
       "      <td>NO</td>\n",
       "      <td>63400</td>\n",
       "      <td>6340</td>\n",
       "      <td>6340</td>\n",
       "      <td>50720</td>\n",
       "      <td>Chevrolet</td>\n",
       "      <td>Tahoe</td>\n",
       "      <td>2014</td>\n",
       "      <td>Y</td>\n",
       "    </tr>\n",
       "    <tr>\n",
       "      <th>4</th>\n",
       "      <td>228</td>\n",
       "      <td>44</td>\n",
       "      <td>367455</td>\n",
       "      <td>06-06-2014</td>\n",
       "      <td>IL</td>\n",
       "      <td>500/1000</td>\n",
       "      <td>1000</td>\n",
       "      <td>1583.91</td>\n",
       "      <td>6000000</td>\n",
       "      <td>610706</td>\n",
       "      <td>...</td>\n",
       "      <td>1</td>\n",
       "      <td>NO</td>\n",
       "      <td>6500</td>\n",
       "      <td>1300</td>\n",
       "      <td>650</td>\n",
       "      <td>4550</td>\n",
       "      <td>Accura</td>\n",
       "      <td>RSX</td>\n",
       "      <td>2009</td>\n",
       "      <td>N</td>\n",
       "    </tr>\n",
       "    <tr>\n",
       "      <th>...</th>\n",
       "      <td>...</td>\n",
       "      <td>...</td>\n",
       "      <td>...</td>\n",
       "      <td>...</td>\n",
       "      <td>...</td>\n",
       "      <td>...</td>\n",
       "      <td>...</td>\n",
       "      <td>...</td>\n",
       "      <td>...</td>\n",
       "      <td>...</td>\n",
       "      <td>...</td>\n",
       "      <td>...</td>\n",
       "      <td>...</td>\n",
       "      <td>...</td>\n",
       "      <td>...</td>\n",
       "      <td>...</td>\n",
       "      <td>...</td>\n",
       "      <td>...</td>\n",
       "      <td>...</td>\n",
       "      <td>...</td>\n",
       "      <td>...</td>\n",
       "    </tr>\n",
       "    <tr>\n",
       "      <th>995</th>\n",
       "      <td>3</td>\n",
       "      <td>38</td>\n",
       "      <td>941851</td>\n",
       "      <td>16-07-1991</td>\n",
       "      <td>OH</td>\n",
       "      <td>500/1000</td>\n",
       "      <td>1000</td>\n",
       "      <td>1310.80</td>\n",
       "      <td>0</td>\n",
       "      <td>431289</td>\n",
       "      <td>...</td>\n",
       "      <td>1</td>\n",
       "      <td>?</td>\n",
       "      <td>87200</td>\n",
       "      <td>17440</td>\n",
       "      <td>8720</td>\n",
       "      <td>61040</td>\n",
       "      <td>Honda</td>\n",
       "      <td>Accord</td>\n",
       "      <td>2006</td>\n",
       "      <td>N</td>\n",
       "    </tr>\n",
       "    <tr>\n",
       "      <th>996</th>\n",
       "      <td>285</td>\n",
       "      <td>41</td>\n",
       "      <td>186934</td>\n",
       "      <td>05-01-2014</td>\n",
       "      <td>IL</td>\n",
       "      <td>100/300</td>\n",
       "      <td>1000</td>\n",
       "      <td>1436.79</td>\n",
       "      <td>0</td>\n",
       "      <td>608177</td>\n",
       "      <td>...</td>\n",
       "      <td>3</td>\n",
       "      <td>?</td>\n",
       "      <td>108480</td>\n",
       "      <td>18080</td>\n",
       "      <td>18080</td>\n",
       "      <td>72320</td>\n",
       "      <td>Volkswagen</td>\n",
       "      <td>Passat</td>\n",
       "      <td>2015</td>\n",
       "      <td>N</td>\n",
       "    </tr>\n",
       "    <tr>\n",
       "      <th>997</th>\n",
       "      <td>130</td>\n",
       "      <td>34</td>\n",
       "      <td>918516</td>\n",
       "      <td>17-02-2003</td>\n",
       "      <td>OH</td>\n",
       "      <td>250/500</td>\n",
       "      <td>500</td>\n",
       "      <td>1383.49</td>\n",
       "      <td>3000000</td>\n",
       "      <td>442797</td>\n",
       "      <td>...</td>\n",
       "      <td>3</td>\n",
       "      <td>YES</td>\n",
       "      <td>67500</td>\n",
       "      <td>7500</td>\n",
       "      <td>7500</td>\n",
       "      <td>52500</td>\n",
       "      <td>Suburu</td>\n",
       "      <td>Impreza</td>\n",
       "      <td>1996</td>\n",
       "      <td>N</td>\n",
       "    </tr>\n",
       "    <tr>\n",
       "      <th>998</th>\n",
       "      <td>458</td>\n",
       "      <td>62</td>\n",
       "      <td>533940</td>\n",
       "      <td>18-11-2011</td>\n",
       "      <td>IL</td>\n",
       "      <td>500/1000</td>\n",
       "      <td>2000</td>\n",
       "      <td>1356.92</td>\n",
       "      <td>5000000</td>\n",
       "      <td>441714</td>\n",
       "      <td>...</td>\n",
       "      <td>1</td>\n",
       "      <td>YES</td>\n",
       "      <td>46980</td>\n",
       "      <td>5220</td>\n",
       "      <td>5220</td>\n",
       "      <td>36540</td>\n",
       "      <td>Audi</td>\n",
       "      <td>A5</td>\n",
       "      <td>1998</td>\n",
       "      <td>N</td>\n",
       "    </tr>\n",
       "    <tr>\n",
       "      <th>999</th>\n",
       "      <td>456</td>\n",
       "      <td>60</td>\n",
       "      <td>556080</td>\n",
       "      <td>11-11-1996</td>\n",
       "      <td>OH</td>\n",
       "      <td>250/500</td>\n",
       "      <td>1000</td>\n",
       "      <td>766.19</td>\n",
       "      <td>0</td>\n",
       "      <td>612260</td>\n",
       "      <td>...</td>\n",
       "      <td>3</td>\n",
       "      <td>?</td>\n",
       "      <td>5060</td>\n",
       "      <td>460</td>\n",
       "      <td>920</td>\n",
       "      <td>3680</td>\n",
       "      <td>Mercedes</td>\n",
       "      <td>E400</td>\n",
       "      <td>2007</td>\n",
       "      <td>N</td>\n",
       "    </tr>\n",
       "  </tbody>\n",
       "</table>\n",
       "<p>1000 rows × 39 columns</p>\n",
       "</div>"
      ],
      "text/plain": [
       "     months_as_customer  age  policy_number policy_bind_date policy_state  \\\n",
       "0                   328   48         521585       17-10-2014           OH   \n",
       "1                   228   42         342868       27-06-2006           IN   \n",
       "2                   134   29         687698       06-09-2000           OH   \n",
       "3                   256   41         227811       25-05-1990           IL   \n",
       "4                   228   44         367455       06-06-2014           IL   \n",
       "..                  ...  ...            ...              ...          ...   \n",
       "995                   3   38         941851       16-07-1991           OH   \n",
       "996                 285   41         186934       05-01-2014           IL   \n",
       "997                 130   34         918516       17-02-2003           OH   \n",
       "998                 458   62         533940       18-11-2011           IL   \n",
       "999                 456   60         556080       11-11-1996           OH   \n",
       "\n",
       "    policy_csl  policy_deductable  policy_annual_premium  umbrella_limit  \\\n",
       "0      250/500               1000                1406.91               0   \n",
       "1      250/500               2000                1197.22         5000000   \n",
       "2      100/300               2000                1413.14         5000000   \n",
       "3      250/500               2000                1415.74         6000000   \n",
       "4     500/1000               1000                1583.91         6000000   \n",
       "..         ...                ...                    ...             ...   \n",
       "995   500/1000               1000                1310.80               0   \n",
       "996    100/300               1000                1436.79               0   \n",
       "997    250/500                500                1383.49         3000000   \n",
       "998   500/1000               2000                1356.92         5000000   \n",
       "999    250/500               1000                 766.19               0   \n",
       "\n",
       "     insured_zip  ... witnesses police_report_available total_claim_amount  \\\n",
       "0         466132  ...         2                     YES              71610   \n",
       "1         468176  ...         0                       ?               5070   \n",
       "2         430632  ...         3                      NO              34650   \n",
       "3         608117  ...         2                      NO              63400   \n",
       "4         610706  ...         1                      NO               6500   \n",
       "..           ...  ...       ...                     ...                ...   \n",
       "995       431289  ...         1                       ?              87200   \n",
       "996       608177  ...         3                       ?             108480   \n",
       "997       442797  ...         3                     YES              67500   \n",
       "998       441714  ...         1                     YES              46980   \n",
       "999       612260  ...         3                       ?               5060   \n",
       "\n",
       "    injury_claim property_claim  vehicle_claim   auto_make auto_model  \\\n",
       "0           6510          13020          52080        Saab        92x   \n",
       "1            780            780           3510    Mercedes       E400   \n",
       "2           7700           3850          23100       Dodge        RAM   \n",
       "3           6340           6340          50720   Chevrolet      Tahoe   \n",
       "4           1300            650           4550      Accura        RSX   \n",
       "..           ...            ...            ...         ...        ...   \n",
       "995        17440           8720          61040       Honda     Accord   \n",
       "996        18080          18080          72320  Volkswagen     Passat   \n",
       "997         7500           7500          52500      Suburu    Impreza   \n",
       "998         5220           5220          36540        Audi         A5   \n",
       "999          460            920           3680    Mercedes       E400   \n",
       "\n",
       "    auto_year fraud_reported  \n",
       "0        2004              Y  \n",
       "1        2007              Y  \n",
       "2        2007              N  \n",
       "3        2014              Y  \n",
       "4        2009              N  \n",
       "..        ...            ...  \n",
       "995      2006              N  \n",
       "996      2015              N  \n",
       "997      1996              N  \n",
       "998      1998              N  \n",
       "999      2007              N  \n",
       "\n",
       "[1000 rows x 39 columns]"
      ]
     },
     "execution_count": 3,
     "metadata": {},
     "output_type": "execute_result"
    }
   ],
   "source": [
    "data"
   ]
  },
  {
   "cell_type": "code",
   "execution_count": 4,
   "metadata": {
    "scrolled": true
   },
   "outputs": [
    {
     "name": "stdout",
     "output_type": "stream",
     "text": [
      "<class 'pandas.core.frame.DataFrame'>\n",
      "RangeIndex: 1000 entries, 0 to 999\n",
      "Data columns (total 39 columns):\n",
      "months_as_customer             1000 non-null int64\n",
      "age                            1000 non-null int64\n",
      "policy_number                  1000 non-null int64\n",
      "policy_bind_date               1000 non-null object\n",
      "policy_state                   1000 non-null object\n",
      "policy_csl                     1000 non-null object\n",
      "policy_deductable              1000 non-null int64\n",
      "policy_annual_premium          1000 non-null float64\n",
      "umbrella_limit                 1000 non-null int64\n",
      "insured_zip                    1000 non-null int64\n",
      "insured_sex                    1000 non-null object\n",
      "insured_education_level        1000 non-null object\n",
      "insured_occupation             1000 non-null object\n",
      "insured_hobbies                1000 non-null object\n",
      "insured_relationship           1000 non-null object\n",
      "capital-gains                  1000 non-null int64\n",
      "capital-loss                   1000 non-null int64\n",
      "incident_date                  1000 non-null object\n",
      "incident_type                  1000 non-null object\n",
      "collision_type                 1000 non-null object\n",
      "incident_severity              1000 non-null object\n",
      "authorities_contacted          1000 non-null object\n",
      "incident_state                 1000 non-null object\n",
      "incident_city                  1000 non-null object\n",
      "incident_location              1000 non-null object\n",
      "incident_hour_of_the_day       1000 non-null int64\n",
      "number_of_vehicles_involved    1000 non-null int64\n",
      "property_damage                1000 non-null object\n",
      "bodily_injuries                1000 non-null int64\n",
      "witnesses                      1000 non-null int64\n",
      "police_report_available        1000 non-null object\n",
      "total_claim_amount             1000 non-null int64\n",
      "injury_claim                   1000 non-null int64\n",
      "property_claim                 1000 non-null int64\n",
      "vehicle_claim                  1000 non-null int64\n",
      "auto_make                      1000 non-null object\n",
      "auto_model                     1000 non-null object\n",
      "auto_year                      1000 non-null int64\n",
      "fraud_reported                 1000 non-null object\n",
      "dtypes: float64(1), int64(17), object(21)\n",
      "memory usage: 304.8+ KB\n"
     ]
    }
   ],
   "source": [
    "data.info()"
   ]
  },
  {
   "cell_type": "code",
   "execution_count": 5,
   "metadata": {},
   "outputs": [
    {
     "data": {
      "text/plain": [
       "Index(['months_as_customer', 'age', 'policy_number', 'policy_bind_date',\n",
       "       'policy_state', 'policy_csl', 'policy_deductable',\n",
       "       'policy_annual_premium', 'umbrella_limit', 'insured_zip', 'insured_sex',\n",
       "       'insured_education_level', 'insured_occupation', 'insured_hobbies',\n",
       "       'insured_relationship', 'capital-gains', 'capital-loss',\n",
       "       'incident_date', 'incident_type', 'collision_type', 'incident_severity',\n",
       "       'authorities_contacted', 'incident_state', 'incident_city',\n",
       "       'incident_location', 'incident_hour_of_the_day',\n",
       "       'number_of_vehicles_involved', 'property_damage', 'bodily_injuries',\n",
       "       'witnesses', 'police_report_available', 'total_claim_amount',\n",
       "       'injury_claim', 'property_claim', 'vehicle_claim', 'auto_make',\n",
       "       'auto_model', 'auto_year', 'fraud_reported'],\n",
       "      dtype='object')"
      ]
     },
     "execution_count": 5,
     "metadata": {},
     "output_type": "execute_result"
    }
   ],
   "source": [
    "data.columns\n"
   ]
  },
  {
   "cell_type": "markdown",
   "metadata": {},
   "source": [
    "This dataset didn't have any missing values.So I introdued missing values into the data "
   ]
  },
  {
   "cell_type": "code",
   "execution_count": 6,
   "metadata": {},
   "outputs": [],
   "source": [
    "#np.random.seed(42)\n",
    "#df=data.mask(np.random.random(data.shape)<0.09)"
   ]
  },
  {
   "cell_type": "code",
   "execution_count": 7,
   "metadata": {},
   "outputs": [],
   "source": [
    "#(df.isna().sum().sum()/np.product(df.shape))*100"
   ]
  },
  {
   "cell_type": "code",
   "execution_count": 8,
   "metadata": {},
   "outputs": [],
   "source": [
    "#df.to_csv('insurance_new.csv', index=False, header=True)"
   ]
  },
  {
   "cell_type": "code",
   "execution_count": 9,
   "metadata": {},
   "outputs": [
    {
     "data": {
      "text/html": [
       "<div>\n",
       "<style scoped>\n",
       "    .dataframe tbody tr th:only-of-type {\n",
       "        vertical-align: middle;\n",
       "    }\n",
       "\n",
       "    .dataframe tbody tr th {\n",
       "        vertical-align: top;\n",
       "    }\n",
       "\n",
       "    .dataframe thead th {\n",
       "        text-align: right;\n",
       "    }\n",
       "</style>\n",
       "<table border=\"1\" class=\"dataframe\">\n",
       "  <thead>\n",
       "    <tr style=\"text-align: right;\">\n",
       "      <th></th>\n",
       "      <th>months_as_customer</th>\n",
       "      <th>age</th>\n",
       "      <th>policy_number</th>\n",
       "      <th>policy_deductable</th>\n",
       "      <th>policy_annual_premium</th>\n",
       "      <th>umbrella_limit</th>\n",
       "      <th>insured_zip</th>\n",
       "      <th>capital-gains</th>\n",
       "      <th>capital-loss</th>\n",
       "      <th>incident_hour_of_the_day</th>\n",
       "      <th>number_of_vehicles_involved</th>\n",
       "      <th>bodily_injuries</th>\n",
       "      <th>witnesses</th>\n",
       "      <th>total_claim_amount</th>\n",
       "      <th>injury_claim</th>\n",
       "      <th>property_claim</th>\n",
       "      <th>vehicle_claim</th>\n",
       "      <th>auto_year</th>\n",
       "    </tr>\n",
       "  </thead>\n",
       "  <tbody>\n",
       "    <tr>\n",
       "      <th>count</th>\n",
       "      <td>1000.000000</td>\n",
       "      <td>1000.000000</td>\n",
       "      <td>1000.000000</td>\n",
       "      <td>1000.000000</td>\n",
       "      <td>1000.000000</td>\n",
       "      <td>1.000000e+03</td>\n",
       "      <td>1000.000000</td>\n",
       "      <td>1000.000000</td>\n",
       "      <td>1000.000000</td>\n",
       "      <td>1000.000000</td>\n",
       "      <td>1000.00000</td>\n",
       "      <td>1000.000000</td>\n",
       "      <td>1000.000000</td>\n",
       "      <td>1000.00000</td>\n",
       "      <td>1000.000000</td>\n",
       "      <td>1000.000000</td>\n",
       "      <td>1000.000000</td>\n",
       "      <td>1000.000000</td>\n",
       "    </tr>\n",
       "    <tr>\n",
       "      <th>mean</th>\n",
       "      <td>203.954000</td>\n",
       "      <td>38.948000</td>\n",
       "      <td>546238.648000</td>\n",
       "      <td>1136.000000</td>\n",
       "      <td>1256.406150</td>\n",
       "      <td>1.101000e+06</td>\n",
       "      <td>501214.488000</td>\n",
       "      <td>25126.100000</td>\n",
       "      <td>-26793.700000</td>\n",
       "      <td>11.644000</td>\n",
       "      <td>1.83900</td>\n",
       "      <td>0.992000</td>\n",
       "      <td>1.487000</td>\n",
       "      <td>52761.94000</td>\n",
       "      <td>7433.420000</td>\n",
       "      <td>7399.570000</td>\n",
       "      <td>37928.950000</td>\n",
       "      <td>2005.103000</td>\n",
       "    </tr>\n",
       "    <tr>\n",
       "      <th>std</th>\n",
       "      <td>115.113174</td>\n",
       "      <td>9.140287</td>\n",
       "      <td>257063.005276</td>\n",
       "      <td>611.864673</td>\n",
       "      <td>244.167395</td>\n",
       "      <td>2.297407e+06</td>\n",
       "      <td>71701.610941</td>\n",
       "      <td>27872.187708</td>\n",
       "      <td>28104.096686</td>\n",
       "      <td>6.951373</td>\n",
       "      <td>1.01888</td>\n",
       "      <td>0.820127</td>\n",
       "      <td>1.111335</td>\n",
       "      <td>26401.53319</td>\n",
       "      <td>4880.951853</td>\n",
       "      <td>4824.726179</td>\n",
       "      <td>18886.252893</td>\n",
       "      <td>6.015861</td>\n",
       "    </tr>\n",
       "    <tr>\n",
       "      <th>min</th>\n",
       "      <td>0.000000</td>\n",
       "      <td>19.000000</td>\n",
       "      <td>100804.000000</td>\n",
       "      <td>500.000000</td>\n",
       "      <td>433.330000</td>\n",
       "      <td>-1.000000e+06</td>\n",
       "      <td>430104.000000</td>\n",
       "      <td>0.000000</td>\n",
       "      <td>-111100.000000</td>\n",
       "      <td>0.000000</td>\n",
       "      <td>1.00000</td>\n",
       "      <td>0.000000</td>\n",
       "      <td>0.000000</td>\n",
       "      <td>100.00000</td>\n",
       "      <td>0.000000</td>\n",
       "      <td>0.000000</td>\n",
       "      <td>70.000000</td>\n",
       "      <td>1995.000000</td>\n",
       "    </tr>\n",
       "    <tr>\n",
       "      <th>25%</th>\n",
       "      <td>115.750000</td>\n",
       "      <td>32.000000</td>\n",
       "      <td>335980.250000</td>\n",
       "      <td>500.000000</td>\n",
       "      <td>1089.607500</td>\n",
       "      <td>0.000000e+00</td>\n",
       "      <td>448404.500000</td>\n",
       "      <td>0.000000</td>\n",
       "      <td>-51500.000000</td>\n",
       "      <td>6.000000</td>\n",
       "      <td>1.00000</td>\n",
       "      <td>0.000000</td>\n",
       "      <td>1.000000</td>\n",
       "      <td>41812.50000</td>\n",
       "      <td>4295.000000</td>\n",
       "      <td>4445.000000</td>\n",
       "      <td>30292.500000</td>\n",
       "      <td>2000.000000</td>\n",
       "    </tr>\n",
       "    <tr>\n",
       "      <th>50%</th>\n",
       "      <td>199.500000</td>\n",
       "      <td>38.000000</td>\n",
       "      <td>533135.000000</td>\n",
       "      <td>1000.000000</td>\n",
       "      <td>1257.200000</td>\n",
       "      <td>0.000000e+00</td>\n",
       "      <td>466445.500000</td>\n",
       "      <td>0.000000</td>\n",
       "      <td>-23250.000000</td>\n",
       "      <td>12.000000</td>\n",
       "      <td>1.00000</td>\n",
       "      <td>1.000000</td>\n",
       "      <td>1.000000</td>\n",
       "      <td>58055.00000</td>\n",
       "      <td>6775.000000</td>\n",
       "      <td>6750.000000</td>\n",
       "      <td>42100.000000</td>\n",
       "      <td>2005.000000</td>\n",
       "    </tr>\n",
       "    <tr>\n",
       "      <th>75%</th>\n",
       "      <td>276.250000</td>\n",
       "      <td>44.000000</td>\n",
       "      <td>759099.750000</td>\n",
       "      <td>2000.000000</td>\n",
       "      <td>1415.695000</td>\n",
       "      <td>0.000000e+00</td>\n",
       "      <td>603251.000000</td>\n",
       "      <td>51025.000000</td>\n",
       "      <td>0.000000</td>\n",
       "      <td>17.000000</td>\n",
       "      <td>3.00000</td>\n",
       "      <td>2.000000</td>\n",
       "      <td>2.000000</td>\n",
       "      <td>70592.50000</td>\n",
       "      <td>11305.000000</td>\n",
       "      <td>10885.000000</td>\n",
       "      <td>50822.500000</td>\n",
       "      <td>2010.000000</td>\n",
       "    </tr>\n",
       "    <tr>\n",
       "      <th>max</th>\n",
       "      <td>479.000000</td>\n",
       "      <td>64.000000</td>\n",
       "      <td>999435.000000</td>\n",
       "      <td>2000.000000</td>\n",
       "      <td>2047.590000</td>\n",
       "      <td>1.000000e+07</td>\n",
       "      <td>620962.000000</td>\n",
       "      <td>100500.000000</td>\n",
       "      <td>0.000000</td>\n",
       "      <td>23.000000</td>\n",
       "      <td>4.00000</td>\n",
       "      <td>2.000000</td>\n",
       "      <td>3.000000</td>\n",
       "      <td>114920.00000</td>\n",
       "      <td>21450.000000</td>\n",
       "      <td>23670.000000</td>\n",
       "      <td>79560.000000</td>\n",
       "      <td>2015.000000</td>\n",
       "    </tr>\n",
       "  </tbody>\n",
       "</table>\n",
       "</div>"
      ],
      "text/plain": [
       "       months_as_customer          age  policy_number  policy_deductable  \\\n",
       "count         1000.000000  1000.000000    1000.000000        1000.000000   \n",
       "mean           203.954000    38.948000  546238.648000        1136.000000   \n",
       "std            115.113174     9.140287  257063.005276         611.864673   \n",
       "min              0.000000    19.000000  100804.000000         500.000000   \n",
       "25%            115.750000    32.000000  335980.250000         500.000000   \n",
       "50%            199.500000    38.000000  533135.000000        1000.000000   \n",
       "75%            276.250000    44.000000  759099.750000        2000.000000   \n",
       "max            479.000000    64.000000  999435.000000        2000.000000   \n",
       "\n",
       "       policy_annual_premium  umbrella_limit    insured_zip  capital-gains  \\\n",
       "count            1000.000000    1.000000e+03    1000.000000    1000.000000   \n",
       "mean             1256.406150    1.101000e+06  501214.488000   25126.100000   \n",
       "std               244.167395    2.297407e+06   71701.610941   27872.187708   \n",
       "min               433.330000   -1.000000e+06  430104.000000       0.000000   \n",
       "25%              1089.607500    0.000000e+00  448404.500000       0.000000   \n",
       "50%              1257.200000    0.000000e+00  466445.500000       0.000000   \n",
       "75%              1415.695000    0.000000e+00  603251.000000   51025.000000   \n",
       "max              2047.590000    1.000000e+07  620962.000000  100500.000000   \n",
       "\n",
       "        capital-loss  incident_hour_of_the_day  number_of_vehicles_involved  \\\n",
       "count    1000.000000               1000.000000                   1000.00000   \n",
       "mean   -26793.700000                 11.644000                      1.83900   \n",
       "std     28104.096686                  6.951373                      1.01888   \n",
       "min   -111100.000000                  0.000000                      1.00000   \n",
       "25%    -51500.000000                  6.000000                      1.00000   \n",
       "50%    -23250.000000                 12.000000                      1.00000   \n",
       "75%         0.000000                 17.000000                      3.00000   \n",
       "max         0.000000                 23.000000                      4.00000   \n",
       "\n",
       "       bodily_injuries    witnesses  total_claim_amount  injury_claim  \\\n",
       "count      1000.000000  1000.000000          1000.00000   1000.000000   \n",
       "mean          0.992000     1.487000         52761.94000   7433.420000   \n",
       "std           0.820127     1.111335         26401.53319   4880.951853   \n",
       "min           0.000000     0.000000           100.00000      0.000000   \n",
       "25%           0.000000     1.000000         41812.50000   4295.000000   \n",
       "50%           1.000000     1.000000         58055.00000   6775.000000   \n",
       "75%           2.000000     2.000000         70592.50000  11305.000000   \n",
       "max           2.000000     3.000000        114920.00000  21450.000000   \n",
       "\n",
       "       property_claim  vehicle_claim    auto_year  \n",
       "count     1000.000000    1000.000000  1000.000000  \n",
       "mean      7399.570000   37928.950000  2005.103000  \n",
       "std       4824.726179   18886.252893     6.015861  \n",
       "min          0.000000      70.000000  1995.000000  \n",
       "25%       4445.000000   30292.500000  2000.000000  \n",
       "50%       6750.000000   42100.000000  2005.000000  \n",
       "75%      10885.000000   50822.500000  2010.000000  \n",
       "max      23670.000000   79560.000000  2015.000000  "
      ]
     },
     "execution_count": 9,
     "metadata": {},
     "output_type": "execute_result"
    }
   ],
   "source": [
    "data.describe()"
   ]
  },
  {
   "cell_type": "markdown",
   "metadata": {},
   "source": [
    "# TYPES OF VARIABLES:"
   ]
  },
  {
   "cell_type": "code",
   "execution_count": 10,
   "metadata": {},
   "outputs": [
    {
     "data": {
      "text/plain": [
       "months_as_customer             0\n",
       "age                            0\n",
       "policy_number                  0\n",
       "policy_bind_date               0\n",
       "policy_state                   0\n",
       "policy_csl                     0\n",
       "policy_deductable              0\n",
       "policy_annual_premium          0\n",
       "umbrella_limit                 0\n",
       "insured_zip                    0\n",
       "insured_sex                    0\n",
       "insured_education_level        0\n",
       "insured_occupation             0\n",
       "insured_hobbies                0\n",
       "insured_relationship           0\n",
       "capital-gains                  0\n",
       "capital-loss                   0\n",
       "incident_date                  0\n",
       "incident_type                  0\n",
       "collision_type                 0\n",
       "incident_severity              0\n",
       "authorities_contacted          0\n",
       "incident_state                 0\n",
       "incident_city                  0\n",
       "incident_location              0\n",
       "incident_hour_of_the_day       0\n",
       "number_of_vehicles_involved    0\n",
       "property_damage                0\n",
       "bodily_injuries                0\n",
       "witnesses                      0\n",
       "police_report_available        0\n",
       "total_claim_amount             0\n",
       "injury_claim                   0\n",
       "property_claim                 0\n",
       "vehicle_claim                  0\n",
       "auto_make                      0\n",
       "auto_model                     0\n",
       "auto_year                      0\n",
       "fraud_reported                 0\n",
       "dtype: int64"
      ]
     },
     "execution_count": 10,
     "metadata": {},
     "output_type": "execute_result"
    }
   ],
   "source": [
    "data.isnull().sum()"
   ]
  },
  {
   "cell_type": "code",
   "execution_count": 11,
   "metadata": {},
   "outputs": [],
   "source": [
    "#data.drop(['EmployeeCount','EmployeeNumber','StandardHours'],axis=1,inplace=True)"
   ]
  },
  {
   "cell_type": "code",
   "execution_count": 12,
   "metadata": {},
   "outputs": [
    {
     "data": {
      "text/plain": [
       "['incident_date', 'auto_year', 'policy_bind_date']"
      ]
     },
     "execution_count": 12,
     "metadata": {},
     "output_type": "execute_result"
    }
   ],
   "source": [
    "temporal=['incident_date','auto_year','policy_bind_date']\n",
    "temporal"
   ]
  },
  {
   "cell_type": "code",
   "execution_count": 13,
   "metadata": {},
   "outputs": [
    {
     "data": {
      "text/plain": [
       "Index(['months_as_customer', 'age', 'policy_number', 'policy_bind_date',\n",
       "       'policy_state', 'policy_csl', 'policy_deductable',\n",
       "       'policy_annual_premium', 'umbrella_limit', 'insured_zip', 'insured_sex',\n",
       "       'insured_education_level', 'insured_occupation', 'insured_hobbies',\n",
       "       'insured_relationship', 'capital-gains', 'capital-loss',\n",
       "       'incident_date', 'incident_type', 'collision_type', 'incident_severity',\n",
       "       'authorities_contacted', 'incident_state', 'incident_city',\n",
       "       'incident_location', 'incident_hour_of_the_day',\n",
       "       'number_of_vehicles_involved', 'property_damage', 'bodily_injuries',\n",
       "       'witnesses', 'police_report_available', 'total_claim_amount',\n",
       "       'injury_claim', 'property_claim', 'vehicle_claim', 'auto_make',\n",
       "       'auto_model', 'auto_year', 'fraud_reported'],\n",
       "      dtype='object')"
      ]
     },
     "execution_count": 13,
     "metadata": {},
     "output_type": "execute_result"
    }
   ],
   "source": [
    "data.columns"
   ]
  },
  {
   "cell_type": "code",
   "execution_count": 14,
   "metadata": {},
   "outputs": [],
   "source": [
    "Street_no=[]\n",
    "for i in data['incident_location']:\n",
    "    Street_no.append(i.split(' ')[0])\n",
    "data['street_no']=Street_no    "
   ]
  },
  {
   "cell_type": "code",
   "execution_count": 15,
   "metadata": {},
   "outputs": [],
   "source": [
    "Street_name=[]\n",
    "for i in data['incident_location']:\n",
    "    Street_name.append(i[5:])\n",
    "data['Street_name']=Street_name"
   ]
  },
  {
   "cell_type": "code",
   "execution_count": 16,
   "metadata": {},
   "outputs": [],
   "source": [
    "data.drop('incident_location',axis=1,inplace=True)"
   ]
  },
  {
   "cell_type": "code",
   "execution_count": 17,
   "metadata": {},
   "outputs": [],
   "source": [
    "data.drop('street_no',axis=1,inplace=True)"
   ]
  },
  {
   "cell_type": "code",
   "execution_count": 18,
   "metadata": {},
   "outputs": [],
   "source": [
    "data.drop('total_claim_amount',axis=1,inplace=True)"
   ]
  },
  {
   "cell_type": "code",
   "execution_count": 19,
   "metadata": {},
   "outputs": [],
   "source": [
    "#data.drop('months_as_customer',axis=1,inplace=True)"
   ]
  },
  {
   "cell_type": "code",
   "execution_count": 20,
   "metadata": {},
   "outputs": [
    {
     "data": {
      "text/plain": [
       "19"
      ]
     },
     "execution_count": 20,
     "metadata": {},
     "output_type": "execute_result"
    }
   ],
   "source": [
    "categorical=[i for i in data.columns if data[i].dtypes=='O' and i not in temporal]\n",
    "len(categorical)"
   ]
  },
  {
   "cell_type": "code",
   "execution_count": 21,
   "metadata": {},
   "outputs": [
    {
     "name": "stdout",
     "output_type": "stream",
     "text": [
      "policy_state: ['OH' 'IN' 'IL']\n",
      "\n",
      "\n",
      "policy_csl: ['250/500' '100/300' '500/1000']\n",
      "\n",
      "\n",
      "insured_sex: ['MALE' 'FEMALE']\n",
      "\n",
      "\n",
      "insured_education_level: ['MD' 'PhD' 'Associate' 'Masters' 'High School' 'College' 'JD']\n",
      "\n",
      "\n",
      "insured_occupation: ['craft-repair' 'machine-op-inspct' 'sales' 'armed-forces' 'tech-support'\n",
      " 'prof-specialty' 'other-service' 'priv-house-serv' 'exec-managerial'\n",
      " 'protective-serv' 'transport-moving' 'handlers-cleaners' 'adm-clerical'\n",
      " 'farming-fishing']\n",
      "\n",
      "\n",
      "insured_hobbies: ['sleeping' 'reading' 'board-games' 'bungie-jumping' 'base-jumping' 'golf'\n",
      " 'camping' 'dancing' 'skydiving' 'movies' 'hiking' 'yachting' 'paintball'\n",
      " 'chess' 'kayaking' 'polo' 'basketball' 'video-games' 'cross-fit'\n",
      " 'exercise']\n",
      "\n",
      "\n",
      "insured_relationship: ['husband' 'other-relative' 'own-child' 'unmarried' 'wife' 'not-in-family']\n",
      "\n",
      "\n",
      "incident_type: ['Single Vehicle Collision' 'Vehicle Theft' 'Multi-vehicle Collision'\n",
      " 'Parked Car']\n",
      "\n",
      "\n",
      "collision_type: ['Side Collision' '?' 'Rear Collision' 'Front Collision']\n",
      "\n",
      "\n",
      "incident_severity: ['Major Damage' 'Minor Damage' 'Total Loss' 'Trivial Damage']\n",
      "\n",
      "\n",
      "authorities_contacted: ['Police' 'None' 'Fire' 'Other' 'Ambulance']\n",
      "\n",
      "\n",
      "incident_state: ['SC' 'VA' 'NY' 'OH' 'WV' 'NC' 'PA']\n",
      "\n",
      "\n",
      "incident_city: ['Columbus' 'Riverwood' 'Arlington' 'Springfield' 'Hillsdale' 'Northbend'\n",
      " 'Northbrook']\n",
      "\n",
      "\n",
      "property_damage: ['YES' '?' 'NO']\n",
      "\n",
      "\n",
      "police_report_available: ['YES' '?' 'NO']\n",
      "\n",
      "\n",
      "auto_make: ['Saab' 'Mercedes' 'Dodge' 'Chevrolet' 'Accura' 'Nissan' 'Audi' 'Toyota'\n",
      " 'Ford' 'Suburu' 'BMW' 'Jeep' 'Honda' 'Volkswagen']\n",
      "\n",
      "\n",
      "auto_model: ['92x' 'E400' 'RAM' 'Tahoe' 'RSX' '95' 'Pathfinder' 'A5' 'Camry' 'F150'\n",
      " 'A3' 'Highlander' 'Neon' 'MDX' 'Maxima' 'Legacy' 'TL' 'Impreza'\n",
      " 'Forrestor' 'Escape' 'Corolla' '3 Series' 'C300' 'Wrangler' 'M5' 'X5'\n",
      " 'Civic' 'Passat' 'Silverado' 'CRV' '93' 'Accord' 'X6' 'Malibu' 'Fusion'\n",
      " 'Jetta' 'ML350' 'Ultima' 'Grand Cherokee']\n",
      "\n",
      "\n",
      "fraud_reported: ['Y' 'N']\n",
      "\n",
      "\n",
      "Street_name: ['4th Drive' 'MLK Hwy' 'Francis Lane' 'Maple Drive' '3rd Ave'\n",
      " 'Washington St' 'Weaver Drive' '3rd Hwy' 'Rock Ridge' 'Francis Ave'\n",
      " '1st Ridge' '5th Hwy' '5th Drive' 'Elm Lane' '3rd Drive' 'Weaver Ave'\n",
      " '3rd St' 'Tree St' 'Solo Ridge' '3rd Ridge' 'Pine St' 'Embaracadero Ave'\n",
      " 'Apache Hwy' 'Texas Lane' 'Elm St' 'Andromedia Hwy' 'Rock Drive'\n",
      " 'Francis Drive' '2nd Lane' '5th Ave' 'Britain Ridge' 'Maple St'\n",
      " 'Sky Drive' 'Weaver St' 'Tree Lane' 'Embaracadero St' 'Flute St'\n",
      " 'Lincoln Hwy' 'MLK Drive' 'Oak Drive' 'Cherokee Lane' '4th St' 'Tree Ave'\n",
      " 'Flute Ave' 'Britain St' '4th Ave' 'Elm Drive' 'MLK Ridge' '2nd St'\n",
      " 'Best Drive' '4th Hwy' 'Britain Ave' 'Pine Hwy' '1st St' 'Cherokee Drive'\n",
      " 'Washington Ave' 'Flute Drive' 'Sky Hwy' 'Pine Ridge' 'Oak Ave'\n",
      " 'Washington Ridge' 'Maple Hwy' 'Texas Ridge' 'Elm Ave' 'Best Lane'\n",
      " 'Tree Drive' 'Best St' 'Sky Lane' 'Oak Hwy' 'Maple Lane' '5th Lane'\n",
      " 'Apache Ave' 'Sky St' 'Britain Hwy' 'Solo Lane' 'Solo Hwy'\n",
      " 'Britain Drive' 'Andromedia St' '2nd Hwy' 'MLK Ave' 'Tree Hwy'\n",
      " 'Texas Drive' '4th Ridge' 'Weaver Ridge' 'MLK St' '5th Ridge'\n",
      " 'Best Ridge' 'Texas St' 'Elm Ridge' 'Flute Ridge' 'Britain Lane'\n",
      " 'Francis Ridge' 'Solo Drive' 'Texas Hwy' 'Washington Drive' 'Rock Lane'\n",
      " 'Oak Lane' 'Washington Lane' 'Pine Drive' 'Embaracadero Hwy' '2nd Ave'\n",
      " 'Cherokee Hwy' 'Pine Ave' '1st Drive' 'MLK Lane' '1st Hwy' 'Francis St'\n",
      " 'Solo Ave' 'Apache Drive' 'Oak St' 'Solo St' 'Apache Lane' 'Best Hwy'\n",
      " 'Embaracadero Lane' 'Andromedia Ridge' 'Tree Ridge' 'Lincoln Drive'\n",
      " 'Sky Ridge' 'Lincoln Ridge' 'Pine Lane' 'Cherokee St' 'Cherokee Ave'\n",
      " 'Embaracadero Ridge' 'Lincoln Lane' '4th Lane' 'Apache Ridge'\n",
      " 'Lincoln Ave' 'Washington Hwy' 'Maple Ave' 'Francis Hwy' 'Weaver Hwy'\n",
      " 'Andromedia Drive' 'Apache St' 'Oak Ridge' '2nd Ridge' 'Sky Ave'\n",
      " 'Maple Ridge' '1st Lane' 'Rock St' 'Texas Ave' '5th St' 'Rock Ave'\n",
      " 'Flute Lane' 'Cherokee Ridge' '2nd Drive' 'Flute Hwy'\n",
      " 'Embaracadero Drive' 'Andromedia Lane' 'Weaver Lane' 'Andromedia Ave'\n",
      " 'Rock Hwy' 'Best Ave' 'Elm Hwy' '3rd Lane' 'Lincoln St' '1st Ave']\n",
      "\n",
      "\n"
     ]
    }
   ],
   "source": [
    "for var in categorical:\n",
    "    print(\"{a}: {b}\".format(a=var,b=data[var].unique()))\n",
    "    print ('\\n')"
   ]
  },
  {
   "cell_type": "code",
   "execution_count": 22,
   "metadata": {},
   "outputs": [
    {
     "data": {
      "text/plain": [
       "15"
      ]
     },
     "execution_count": 22,
     "metadata": {},
     "output_type": "execute_result"
    }
   ],
   "source": [
    "discrete=[i for i in data.columns if data[i].dtypes=='int64' and i not in temporal ]\n",
    "len(discrete)"
   ]
  },
  {
   "cell_type": "code",
   "execution_count": 23,
   "metadata": {},
   "outputs": [
    {
     "data": {
      "text/plain": [
       "1"
      ]
     },
     "execution_count": 23,
     "metadata": {},
     "output_type": "execute_result"
    }
   ],
   "source": [
    "continuous=[i for i in data.columns if data[i].dtypes=='float64']\n",
    "len(continuous)"
   ]
  },
  {
   "cell_type": "code",
   "execution_count": 24,
   "metadata": {},
   "outputs": [
    {
     "name": "stdout",
     "output_type": "stream",
     "text": [
      "False\n",
      "False\n",
      "False\n",
      "False\n",
      "False\n",
      "False\n",
      "False\n",
      "False\n",
      "False\n",
      "False\n",
      "False\n",
      "False\n",
      "False\n",
      "False\n",
      "False\n"
     ]
    }
   ],
   "source": [
    "for var in discrete:\n",
    "    if '?' in data[var]:\n",
    "        print ('{}-True'.format(var))\n",
    "    else: \n",
    "        print('False')"
   ]
  },
  {
   "cell_type": "code",
   "execution_count": 25,
   "metadata": {},
   "outputs": [
    {
     "data": {
      "text/plain": [
       "array(['YES', nan, 'NO'], dtype=object)"
      ]
     },
     "execution_count": 25,
     "metadata": {},
     "output_type": "execute_result"
    }
   ],
   "source": [
    "data['police_report_available'].replace('?',np.nan,inplace=True)\n",
    "data['police_report_available'].unique()"
   ]
  },
  {
   "cell_type": "code",
   "execution_count": 26,
   "metadata": {},
   "outputs": [
    {
     "data": {
      "text/plain": [
       "array(['YES', nan, 'NO'], dtype=object)"
      ]
     },
     "execution_count": 26,
     "metadata": {},
     "output_type": "execute_result"
    }
   ],
   "source": [
    "data['property_damage'].replace('?',np.nan,inplace=True)\n",
    "data['property_damage'].unique()"
   ]
  },
  {
   "cell_type": "code",
   "execution_count": 27,
   "metadata": {},
   "outputs": [
    {
     "data": {
      "text/plain": [
       "array(['Side Collision', nan, 'Rear Collision', 'Front Collision'],\n",
       "      dtype=object)"
      ]
     },
     "execution_count": 27,
     "metadata": {},
     "output_type": "execute_result"
    }
   ],
   "source": [
    "data['collision_type'].replace('?',np.nan,inplace=True)\n",
    "data['collision_type'].unique()"
   ]
  },
  {
   "cell_type": "markdown",
   "metadata": {},
   "source": [
    "# VARIABLE DISTRIBUTIONS:"
   ]
  },
  {
   "cell_type": "code",
   "execution_count": 28,
   "metadata": {},
   "outputs": [],
   "source": [
    "#data[discrete[:]].hist(bins=30)"
   ]
  },
  {
   "cell_type": "code",
   "execution_count": 29,
   "metadata": {},
   "outputs": [],
   "source": [
    "# fig, axs = plt.subplots(ncols=2, nrows=9,figsize=(14,14))\n",
    "# axs = axs.flatten() \n",
    "\n",
    "# for i, var in enumerate(discrete):\n",
    "#     sns.countplot(data[data[var].notnull()][var], ax=axs[i]);"
   ]
  },
  {
   "cell_type": "code",
   "execution_count": 30,
   "metadata": {},
   "outputs": [],
   "source": [
    "# fig, axs = plt.subplots(ncols=3, nrows=7,figsize=(14,14))\n",
    "# axs = axs.flatten()\n",
    "\n",
    "# for i, var in enumerate(categorical):\n",
    "#     sns.countplot(data[data[var].notnull()][var], ax=axs[i]);"
   ]
  },
  {
   "cell_type": "code",
   "execution_count": 31,
   "metadata": {},
   "outputs": [
    {
     "data": {
      "text/html": [
       "<div>\n",
       "<style scoped>\n",
       "    .dataframe tbody tr th:only-of-type {\n",
       "        vertical-align: middle;\n",
       "    }\n",
       "\n",
       "    .dataframe tbody tr th {\n",
       "        vertical-align: top;\n",
       "    }\n",
       "\n",
       "    .dataframe thead th {\n",
       "        text-align: right;\n",
       "    }\n",
       "</style>\n",
       "<table border=\"1\" class=\"dataframe\">\n",
       "  <thead>\n",
       "    <tr style=\"text-align: right;\">\n",
       "      <th></th>\n",
       "      <th>months_as_customer</th>\n",
       "      <th>age</th>\n",
       "      <th>policy_number</th>\n",
       "      <th>policy_deductable</th>\n",
       "      <th>policy_annual_premium</th>\n",
       "      <th>umbrella_limit</th>\n",
       "      <th>insured_zip</th>\n",
       "      <th>capital-gains</th>\n",
       "      <th>capital-loss</th>\n",
       "      <th>incident_hour_of_the_day</th>\n",
       "      <th>number_of_vehicles_involved</th>\n",
       "      <th>bodily_injuries</th>\n",
       "      <th>witnesses</th>\n",
       "      <th>injury_claim</th>\n",
       "      <th>property_claim</th>\n",
       "      <th>vehicle_claim</th>\n",
       "      <th>auto_year</th>\n",
       "    </tr>\n",
       "  </thead>\n",
       "  <tbody>\n",
       "    <tr>\n",
       "      <th>months_as_customer</th>\n",
       "      <td>1.000000</td>\n",
       "      <td>0.922098</td>\n",
       "      <td>0.057555</td>\n",
       "      <td>0.026807</td>\n",
       "      <td>0.005018</td>\n",
       "      <td>0.015498</td>\n",
       "      <td>0.017895</td>\n",
       "      <td>0.006399</td>\n",
       "      <td>0.020209</td>\n",
       "      <td>0.070639</td>\n",
       "      <td>0.014736</td>\n",
       "      <td>-0.010162</td>\n",
       "      <td>0.058383</td>\n",
       "      <td>0.065329</td>\n",
       "      <td>0.034940</td>\n",
       "      <td>0.061013</td>\n",
       "      <td>-0.000292</td>\n",
       "    </tr>\n",
       "    <tr>\n",
       "      <th>age</th>\n",
       "      <td>0.922098</td>\n",
       "      <td>1.000000</td>\n",
       "      <td>0.059413</td>\n",
       "      <td>0.029188</td>\n",
       "      <td>0.014404</td>\n",
       "      <td>0.018126</td>\n",
       "      <td>0.025604</td>\n",
       "      <td>-0.007075</td>\n",
       "      <td>0.007368</td>\n",
       "      <td>0.087161</td>\n",
       "      <td>0.022102</td>\n",
       "      <td>-0.015679</td>\n",
       "      <td>0.052359</td>\n",
       "      <td>0.075522</td>\n",
       "      <td>0.060898</td>\n",
       "      <td>0.062588</td>\n",
       "      <td>0.001354</td>\n",
       "    </tr>\n",
       "    <tr>\n",
       "      <th>policy_number</th>\n",
       "      <td>0.057555</td>\n",
       "      <td>0.059413</td>\n",
       "      <td>1.000000</td>\n",
       "      <td>-0.006738</td>\n",
       "      <td>0.022566</td>\n",
       "      <td>0.008968</td>\n",
       "      <td>0.007083</td>\n",
       "      <td>0.009802</td>\n",
       "      <td>-0.005669</td>\n",
       "      <td>0.000113</td>\n",
       "      <td>0.013432</td>\n",
       "      <td>-0.004558</td>\n",
       "      <td>-0.012661</td>\n",
       "      <td>-0.008762</td>\n",
       "      <td>-0.010678</td>\n",
       "      <td>-0.020184</td>\n",
       "      <td>-0.000183</td>\n",
       "    </tr>\n",
       "    <tr>\n",
       "      <th>policy_deductable</th>\n",
       "      <td>0.026807</td>\n",
       "      <td>0.029188</td>\n",
       "      <td>-0.006738</td>\n",
       "      <td>1.000000</td>\n",
       "      <td>-0.003245</td>\n",
       "      <td>0.010870</td>\n",
       "      <td>0.004545</td>\n",
       "      <td>0.035212</td>\n",
       "      <td>-0.023544</td>\n",
       "      <td>0.060935</td>\n",
       "      <td>0.051214</td>\n",
       "      <td>-0.022765</td>\n",
       "      <td>0.066639</td>\n",
       "      <td>0.039107</td>\n",
       "      <td>0.064792</td>\n",
       "      <td>0.005269</td>\n",
       "      <td>0.026105</td>\n",
       "    </tr>\n",
       "    <tr>\n",
       "      <th>policy_annual_premium</th>\n",
       "      <td>0.005018</td>\n",
       "      <td>0.014404</td>\n",
       "      <td>0.022566</td>\n",
       "      <td>-0.003245</td>\n",
       "      <td>1.000000</td>\n",
       "      <td>-0.006247</td>\n",
       "      <td>0.032354</td>\n",
       "      <td>-0.013738</td>\n",
       "      <td>0.023547</td>\n",
       "      <td>-0.001578</td>\n",
       "      <td>-0.045991</td>\n",
       "      <td>0.026780</td>\n",
       "      <td>0.002332</td>\n",
       "      <td>-0.017633</td>\n",
       "      <td>-0.011654</td>\n",
       "      <td>0.020246</td>\n",
       "      <td>-0.049226</td>\n",
       "    </tr>\n",
       "    <tr>\n",
       "      <th>umbrella_limit</th>\n",
       "      <td>0.015498</td>\n",
       "      <td>0.018126</td>\n",
       "      <td>0.008968</td>\n",
       "      <td>0.010870</td>\n",
       "      <td>-0.006247</td>\n",
       "      <td>1.000000</td>\n",
       "      <td>0.019671</td>\n",
       "      <td>-0.047268</td>\n",
       "      <td>-0.024056</td>\n",
       "      <td>-0.023257</td>\n",
       "      <td>-0.021270</td>\n",
       "      <td>0.022743</td>\n",
       "      <td>-0.006738</td>\n",
       "      <td>-0.045412</td>\n",
       "      <td>-0.023790</td>\n",
       "      <td>-0.038584</td>\n",
       "      <td>0.009893</td>\n",
       "    </tr>\n",
       "    <tr>\n",
       "      <th>insured_zip</th>\n",
       "      <td>0.017895</td>\n",
       "      <td>0.025604</td>\n",
       "      <td>0.007083</td>\n",
       "      <td>0.004545</td>\n",
       "      <td>0.032354</td>\n",
       "      <td>0.019671</td>\n",
       "      <td>1.000000</td>\n",
       "      <td>0.006303</td>\n",
       "      <td>0.049372</td>\n",
       "      <td>0.008274</td>\n",
       "      <td>0.027448</td>\n",
       "      <td>0.028695</td>\n",
       "      <td>0.019805</td>\n",
       "      <td>-0.017495</td>\n",
       "      <td>-0.006841</td>\n",
       "      <td>-0.041083</td>\n",
       "      <td>-0.032736</td>\n",
       "    </tr>\n",
       "    <tr>\n",
       "      <th>capital-gains</th>\n",
       "      <td>0.006399</td>\n",
       "      <td>-0.007075</td>\n",
       "      <td>0.009802</td>\n",
       "      <td>0.035212</td>\n",
       "      <td>-0.013738</td>\n",
       "      <td>-0.047268</td>\n",
       "      <td>0.006303</td>\n",
       "      <td>1.000000</td>\n",
       "      <td>-0.046904</td>\n",
       "      <td>-0.016406</td>\n",
       "      <td>0.061643</td>\n",
       "      <td>0.055829</td>\n",
       "      <td>-0.017651</td>\n",
       "      <td>0.025934</td>\n",
       "      <td>-0.000779</td>\n",
       "      <td>0.015836</td>\n",
       "      <td>0.031398</td>\n",
       "    </tr>\n",
       "    <tr>\n",
       "      <th>capital-loss</th>\n",
       "      <td>0.020209</td>\n",
       "      <td>0.007368</td>\n",
       "      <td>-0.005669</td>\n",
       "      <td>-0.023544</td>\n",
       "      <td>0.023547</td>\n",
       "      <td>-0.024056</td>\n",
       "      <td>0.049372</td>\n",
       "      <td>-0.046904</td>\n",
       "      <td>1.000000</td>\n",
       "      <td>-0.025054</td>\n",
       "      <td>-0.014895</td>\n",
       "      <td>-0.024418</td>\n",
       "      <td>-0.041330</td>\n",
       "      <td>-0.046060</td>\n",
       "      <td>-0.022863</td>\n",
       "      <td>-0.032665</td>\n",
       "      <td>-0.056615</td>\n",
       "    </tr>\n",
       "    <tr>\n",
       "      <th>incident_hour_of_the_day</th>\n",
       "      <td>0.070639</td>\n",
       "      <td>0.087161</td>\n",
       "      <td>0.000113</td>\n",
       "      <td>0.060935</td>\n",
       "      <td>-0.001578</td>\n",
       "      <td>-0.023257</td>\n",
       "      <td>0.008274</td>\n",
       "      <td>-0.016406</td>\n",
       "      <td>-0.025054</td>\n",
       "      <td>1.000000</td>\n",
       "      <td>0.120794</td>\n",
       "      <td>-0.034563</td>\n",
       "      <td>0.006527</td>\n",
       "      <td>0.165768</td>\n",
       "      <td>0.179536</td>\n",
       "      <td>0.215626</td>\n",
       "      <td>0.021368</td>\n",
       "    </tr>\n",
       "    <tr>\n",
       "      <th>number_of_vehicles_involved</th>\n",
       "      <td>0.014736</td>\n",
       "      <td>0.022102</td>\n",
       "      <td>0.013432</td>\n",
       "      <td>0.051214</td>\n",
       "      <td>-0.045991</td>\n",
       "      <td>-0.021270</td>\n",
       "      <td>0.027448</td>\n",
       "      <td>0.061643</td>\n",
       "      <td>-0.014895</td>\n",
       "      <td>0.120794</td>\n",
       "      <td>1.000000</td>\n",
       "      <td>0.014030</td>\n",
       "      <td>-0.014669</td>\n",
       "      <td>0.224650</td>\n",
       "      <td>0.219084</td>\n",
       "      <td>0.269393</td>\n",
       "      <td>0.034554</td>\n",
       "    </tr>\n",
       "    <tr>\n",
       "      <th>bodily_injuries</th>\n",
       "      <td>-0.010162</td>\n",
       "      <td>-0.015679</td>\n",
       "      <td>-0.004558</td>\n",
       "      <td>-0.022765</td>\n",
       "      <td>0.026780</td>\n",
       "      <td>0.022743</td>\n",
       "      <td>0.028695</td>\n",
       "      <td>0.055829</td>\n",
       "      <td>-0.024418</td>\n",
       "      <td>-0.034563</td>\n",
       "      <td>0.014030</td>\n",
       "      <td>1.000000</td>\n",
       "      <td>-0.005606</td>\n",
       "      <td>0.047319</td>\n",
       "      <td>0.039749</td>\n",
       "      <td>0.043449</td>\n",
       "      <td>-0.020527</td>\n",
       "    </tr>\n",
       "    <tr>\n",
       "      <th>witnesses</th>\n",
       "      <td>0.058383</td>\n",
       "      <td>0.052359</td>\n",
       "      <td>-0.012661</td>\n",
       "      <td>0.066639</td>\n",
       "      <td>0.002332</td>\n",
       "      <td>-0.006738</td>\n",
       "      <td>0.019805</td>\n",
       "      <td>-0.017651</td>\n",
       "      <td>-0.041330</td>\n",
       "      <td>0.006527</td>\n",
       "      <td>-0.014669</td>\n",
       "      <td>-0.005606</td>\n",
       "      <td>1.000000</td>\n",
       "      <td>-0.024843</td>\n",
       "      <td>0.052640</td>\n",
       "      <td>-0.022564</td>\n",
       "      <td>0.045791</td>\n",
       "    </tr>\n",
       "    <tr>\n",
       "      <th>injury_claim</th>\n",
       "      <td>0.065329</td>\n",
       "      <td>0.075522</td>\n",
       "      <td>-0.008762</td>\n",
       "      <td>0.039107</td>\n",
       "      <td>-0.017633</td>\n",
       "      <td>-0.045412</td>\n",
       "      <td>-0.017495</td>\n",
       "      <td>0.025934</td>\n",
       "      <td>-0.046060</td>\n",
       "      <td>0.165768</td>\n",
       "      <td>0.224650</td>\n",
       "      <td>0.047319</td>\n",
       "      <td>-0.024843</td>\n",
       "      <td>1.000000</td>\n",
       "      <td>0.563866</td>\n",
       "      <td>0.722878</td>\n",
       "      <td>-0.013718</td>\n",
       "    </tr>\n",
       "    <tr>\n",
       "      <th>property_claim</th>\n",
       "      <td>0.034940</td>\n",
       "      <td>0.060898</td>\n",
       "      <td>-0.010678</td>\n",
       "      <td>0.064792</td>\n",
       "      <td>-0.011654</td>\n",
       "      <td>-0.023790</td>\n",
       "      <td>-0.006841</td>\n",
       "      <td>-0.000779</td>\n",
       "      <td>-0.022863</td>\n",
       "      <td>0.179536</td>\n",
       "      <td>0.219084</td>\n",
       "      <td>0.039749</td>\n",
       "      <td>0.052640</td>\n",
       "      <td>0.563866</td>\n",
       "      <td>1.000000</td>\n",
       "      <td>0.732090</td>\n",
       "      <td>-0.014508</td>\n",
       "    </tr>\n",
       "    <tr>\n",
       "      <th>vehicle_claim</th>\n",
       "      <td>0.061013</td>\n",
       "      <td>0.062588</td>\n",
       "      <td>-0.020184</td>\n",
       "      <td>0.005269</td>\n",
       "      <td>0.020246</td>\n",
       "      <td>-0.038584</td>\n",
       "      <td>-0.041083</td>\n",
       "      <td>0.015836</td>\n",
       "      <td>-0.032665</td>\n",
       "      <td>0.215626</td>\n",
       "      <td>0.269393</td>\n",
       "      <td>0.043449</td>\n",
       "      <td>-0.022564</td>\n",
       "      <td>0.722878</td>\n",
       "      <td>0.732090</td>\n",
       "      <td>1.000000</td>\n",
       "      <td>-0.042768</td>\n",
       "    </tr>\n",
       "    <tr>\n",
       "      <th>auto_year</th>\n",
       "      <td>-0.000292</td>\n",
       "      <td>0.001354</td>\n",
       "      <td>-0.000183</td>\n",
       "      <td>0.026105</td>\n",
       "      <td>-0.049226</td>\n",
       "      <td>0.009893</td>\n",
       "      <td>-0.032736</td>\n",
       "      <td>0.031398</td>\n",
       "      <td>-0.056615</td>\n",
       "      <td>0.021368</td>\n",
       "      <td>0.034554</td>\n",
       "      <td>-0.020527</td>\n",
       "      <td>0.045791</td>\n",
       "      <td>-0.013718</td>\n",
       "      <td>-0.014508</td>\n",
       "      <td>-0.042768</td>\n",
       "      <td>1.000000</td>\n",
       "    </tr>\n",
       "  </tbody>\n",
       "</table>\n",
       "</div>"
      ],
      "text/plain": [
       "                             months_as_customer       age  policy_number  \\\n",
       "months_as_customer                     1.000000  0.922098       0.057555   \n",
       "age                                    0.922098  1.000000       0.059413   \n",
       "policy_number                          0.057555  0.059413       1.000000   \n",
       "policy_deductable                      0.026807  0.029188      -0.006738   \n",
       "policy_annual_premium                  0.005018  0.014404       0.022566   \n",
       "umbrella_limit                         0.015498  0.018126       0.008968   \n",
       "insured_zip                            0.017895  0.025604       0.007083   \n",
       "capital-gains                          0.006399 -0.007075       0.009802   \n",
       "capital-loss                           0.020209  0.007368      -0.005669   \n",
       "incident_hour_of_the_day               0.070639  0.087161       0.000113   \n",
       "number_of_vehicles_involved            0.014736  0.022102       0.013432   \n",
       "bodily_injuries                       -0.010162 -0.015679      -0.004558   \n",
       "witnesses                              0.058383  0.052359      -0.012661   \n",
       "injury_claim                           0.065329  0.075522      -0.008762   \n",
       "property_claim                         0.034940  0.060898      -0.010678   \n",
       "vehicle_claim                          0.061013  0.062588      -0.020184   \n",
       "auto_year                             -0.000292  0.001354      -0.000183   \n",
       "\n",
       "                             policy_deductable  policy_annual_premium  \\\n",
       "months_as_customer                    0.026807               0.005018   \n",
       "age                                   0.029188               0.014404   \n",
       "policy_number                        -0.006738               0.022566   \n",
       "policy_deductable                     1.000000              -0.003245   \n",
       "policy_annual_premium                -0.003245               1.000000   \n",
       "umbrella_limit                        0.010870              -0.006247   \n",
       "insured_zip                           0.004545               0.032354   \n",
       "capital-gains                         0.035212              -0.013738   \n",
       "capital-loss                         -0.023544               0.023547   \n",
       "incident_hour_of_the_day              0.060935              -0.001578   \n",
       "number_of_vehicles_involved           0.051214              -0.045991   \n",
       "bodily_injuries                      -0.022765               0.026780   \n",
       "witnesses                             0.066639               0.002332   \n",
       "injury_claim                          0.039107              -0.017633   \n",
       "property_claim                        0.064792              -0.011654   \n",
       "vehicle_claim                         0.005269               0.020246   \n",
       "auto_year                             0.026105              -0.049226   \n",
       "\n",
       "                             umbrella_limit  insured_zip  capital-gains  \\\n",
       "months_as_customer                 0.015498     0.017895       0.006399   \n",
       "age                                0.018126     0.025604      -0.007075   \n",
       "policy_number                      0.008968     0.007083       0.009802   \n",
       "policy_deductable                  0.010870     0.004545       0.035212   \n",
       "policy_annual_premium             -0.006247     0.032354      -0.013738   \n",
       "umbrella_limit                     1.000000     0.019671      -0.047268   \n",
       "insured_zip                        0.019671     1.000000       0.006303   \n",
       "capital-gains                     -0.047268     0.006303       1.000000   \n",
       "capital-loss                      -0.024056     0.049372      -0.046904   \n",
       "incident_hour_of_the_day          -0.023257     0.008274      -0.016406   \n",
       "number_of_vehicles_involved       -0.021270     0.027448       0.061643   \n",
       "bodily_injuries                    0.022743     0.028695       0.055829   \n",
       "witnesses                         -0.006738     0.019805      -0.017651   \n",
       "injury_claim                      -0.045412    -0.017495       0.025934   \n",
       "property_claim                    -0.023790    -0.006841      -0.000779   \n",
       "vehicle_claim                     -0.038584    -0.041083       0.015836   \n",
       "auto_year                          0.009893    -0.032736       0.031398   \n",
       "\n",
       "                             capital-loss  incident_hour_of_the_day  \\\n",
       "months_as_customer               0.020209                  0.070639   \n",
       "age                              0.007368                  0.087161   \n",
       "policy_number                   -0.005669                  0.000113   \n",
       "policy_deductable               -0.023544                  0.060935   \n",
       "policy_annual_premium            0.023547                 -0.001578   \n",
       "umbrella_limit                  -0.024056                 -0.023257   \n",
       "insured_zip                      0.049372                  0.008274   \n",
       "capital-gains                   -0.046904                 -0.016406   \n",
       "capital-loss                     1.000000                 -0.025054   \n",
       "incident_hour_of_the_day        -0.025054                  1.000000   \n",
       "number_of_vehicles_involved     -0.014895                  0.120794   \n",
       "bodily_injuries                 -0.024418                 -0.034563   \n",
       "witnesses                       -0.041330                  0.006527   \n",
       "injury_claim                    -0.046060                  0.165768   \n",
       "property_claim                  -0.022863                  0.179536   \n",
       "vehicle_claim                   -0.032665                  0.215626   \n",
       "auto_year                       -0.056615                  0.021368   \n",
       "\n",
       "                             number_of_vehicles_involved  bodily_injuries  \\\n",
       "months_as_customer                              0.014736        -0.010162   \n",
       "age                                             0.022102        -0.015679   \n",
       "policy_number                                   0.013432        -0.004558   \n",
       "policy_deductable                               0.051214        -0.022765   \n",
       "policy_annual_premium                          -0.045991         0.026780   \n",
       "umbrella_limit                                 -0.021270         0.022743   \n",
       "insured_zip                                     0.027448         0.028695   \n",
       "capital-gains                                   0.061643         0.055829   \n",
       "capital-loss                                   -0.014895        -0.024418   \n",
       "incident_hour_of_the_day                        0.120794        -0.034563   \n",
       "number_of_vehicles_involved                     1.000000         0.014030   \n",
       "bodily_injuries                                 0.014030         1.000000   \n",
       "witnesses                                      -0.014669        -0.005606   \n",
       "injury_claim                                    0.224650         0.047319   \n",
       "property_claim                                  0.219084         0.039749   \n",
       "vehicle_claim                                   0.269393         0.043449   \n",
       "auto_year                                       0.034554        -0.020527   \n",
       "\n",
       "                             witnesses  injury_claim  property_claim  \\\n",
       "months_as_customer            0.058383      0.065329        0.034940   \n",
       "age                           0.052359      0.075522        0.060898   \n",
       "policy_number                -0.012661     -0.008762       -0.010678   \n",
       "policy_deductable             0.066639      0.039107        0.064792   \n",
       "policy_annual_premium         0.002332     -0.017633       -0.011654   \n",
       "umbrella_limit               -0.006738     -0.045412       -0.023790   \n",
       "insured_zip                   0.019805     -0.017495       -0.006841   \n",
       "capital-gains                -0.017651      0.025934       -0.000779   \n",
       "capital-loss                 -0.041330     -0.046060       -0.022863   \n",
       "incident_hour_of_the_day      0.006527      0.165768        0.179536   \n",
       "number_of_vehicles_involved  -0.014669      0.224650        0.219084   \n",
       "bodily_injuries              -0.005606      0.047319        0.039749   \n",
       "witnesses                     1.000000     -0.024843        0.052640   \n",
       "injury_claim                 -0.024843      1.000000        0.563866   \n",
       "property_claim                0.052640      0.563866        1.000000   \n",
       "vehicle_claim                -0.022564      0.722878        0.732090   \n",
       "auto_year                     0.045791     -0.013718       -0.014508   \n",
       "\n",
       "                             vehicle_claim  auto_year  \n",
       "months_as_customer                0.061013  -0.000292  \n",
       "age                               0.062588   0.001354  \n",
       "policy_number                    -0.020184  -0.000183  \n",
       "policy_deductable                 0.005269   0.026105  \n",
       "policy_annual_premium             0.020246  -0.049226  \n",
       "umbrella_limit                   -0.038584   0.009893  \n",
       "insured_zip                      -0.041083  -0.032736  \n",
       "capital-gains                     0.015836   0.031398  \n",
       "capital-loss                     -0.032665  -0.056615  \n",
       "incident_hour_of_the_day          0.215626   0.021368  \n",
       "number_of_vehicles_involved       0.269393   0.034554  \n",
       "bodily_injuries                   0.043449  -0.020527  \n",
       "witnesses                        -0.022564   0.045791  \n",
       "injury_claim                      0.722878  -0.013718  \n",
       "property_claim                    0.732090  -0.014508  \n",
       "vehicle_claim                     1.000000  -0.042768  \n",
       "auto_year                        -0.042768   1.000000  "
      ]
     },
     "execution_count": 31,
     "metadata": {},
     "output_type": "execute_result"
    }
   ],
   "source": [
    "cor=data.corr()\n",
    "cor"
   ]
  },
  {
   "cell_type": "code",
   "execution_count": 32,
   "metadata": {},
   "outputs": [
    {
     "data": {
      "text/plain": [
       "<matplotlib.axes._subplots.AxesSubplot at 0x24d55140308>"
      ]
     },
     "execution_count": 32,
     "metadata": {},
     "output_type": "execute_result"
    },
    {
     "data": {
      "image/png": "[encoded data removed]",
      "text/plain": [
       "<Figure size 1008x1008 with 2 Axes>"
      ]
     },
     "metadata": {
      "needs_background": "light"
     },
     "output_type": "display_data"
    }
   ],
   "source": [
    "mask = np.triu(np.ones_like(cor, dtype=np.bool))\n",
    "\n",
    "# Set up the matplotlib figure\n",
    "f, ax = plt.subplots(figsize=(14,14))\n",
    "\n",
    "\n",
    "# Generate a custom diverging colormap\n",
    "\n",
    "# Draw the heatmap with the mask and correct aspect ratio\n",
    "sns.heatmap(cor, mask=mask, cmap='YlGnBu', vmax=.3, center=0,annot=True,\n",
    "            square=True, linewidths=.5, cbar_kws={\"shrink\": .5})"
   ]
  },
  {
   "cell_type": "markdown",
   "metadata": {},
   "source": [
    "# MISSING VALUES :\n"
   ]
  },
  {
   "cell_type": "code",
   "execution_count": 33,
   "metadata": {},
   "outputs": [
    {
     "data": {
      "text/plain": [
       "months_as_customer             False\n",
       "age                            False\n",
       "policy_number                  False\n",
       "policy_bind_date               False\n",
       "policy_state                   False\n",
       "policy_csl                     False\n",
       "policy_deductable              False\n",
       "policy_annual_premium          False\n",
       "umbrella_limit                 False\n",
       "insured_zip                    False\n",
       "insured_sex                    False\n",
       "insured_education_level        False\n",
       "insured_occupation             False\n",
       "insured_hobbies                False\n",
       "insured_relationship           False\n",
       "capital-gains                  False\n",
       "capital-loss                   False\n",
       "incident_date                  False\n",
       "incident_type                  False\n",
       "collision_type                  True\n",
       "incident_severity              False\n",
       "authorities_contacted          False\n",
       "incident_state                 False\n",
       "incident_city                  False\n",
       "incident_hour_of_the_day       False\n",
       "number_of_vehicles_involved    False\n",
       "property_damage                 True\n",
       "bodily_injuries                False\n",
       "witnesses                      False\n",
       "police_report_available         True\n",
       "injury_claim                   False\n",
       "property_claim                 False\n",
       "vehicle_claim                  False\n",
       "auto_make                      False\n",
       "auto_model                     False\n",
       "auto_year                      False\n",
       "fraud_reported                 False\n",
       "Street_name                    False\n",
       "dtype: bool"
      ]
     },
     "execution_count": 33,
     "metadata": {},
     "output_type": "execute_result"
    }
   ],
   "source": [
    "data.isnull().any()"
   ]
  },
  {
   "cell_type": "code",
   "execution_count": 34,
   "metadata": {},
   "outputs": [
    {
     "data": {
      "text/plain": [
       "months_as_customer               0\n",
       "age                              0\n",
       "policy_number                    0\n",
       "policy_bind_date                 0\n",
       "policy_state                     0\n",
       "policy_csl                       0\n",
       "policy_deductable                0\n",
       "policy_annual_premium            0\n",
       "umbrella_limit                   0\n",
       "insured_zip                      0\n",
       "insured_sex                      0\n",
       "insured_education_level          0\n",
       "insured_occupation               0\n",
       "insured_hobbies                  0\n",
       "insured_relationship             0\n",
       "capital-gains                    0\n",
       "capital-loss                     0\n",
       "incident_date                    0\n",
       "incident_type                    0\n",
       "collision_type                 178\n",
       "incident_severity                0\n",
       "authorities_contacted            0\n",
       "incident_state                   0\n",
       "incident_city                    0\n",
       "incident_hour_of_the_day         0\n",
       "number_of_vehicles_involved      0\n",
       "property_damage                360\n",
       "bodily_injuries                  0\n",
       "witnesses                        0\n",
       "police_report_available        343\n",
       "injury_claim                     0\n",
       "property_claim                   0\n",
       "vehicle_claim                    0\n",
       "auto_make                        0\n",
       "auto_model                       0\n",
       "auto_year                        0\n",
       "fraud_reported                   0\n",
       "Street_name                      0\n",
       "dtype: int64"
      ]
     },
     "execution_count": 34,
     "metadata": {},
     "output_type": "execute_result"
    }
   ],
   "source": [
    "data.isnull().sum()"
   ]
  },
  {
   "cell_type": "code",
   "execution_count": 35,
   "metadata": {},
   "outputs": [
    {
     "name": "stdout",
     "output_type": "stream",
     "text": [
      "months_as_customer:0\n",
      "age:0\n",
      "policy_number:0\n",
      "policy_bind_date:0\n",
      "policy_state:0\n",
      "policy_csl:0\n",
      "policy_deductable:0\n",
      "policy_annual_premium:0\n",
      "umbrella_limit:0\n",
      "insured_zip:0\n",
      "insured_sex:0\n",
      "insured_education_level:0\n",
      "insured_occupation:0\n",
      "insured_hobbies:0\n",
      "insured_relationship:0\n",
      "capital-gains:0\n",
      "capital-loss:0\n",
      "incident_date:0\n",
      "incident_type:0\n",
      "collision_type:178\n",
      "incident_severity:0\n",
      "authorities_contacted:0\n",
      "incident_state:0\n",
      "incident_city:0\n",
      "incident_hour_of_the_day:0\n",
      "number_of_vehicles_involved:0\n",
      "property_damage:360\n",
      "bodily_injuries:0\n",
      "witnesses:0\n",
      "police_report_available:343\n",
      "injury_claim:0\n",
      "property_claim:0\n",
      "vehicle_claim:0\n",
      "auto_make:0\n",
      "auto_model:0\n",
      "auto_year:0\n",
      "fraud_reported:0\n",
      "Street_name:0\n"
     ]
    }
   ],
   "source": [
    "for i in data.columns:\n",
    "    print(\"{}:{}\".format(i,data[i].isnull().sum()))"
   ]
  },
  {
   "cell_type": "code",
   "execution_count": 36,
   "metadata": {},
   "outputs": [
    {
     "name": "stdout",
     "output_type": "stream",
     "text": [
      "months_as_customer:0.0\n",
      "age:0.0\n",
      "policy_number:0.0\n",
      "policy_bind_date:0.0\n",
      "policy_state:0.0\n",
      "policy_csl:0.0\n",
      "policy_deductable:0.0\n",
      "policy_annual_premium:0.0\n",
      "umbrella_limit:0.0\n",
      "insured_zip:0.0\n",
      "insured_sex:0.0\n",
      "insured_education_level:0.0\n",
      "insured_occupation:0.0\n",
      "insured_hobbies:0.0\n",
      "insured_relationship:0.0\n",
      "capital-gains:0.0\n",
      "capital-loss:0.0\n",
      "incident_date:0.0\n",
      "incident_type:0.0\n",
      "collision_type:0.178\n",
      "incident_severity:0.0\n",
      "authorities_contacted:0.0\n",
      "incident_state:0.0\n",
      "incident_city:0.0\n",
      "incident_hour_of_the_day:0.0\n",
      "number_of_vehicles_involved:0.0\n",
      "property_damage:0.36\n",
      "bodily_injuries:0.0\n",
      "witnesses:0.0\n",
      "police_report_available:0.343\n",
      "injury_claim:0.0\n",
      "property_claim:0.0\n",
      "vehicle_claim:0.0\n",
      "auto_make:0.0\n",
      "auto_model:0.0\n",
      "auto_year:0.0\n",
      "fraud_reported:0.0\n",
      "Street_name:0.0\n"
     ]
    }
   ],
   "source": [
    "for i in data.columns:\n",
    "    print(\"{}:{}\".format(i,data[i].isnull().mean()))"
   ]
  },
  {
   "cell_type": "markdown",
   "metadata": {},
   "source": [
    "# FREQUENCY DISTRIBUTIONS"
   ]
  },
  {
   "cell_type": "code",
   "execution_count": 37,
   "metadata": {},
   "outputs": [
    {
     "data": {
      "text/plain": [
       "months_as_customer              391\n",
       "age                              46\n",
       "policy_number                  1000\n",
       "policy_bind_date                951\n",
       "policy_state                      3\n",
       "policy_csl                        3\n",
       "policy_deductable                 3\n",
       "policy_annual_premium           991\n",
       "umbrella_limit                   11\n",
       "insured_zip                     995\n",
       "insured_sex                       2\n",
       "insured_education_level           7\n",
       "insured_occupation               14\n",
       "insured_hobbies                  20\n",
       "insured_relationship              6\n",
       "capital-gains                   338\n",
       "capital-loss                    354\n",
       "incident_date                    60\n",
       "incident_type                     4\n",
       "collision_type                    3\n",
       "incident_severity                 4\n",
       "authorities_contacted             5\n",
       "incident_state                    7\n",
       "incident_city                     7\n",
       "incident_hour_of_the_day         24\n",
       "number_of_vehicles_involved       4\n",
       "property_damage                   2\n",
       "bodily_injuries                   3\n",
       "witnesses                         4\n",
       "police_report_available           2\n",
       "injury_claim                    638\n",
       "property_claim                  626\n",
       "vehicle_claim                   726\n",
       "auto_make                        14\n",
       "auto_model                       39\n",
       "auto_year                        21\n",
       "fraud_reported                    2\n",
       "Street_name                     156\n",
       "dtype: int64"
      ]
     },
     "execution_count": 37,
     "metadata": {},
     "output_type": "execute_result"
    }
   ],
   "source": [
    " data.nunique()"
   ]
  },
  {
   "cell_type": "code",
   "execution_count": 38,
   "metadata": {},
   "outputs": [
    {
     "data": {
      "text/plain": [
       "policy_state                 3\n",
       "policy_csl                   3\n",
       "insured_sex                  2\n",
       "insured_education_level      7\n",
       "insured_occupation          14\n",
       "insured_hobbies             20\n",
       "insured_relationship         6\n",
       "incident_type                4\n",
       "collision_type               3\n",
       "incident_severity            4\n",
       "authorities_contacted        5\n",
       "incident_state               7\n",
       "incident_city                7\n",
       "property_damage              2\n",
       "police_report_available      2\n",
       "auto_make                   14\n",
       "auto_model                  39\n",
       "fraud_reported               2\n",
       "Street_name                156\n",
       "dtype: int64"
      ]
     },
     "execution_count": 38,
     "metadata": {},
     "output_type": "execute_result"
    }
   ],
   "source": [
    "data[categorical].nunique()"
   ]
  },
  {
   "cell_type": "code",
   "execution_count": 39,
   "metadata": {
    "scrolled": false
   },
   "outputs": [
    {
     "name": "stdout",
     "output_type": "stream",
     "text": [
      "policy_state\n",
      "OH    35.20 %\n",
      "IL    33.80 %\n",
      "IN    31.00 %\n",
      "Name: policy_state, dtype: object\n",
      "policy_csl\n",
      "250/500     35.10 %\n",
      "100/300     34.90 %\n",
      "500/1000    30.00 %\n",
      "Name: policy_csl, dtype: object\n",
      "insured_sex\n",
      "FEMALE    53.70 %\n",
      "MALE      46.30 %\n",
      "Name: insured_sex, dtype: object\n",
      "insured_education_level\n",
      "JD             16.10 %\n",
      "High School    16.00 %\n",
      "Associate      14.50 %\n",
      "MD             14.40 %\n",
      "Masters        14.30 %\n",
      "PhD            12.50 %\n",
      "College        12.20 %\n",
      "Name: insured_education_level, dtype: object\n",
      "insured_occupation\n",
      "machine-op-inspct    9.30 %\n",
      "prof-specialty       8.50 %\n",
      "tech-support         7.80 %\n",
      "exec-managerial      7.60 %\n",
      "sales                7.60 %\n",
      "craft-repair         7.40 %\n",
      "transport-moving     7.20 %\n",
      "priv-house-serv      7.10 %\n",
      "other-service        7.10 %\n",
      "armed-forces         6.90 %\n",
      "adm-clerical         6.50 %\n",
      "protective-serv      6.30 %\n",
      "handlers-cleaners    5.40 %\n",
      "farming-fishing      5.30 %\n",
      "Name: insured_occupation, dtype: object\n",
      "insured_hobbies\n",
      "reading           6.40 %\n",
      "paintball         5.70 %\n",
      "exercise          5.70 %\n",
      "bungie-jumping    5.60 %\n",
      "camping           5.50 %\n",
      "movies            5.50 %\n",
      "golf              5.50 %\n",
      "kayaking          5.40 %\n",
      "yachting          5.30 %\n",
      "hiking            5.20 %\n",
      "video-games       5.00 %\n",
      "skydiving         4.90 %\n",
      "base-jumping      4.90 %\n",
      "board-games       4.80 %\n",
      "polo              4.70 %\n",
      "chess             4.60 %\n",
      "dancing           4.30 %\n",
      "sleeping          4.10 %\n",
      "cross-fit         3.50 %\n",
      "basketball        3.40 %\n",
      "Name: insured_hobbies, dtype: object\n",
      "insured_relationship\n",
      "own-child         18.30 %\n",
      "other-relative    17.70 %\n",
      "not-in-family     17.40 %\n",
      "husband           17.00 %\n",
      "wife              15.50 %\n",
      "unmarried         14.10 %\n",
      "Name: insured_relationship, dtype: object\n",
      "incident_type\n",
      "Multi-vehicle Collision     41.90 %\n",
      "Single Vehicle Collision    40.30 %\n",
      "Vehicle Theft                9.40 %\n",
      "Parked Car                   8.40 %\n",
      "Name: incident_type, dtype: object\n",
      "collision_type\n",
      "Rear Collision     29.20 %\n",
      "Side Collision     27.60 %\n",
      "Front Collision    25.40 %\n",
      "Name: collision_type, dtype: object\n",
      "incident_severity\n",
      "Minor Damage      35.40 %\n",
      "Total Loss        28.00 %\n",
      "Major Damage      27.60 %\n",
      "Trivial Damage     9.00 %\n",
      "Name: incident_severity, dtype: object\n",
      "authorities_contacted\n",
      "Police       29.20 %\n",
      "Fire         22.30 %\n",
      "Other        19.80 %\n",
      "Ambulance    19.60 %\n",
      "None          9.10 %\n",
      "Name: authorities_contacted, dtype: object\n",
      "incident_state\n",
      "NY    26.20 %\n",
      "SC    24.80 %\n",
      "WV    21.70 %\n",
      "VA    11.00 %\n",
      "NC    11.00 %\n",
      "PA     3.00 %\n",
      "OH     2.30 %\n",
      "Name: incident_state, dtype: object\n",
      "incident_city\n",
      "Springfield    15.70 %\n",
      "Arlington      15.20 %\n",
      "Columbus       14.90 %\n",
      "Northbend      14.50 %\n",
      "Hillsdale      14.10 %\n",
      "Riverwood      13.40 %\n",
      "Northbrook     12.20 %\n",
      "Name: incident_city, dtype: object\n",
      "property_damage\n",
      "NO     33.80 %\n",
      "YES    30.20 %\n",
      "Name: property_damage, dtype: object\n",
      "police_report_available\n",
      "NO     34.30 %\n",
      "YES    31.40 %\n",
      "Name: police_report_available, dtype: object\n",
      "auto_make\n",
      "Dodge         8.00 %\n",
      "Saab          8.00 %\n",
      "Suburu        8.00 %\n",
      "Nissan        7.80 %\n",
      "Chevrolet     7.60 %\n",
      "Ford          7.20 %\n",
      "BMW           7.20 %\n",
      "Toyota        7.00 %\n",
      "Audi          6.90 %\n",
      "Volkswagen    6.80 %\n",
      "Accura        6.80 %\n",
      "Jeep          6.70 %\n",
      "Mercedes      6.50 %\n",
      "Honda         5.50 %\n",
      "Name: auto_make, dtype: object\n",
      "auto_model\n",
      "RAM               4.30 %\n",
      "Wrangler          4.20 %\n",
      "Neon              3.70 %\n",
      "A3                3.70 %\n",
      "MDX               3.60 %\n",
      "Jetta             3.50 %\n",
      "Passat            3.30 %\n",
      "Legacy            3.20 %\n",
      "A5                3.20 %\n",
      "Pathfinder        3.10 %\n",
      "Malibu            3.00 %\n",
      "92x               2.80 %\n",
      "Camry             2.80 %\n",
      "Forrestor         2.80 %\n",
      "F150              2.70 %\n",
      "95                2.70 %\n",
      "E400              2.70 %\n",
      "93                2.50 %\n",
      "Grand Cherokee    2.50 %\n",
      "Tahoe             2.40 %\n",
      "Maxima            2.40 %\n",
      "Escape            2.40 %\n",
      "X5                2.30 %\n",
      "Ultima            2.30 %\n",
      "Highlander        2.20 %\n",
      "Silverado         2.20 %\n",
      "Civic             2.20 %\n",
      "Fusion            2.10 %\n",
      "TL                2.00 %\n",
      "Corolla           2.00 %\n",
      "Impreza           2.00 %\n",
      "CRV               2.00 %\n",
      "ML350             2.00 %\n",
      "C300              1.80 %\n",
      "3 Series          1.80 %\n",
      "X6                1.60 %\n",
      "M5                1.50 %\n",
      "Accord            1.30 %\n",
      "RSX               1.20 %\n",
      "Name: auto_model, dtype: object\n",
      "fraud_reported\n",
      "N    75.30 %\n",
      "Y    24.70 %\n",
      "Name: fraud_reported, dtype: object\n",
      "Street_name\n",
      "5th Ave               1.70 %\n",
      "5th Lane              1.20 %\n",
      "Lincoln Hwy           1.20 %\n",
      "4th Hwy               1.10 %\n",
      "Texas Lane            1.10 %\n",
      "                       ...  \n",
      "2nd Ridge             0.20 %\n",
      "Apache Ridge          0.10 %\n",
      "Best Hwy              0.10 %\n",
      "Embaracadero Hwy      0.10 %\n",
      "Embaracadero Ridge    0.10 %\n",
      "Name: Street_name, Length: 156, dtype: object\n"
     ]
    }
   ],
   "source": [
    "for i in range(len(categorical)):\n",
    "    print(categorical[i])\n",
    "    freq_categorical_country = 100*(data[categorical[i]].value_counts() / len(data))\n",
    "    print(freq_categorical_country.map('{:,.2f} %'.format))"
   ]
  },
  {
   "cell_type": "code",
   "execution_count": 40,
   "metadata": {},
   "outputs": [],
   "source": [
    "data1=data.copy()"
   ]
  },
  {
   "cell_type": "code",
   "execution_count": 41,
   "metadata": {},
   "outputs": [
    {
     "data": {
      "text/html": [
       "<div>\n",
       "<style scoped>\n",
       "    .dataframe tbody tr th:only-of-type {\n",
       "        vertical-align: middle;\n",
       "    }\n",
       "\n",
       "    .dataframe tbody tr th {\n",
       "        vertical-align: top;\n",
       "    }\n",
       "\n",
       "    .dataframe thead th {\n",
       "        text-align: right;\n",
       "    }\n",
       "</style>\n",
       "<table border=\"1\" class=\"dataframe\">\n",
       "  <thead>\n",
       "    <tr style=\"text-align: right;\">\n",
       "      <th></th>\n",
       "      <th>months_as_customer</th>\n",
       "      <th>age</th>\n",
       "      <th>policy_number</th>\n",
       "      <th>policy_bind_date</th>\n",
       "      <th>policy_state</th>\n",
       "      <th>policy_csl</th>\n",
       "      <th>policy_deductable</th>\n",
       "      <th>policy_annual_premium</th>\n",
       "      <th>umbrella_limit</th>\n",
       "      <th>insured_zip</th>\n",
       "      <th>...</th>\n",
       "      <th>witnesses</th>\n",
       "      <th>police_report_available</th>\n",
       "      <th>injury_claim</th>\n",
       "      <th>property_claim</th>\n",
       "      <th>vehicle_claim</th>\n",
       "      <th>auto_make</th>\n",
       "      <th>auto_model</th>\n",
       "      <th>auto_year</th>\n",
       "      <th>fraud_reported</th>\n",
       "      <th>Street_name</th>\n",
       "    </tr>\n",
       "  </thead>\n",
       "  <tbody>\n",
       "    <tr>\n",
       "      <th>0</th>\n",
       "      <td>328</td>\n",
       "      <td>48</td>\n",
       "      <td>521585</td>\n",
       "      <td>17-10-2014</td>\n",
       "      <td>OH</td>\n",
       "      <td>250/500</td>\n",
       "      <td>1000</td>\n",
       "      <td>1406.91</td>\n",
       "      <td>0</td>\n",
       "      <td>466132</td>\n",
       "      <td>...</td>\n",
       "      <td>2</td>\n",
       "      <td>YES</td>\n",
       "      <td>6510</td>\n",
       "      <td>13020</td>\n",
       "      <td>52080</td>\n",
       "      <td>Saab</td>\n",
       "      <td>92x</td>\n",
       "      <td>2004</td>\n",
       "      <td>Y</td>\n",
       "      <td>4th Drive</td>\n",
       "    </tr>\n",
       "    <tr>\n",
       "      <th>1</th>\n",
       "      <td>228</td>\n",
       "      <td>42</td>\n",
       "      <td>342868</td>\n",
       "      <td>27-06-2006</td>\n",
       "      <td>IN</td>\n",
       "      <td>250/500</td>\n",
       "      <td>2000</td>\n",
       "      <td>1197.22</td>\n",
       "      <td>5000000</td>\n",
       "      <td>468176</td>\n",
       "      <td>...</td>\n",
       "      <td>0</td>\n",
       "      <td>NaN</td>\n",
       "      <td>780</td>\n",
       "      <td>780</td>\n",
       "      <td>3510</td>\n",
       "      <td>Mercedes</td>\n",
       "      <td>E400</td>\n",
       "      <td>2007</td>\n",
       "      <td>Y</td>\n",
       "      <td>MLK Hwy</td>\n",
       "    </tr>\n",
       "    <tr>\n",
       "      <th>2</th>\n",
       "      <td>134</td>\n",
       "      <td>29</td>\n",
       "      <td>687698</td>\n",
       "      <td>06-09-2000</td>\n",
       "      <td>OH</td>\n",
       "      <td>100/300</td>\n",
       "      <td>2000</td>\n",
       "      <td>1413.14</td>\n",
       "      <td>5000000</td>\n",
       "      <td>430632</td>\n",
       "      <td>...</td>\n",
       "      <td>3</td>\n",
       "      <td>NO</td>\n",
       "      <td>7700</td>\n",
       "      <td>3850</td>\n",
       "      <td>23100</td>\n",
       "      <td>Dodge</td>\n",
       "      <td>RAM</td>\n",
       "      <td>2007</td>\n",
       "      <td>N</td>\n",
       "      <td>Francis Lane</td>\n",
       "    </tr>\n",
       "    <tr>\n",
       "      <th>3</th>\n",
       "      <td>256</td>\n",
       "      <td>41</td>\n",
       "      <td>227811</td>\n",
       "      <td>25-05-1990</td>\n",
       "      <td>IL</td>\n",
       "      <td>250/500</td>\n",
       "      <td>2000</td>\n",
       "      <td>1415.74</td>\n",
       "      <td>6000000</td>\n",
       "      <td>608117</td>\n",
       "      <td>...</td>\n",
       "      <td>2</td>\n",
       "      <td>NO</td>\n",
       "      <td>6340</td>\n",
       "      <td>6340</td>\n",
       "      <td>50720</td>\n",
       "      <td>Chevrolet</td>\n",
       "      <td>Tahoe</td>\n",
       "      <td>2014</td>\n",
       "      <td>Y</td>\n",
       "      <td>Maple Drive</td>\n",
       "    </tr>\n",
       "    <tr>\n",
       "      <th>4</th>\n",
       "      <td>228</td>\n",
       "      <td>44</td>\n",
       "      <td>367455</td>\n",
       "      <td>06-06-2014</td>\n",
       "      <td>IL</td>\n",
       "      <td>500/1000</td>\n",
       "      <td>1000</td>\n",
       "      <td>1583.91</td>\n",
       "      <td>6000000</td>\n",
       "      <td>610706</td>\n",
       "      <td>...</td>\n",
       "      <td>1</td>\n",
       "      <td>NO</td>\n",
       "      <td>1300</td>\n",
       "      <td>650</td>\n",
       "      <td>4550</td>\n",
       "      <td>Accura</td>\n",
       "      <td>RSX</td>\n",
       "      <td>2009</td>\n",
       "      <td>N</td>\n",
       "      <td>3rd Ave</td>\n",
       "    </tr>\n",
       "  </tbody>\n",
       "</table>\n",
       "<p>5 rows × 38 columns</p>\n",
       "</div>"
      ],
      "text/plain": [
       "   months_as_customer  age  policy_number policy_bind_date policy_state  \\\n",
       "0                 328   48         521585       17-10-2014           OH   \n",
       "1                 228   42         342868       27-06-2006           IN   \n",
       "2                 134   29         687698       06-09-2000           OH   \n",
       "3                 256   41         227811       25-05-1990           IL   \n",
       "4                 228   44         367455       06-06-2014           IL   \n",
       "\n",
       "  policy_csl  policy_deductable  policy_annual_premium  umbrella_limit  \\\n",
       "0    250/500               1000                1406.91               0   \n",
       "1    250/500               2000                1197.22         5000000   \n",
       "2    100/300               2000                1413.14         5000000   \n",
       "3    250/500               2000                1415.74         6000000   \n",
       "4   500/1000               1000                1583.91         6000000   \n",
       "\n",
       "   insured_zip  ... witnesses police_report_available injury_claim  \\\n",
       "0       466132  ...         2                     YES         6510   \n",
       "1       468176  ...         0                     NaN          780   \n",
       "2       430632  ...         3                      NO         7700   \n",
       "3       608117  ...         2                      NO         6340   \n",
       "4       610706  ...         1                      NO         1300   \n",
       "\n",
       "  property_claim vehicle_claim  auto_make  auto_model auto_year  \\\n",
       "0          13020         52080       Saab         92x      2004   \n",
       "1            780          3510   Mercedes        E400      2007   \n",
       "2           3850         23100      Dodge         RAM      2007   \n",
       "3           6340         50720  Chevrolet       Tahoe      2014   \n",
       "4            650          4550     Accura         RSX      2009   \n",
       "\n",
       "  fraud_reported   Street_name  \n",
       "0              Y     4th Drive  \n",
       "1              Y       MLK Hwy  \n",
       "2              N  Francis Lane  \n",
       "3              Y   Maple Drive  \n",
       "4              N       3rd Ave  \n",
       "\n",
       "[5 rows x 38 columns]"
      ]
     },
     "execution_count": 41,
     "metadata": {},
     "output_type": "execute_result"
    }
   ],
   "source": [
    "data1.head()"
   ]
  },
  {
   "cell_type": "markdown",
   "metadata": {},
   "source": []
  },
  {
   "cell_type": "code",
   "execution_count": 42,
   "metadata": {},
   "outputs": [],
   "source": [
    "#pip install pandas-profiling"
   ]
  },
  {
   "cell_type": "code",
   "execution_count": 43,
   "metadata": {
    "scrolled": true
   },
   "outputs": [],
   "source": [
    "# import pandas_profiling as pp\n",
    "# pp.ProfileReport(data)"
   ]
  },
  {
   "cell_type": "markdown",
   "metadata": {},
   "source": [
    "# OUTLIERS:"
   ]
  },
  {
   "cell_type": "code",
   "execution_count": 44,
   "metadata": {
    "scrolled": true
   },
   "outputs": [],
   "source": [
    "# fig, axs = plt.subplots(ncols=2, nrows=13,figsize=(14,14))\n",
    "# axs = axs.flatten()\n",
    "\n",
    "# for i, var in enumerate(continuous):\n",
    "#     sns.boxplot(data[data[var].notnull()][var], ax=axs[i], orient='h');"
   ]
  },
  {
   "cell_type": "code",
   "execution_count": 45,
   "metadata": {},
   "outputs": [],
   "source": [
    "# fig, axs = plt.subplots(ncols=2, nrows=13,figsize=(14,14))\n",
    "# axs = axs.flatten()\n",
    "\n",
    "# for i, var in enumerate(discrete):\n",
    "#     sns.boxplot(data[data[var].notnull()][var], ax=axs[i], orient='h');"
   ]
  },
  {
   "cell_type": "markdown",
   "metadata": {},
   "source": [
    "# MISSING VALUES IMPUTATIONS OF CATEGORICAL VARIABLES:\n"
   ]
  },
  {
   "cell_type": "code",
   "execution_count": 46,
   "metadata": {},
   "outputs": [
    {
     "data": {
      "text/plain": [
       "Index(['months_as_customer', 'age', 'policy_number', 'policy_bind_date',\n",
       "       'policy_state', 'policy_csl', 'policy_deductable',\n",
       "       'policy_annual_premium', 'umbrella_limit', 'insured_zip', 'insured_sex',\n",
       "       'insured_education_level', 'insured_occupation', 'insured_hobbies',\n",
       "       'insured_relationship', 'capital-gains', 'capital-loss',\n",
       "       'incident_date', 'incident_type', 'collision_type', 'incident_severity',\n",
       "       'authorities_contacted', 'incident_state', 'incident_city',\n",
       "       'incident_hour_of_the_day', 'number_of_vehicles_involved',\n",
       "       'property_damage', 'bodily_injuries', 'witnesses',\n",
       "       'police_report_available', 'injury_claim', 'property_claim',\n",
       "       'vehicle_claim', 'auto_make', 'auto_model', 'auto_year',\n",
       "       'fraud_reported', 'Street_name'],\n",
       "      dtype='object')"
      ]
     },
     "execution_count": 46,
     "metadata": {},
     "output_type": "execute_result"
    }
   ],
   "source": [
    "data.columns"
   ]
  },
  {
   "cell_type": "code",
   "execution_count": 47,
   "metadata": {},
   "outputs": [
    {
     "data": {
      "text/plain": [
       "policy_state                 0\n",
       "policy_csl                   0\n",
       "insured_sex                  0\n",
       "insured_education_level      0\n",
       "insured_occupation           0\n",
       "insured_hobbies              0\n",
       "insured_relationship         0\n",
       "incident_type                0\n",
       "collision_type             178\n",
       "incident_severity            0\n",
       "authorities_contacted        0\n",
       "incident_state               0\n",
       "incident_city                0\n",
       "property_damage            360\n",
       "police_report_available    343\n",
       "auto_make                    0\n",
       "auto_model                   0\n",
       "fraud_reported               0\n",
       "Street_name                  0\n",
       "dtype: int64"
      ]
     },
     "execution_count": 47,
     "metadata": {},
     "output_type": "execute_result"
    }
   ],
   "source": [
    "data[categorical].isnull().sum()"
   ]
  },
  {
   "cell_type": "code",
   "execution_count": 48,
   "metadata": {},
   "outputs": [],
   "source": [
    "# for i in categorical:\n",
    "#     data[i].fillna(method='bfill',inplace=True)\n",
    "    \n",
    "# #data['Gender'].fillna(method='ffill',inplace=True)\n",
    "# data[categorical].isnull().sum()\n"
   ]
  },
  {
   "cell_type": "code",
   "execution_count": 49,
   "metadata": {},
   "outputs": [
    {
     "data": {
      "text/plain": [
       "0      25-01-2015\n",
       "1      21-01-2015\n",
       "2      22-02-2015\n",
       "3      10-01-2015\n",
       "4      17-02-2015\n",
       "          ...    \n",
       "995    22-02-2015\n",
       "996    24-01-2015\n",
       "997    23-01-2015\n",
       "998    26-02-2015\n",
       "999    26-02-2015\n",
       "Name: incident_date, Length: 1000, dtype: object"
      ]
     },
     "execution_count": 49,
     "metadata": {},
     "output_type": "execute_result"
    }
   ],
   "source": [
    "data['incident_date']"
   ]
  },
  {
   "cell_type": "code",
   "execution_count": 50,
   "metadata": {},
   "outputs": [
    {
     "data": {
      "text/plain": [
       "0      1413504000\n",
       "1      1151366400\n",
       "2       968198400\n",
       "3       643593600\n",
       "4      1402012800\n",
       "          ...    \n",
       "995     679622400\n",
       "996    1388880000\n",
       "997    1045440000\n",
       "998    1321574400\n",
       "999     847670400\n",
       "Name: datetime, Length: 1000, dtype: int64"
      ]
     },
     "execution_count": 50,
     "metadata": {},
     "output_type": "execute_result"
    }
   ],
   "source": [
    "data['datetime'] = pd.to_datetime(data['policy_bind_date'], format='%d-%m-%Y')\n",
    "data['datetime']=data['datetime'].values.astype(np.int64) // 10 ** 9\n",
    "data['datetime']"
   ]
  },
  {
   "cell_type": "code",
   "execution_count": 51,
   "metadata": {},
   "outputs": [
    {
     "data": {
      "text/plain": [
       "0      1422144000\n",
       "1      1421798400\n",
       "2      1424563200\n",
       "3      1420848000\n",
       "4      1424131200\n",
       "          ...    \n",
       "995    1424563200\n",
       "996    1422057600\n",
       "997    1421971200\n",
       "998    1424908800\n",
       "999    1424908800\n",
       "Name: incident_datetime, Length: 1000, dtype: int64"
      ]
     },
     "execution_count": 51,
     "metadata": {},
     "output_type": "execute_result"
    }
   ],
   "source": [
    "data['incident_datetime'] = pd.to_datetime(data['incident_date'], format='%d-%m-%Y')\n",
    "data['incident_datetime']=data['incident_datetime'].values.astype(np.int64) // 10 ** 9\n",
    "data['incident_datetime']"
   ]
  },
  {
   "cell_type": "code",
   "execution_count": null,
   "metadata": {},
   "outputs": [],
   "source": []
  },
  {
   "cell_type": "code",
   "execution_count": 52,
   "metadata": {},
   "outputs": [
    {
     "data": {
      "text/plain": [
       "Index(['months_as_customer', 'age', 'policy_number', 'policy_bind_date',\n",
       "       'policy_state', 'policy_csl', 'policy_deductable',\n",
       "       'policy_annual_premium', 'umbrella_limit', 'insured_zip', 'insured_sex',\n",
       "       'insured_education_level', 'insured_occupation', 'insured_hobbies',\n",
       "       'insured_relationship', 'capital-gains', 'capital-loss',\n",
       "       'incident_date', 'incident_type', 'collision_type', 'incident_severity',\n",
       "       'authorities_contacted', 'incident_state', 'incident_city',\n",
       "       'incident_hour_of_the_day', 'number_of_vehicles_involved',\n",
       "       'property_damage', 'bodily_injuries', 'witnesses',\n",
       "       'police_report_available', 'injury_claim', 'property_claim',\n",
       "       'vehicle_claim', 'auto_make', 'auto_model', 'auto_year',\n",
       "       'fraud_reported', 'Street_name', 'datetime', 'incident_datetime'],\n",
       "      dtype='object')"
      ]
     },
     "execution_count": 52,
     "metadata": {},
     "output_type": "execute_result"
    }
   ],
   "source": [
    "data.columns"
   ]
  },
  {
   "cell_type": "code",
   "execution_count": 53,
   "metadata": {},
   "outputs": [],
   "source": [
    "import missingno as msno"
   ]
  },
  {
   "cell_type": "code",
   "execution_count": 54,
   "metadata": {},
   "outputs": [
    {
     "data": {
      "text/plain": [
       "<matplotlib.axes._subplots.AxesSubplot at 0x24d5556b648>"
      ]
     },
     "execution_count": 54,
     "metadata": {},
     "output_type": "execute_result"
    },
    {
     "data": {
      "image/png": "[encoded data removed]",
      "text/plain": [
       "<Figure size 1800x720 with 2 Axes>"
      ]
     },
     "metadata": {
      "needs_background": "light"
     },
     "output_type": "display_data"
    }
   ],
   "source": [
    "msno.matrix(data[continuous])"
   ]
  },
  {
   "cell_type": "code",
   "execution_count": 55,
   "metadata": {},
   "outputs": [
    {
     "data": {
      "text/plain": [
       "<matplotlib.axes._subplots.AxesSubplot at 0x24d556ae748>"
      ]
     },
     "execution_count": 55,
     "metadata": {},
     "output_type": "execute_result"
    },
    {
     "data": {
      "image/png": "[encoded data removed]",
      "text/plain": [
       "<Figure size 1800x720 with 2 Axes>"
      ]
     },
     "metadata": {
      "needs_background": "light"
     },
     "output_type": "display_data"
    }
   ],
   "source": [
    "msno.matrix(data[discrete])"
   ]
  },
  {
   "cell_type": "code",
   "execution_count": 56,
   "metadata": {
    "scrolled": true
   },
   "outputs": [
    {
     "name": "stderr",
     "output_type": "stream",
     "text": [
      "C:\\Users\\14695\\AppData\\Local\\Continuum\\anaconda3\\envs\\buan6341_2020\\lib\\site-packages\\scipy\\cluster\\hierarchy.py:2837: UserWarning: Attempting to set identical bottom == top == 0.0 results in singular transformations; automatically expanding.\n",
      "  ax.set_ylim([dvw, 0])\n"
     ]
    },
    {
     "data": {
      "text/plain": [
       "<matplotlib.axes._subplots.AxesSubplot at 0x24d5573a148>"
      ]
     },
     "execution_count": 56,
     "metadata": {},
     "output_type": "execute_result"
    },
    {
     "data": {
      "image/png": "[encoded data removed]",
      "text/plain": [
       "<Figure size 1800x720 with 1 Axes>"
      ]
     },
     "metadata": {
      "needs_background": "light"
     },
     "output_type": "display_data"
    }
   ],
   "source": [
    "msno.dendrogram(data[discrete])"
   ]
  },
  {
   "cell_type": "code",
   "execution_count": 57,
   "metadata": {},
   "outputs": [
    {
     "data": {
      "text/plain": [
       "['policy_state',\n",
       " 'policy_csl',\n",
       " 'insured_sex',\n",
       " 'insured_education_level',\n",
       " 'insured_occupation',\n",
       " 'insured_hobbies',\n",
       " 'insured_relationship',\n",
       " 'incident_type',\n",
       " 'collision_type',\n",
       " 'incident_severity',\n",
       " 'authorities_contacted',\n",
       " 'incident_state',\n",
       " 'incident_city',\n",
       " 'property_damage',\n",
       " 'police_report_available',\n",
       " 'auto_make',\n",
       " 'auto_model',\n",
       " 'fraud_reported',\n",
       " 'Street_name']"
      ]
     },
     "execution_count": 57,
     "metadata": {},
     "output_type": "execute_result"
    }
   ],
   "source": [
    "categorical\n"
   ]
  },
  {
   "cell_type": "markdown",
   "metadata": {},
   "source": [
    "# ENCODING CATEGORICAL VARIABLES USING GET_DUMMIES\n"
   ]
  },
  {
   "cell_type": "code",
   "execution_count": 58,
   "metadata": {},
   "outputs": [],
   "source": [
    "label=['auto_make','auto_model','insured_hobbies','insured_occupation','Street_name']\n"
   ]
  },
  {
   "cell_type": "code",
   "execution_count": 59,
   "metadata": {},
   "outputs": [],
   "source": [
    "onehot=[var for var in categorical if var not in label and var!='fraud_reported']"
   ]
  },
  {
   "cell_type": "code",
   "execution_count": 60,
   "metadata": {},
   "outputs": [
    {
     "data": {
      "text/plain": [
       "['policy_state',\n",
       " 'policy_csl',\n",
       " 'insured_sex',\n",
       " 'insured_education_level',\n",
       " 'insured_relationship',\n",
       " 'incident_type',\n",
       " 'collision_type',\n",
       " 'incident_severity',\n",
       " 'authorities_contacted',\n",
       " 'incident_state',\n",
       " 'incident_city',\n",
       " 'property_damage',\n",
       " 'police_report_available']"
      ]
     },
     "execution_count": 60,
     "metadata": {},
     "output_type": "execute_result"
    }
   ],
   "source": [
    "onehot"
   ]
  },
  {
   "cell_type": "code",
   "execution_count": 61,
   "metadata": {},
   "outputs": [
    {
     "name": "stdout",
     "output_type": "stream",
     "text": [
      "<class 'pandas.core.frame.DataFrame'>\n",
      "RangeIndex: 1000 entries, 0 to 999\n",
      "Data columns (total 40 columns):\n",
      "months_as_customer             1000 non-null int64\n",
      "age                            1000 non-null int64\n",
      "policy_number                  1000 non-null int64\n",
      "policy_bind_date               1000 non-null object\n",
      "policy_state                   1000 non-null object\n",
      "policy_csl                     1000 non-null object\n",
      "policy_deductable              1000 non-null int64\n",
      "policy_annual_premium          1000 non-null float64\n",
      "umbrella_limit                 1000 non-null int64\n",
      "insured_zip                    1000 non-null int64\n",
      "insured_sex                    1000 non-null object\n",
      "insured_education_level        1000 non-null object\n",
      "insured_occupation             1000 non-null object\n",
      "insured_hobbies                1000 non-null object\n",
      "insured_relationship           1000 non-null object\n",
      "capital-gains                  1000 non-null int64\n",
      "capital-loss                   1000 non-null int64\n",
      "incident_date                  1000 non-null object\n",
      "incident_type                  1000 non-null object\n",
      "collision_type                 822 non-null object\n",
      "incident_severity              1000 non-null object\n",
      "authorities_contacted          1000 non-null object\n",
      "incident_state                 1000 non-null object\n",
      "incident_city                  1000 non-null object\n",
      "incident_hour_of_the_day       1000 non-null int64\n",
      "number_of_vehicles_involved    1000 non-null int64\n",
      "property_damage                640 non-null object\n",
      "bodily_injuries                1000 non-null int64\n",
      "witnesses                      1000 non-null int64\n",
      "police_report_available        657 non-null object\n",
      "injury_claim                   1000 non-null int64\n",
      "property_claim                 1000 non-null int64\n",
      "vehicle_claim                  1000 non-null int64\n",
      "auto_make                      1000 non-null object\n",
      "auto_model                     1000 non-null object\n",
      "auto_year                      1000 non-null int64\n",
      "fraud_reported                 1000 non-null object\n",
      "Street_name                    1000 non-null object\n",
      "datetime                       1000 non-null int64\n",
      "incident_datetime              1000 non-null int64\n",
      "dtypes: float64(1), int64(18), object(21)\n",
      "memory usage: 312.6+ KB\n"
     ]
    }
   ],
   "source": [
    "data.info()"
   ]
  },
  {
   "cell_type": "code",
   "execution_count": 62,
   "metadata": {},
   "outputs": [
    {
     "data": {
      "text/plain": [
       "incident_date       object\n",
       "auto_year            int64\n",
       "policy_bind_date    object\n",
       "dtype: object"
      ]
     },
     "execution_count": 62,
     "metadata": {},
     "output_type": "execute_result"
    }
   ],
   "source": [
    "data[temporal].dtypes"
   ]
  },
  {
   "cell_type": "code",
   "execution_count": 63,
   "metadata": {},
   "outputs": [
    {
     "data": {
      "text/plain": [
       "0      25-01-2015\n",
       "1      21-01-2015\n",
       "2      22-02-2015\n",
       "3      10-01-2015\n",
       "4      17-02-2015\n",
       "          ...    \n",
       "995    22-02-2015\n",
       "996    24-01-2015\n",
       "997    23-01-2015\n",
       "998    26-02-2015\n",
       "999    26-02-2015\n",
       "Name: incident_date, Length: 1000, dtype: object"
      ]
     },
     "execution_count": 63,
     "metadata": {},
     "output_type": "execute_result"
    }
   ],
   "source": [
    "data['incident_date']"
   ]
  },
  {
   "cell_type": "code",
   "execution_count": 64,
   "metadata": {},
   "outputs": [],
   "source": [
    "incident_month=[]\n",
    "for i in data['incident_date']:\n",
    "    incident_month.append(i[3:5])\n",
    "    "
   ]
  },
  {
   "cell_type": "code",
   "execution_count": 65,
   "metadata": {},
   "outputs": [],
   "source": [
    "incident_year=[]\n",
    "for i in data['incident_date']:\n",
    "    incident_year.append(i[6:])"
   ]
  },
  {
   "cell_type": "code",
   "execution_count": null,
   "metadata": {},
   "outputs": [],
   "source": []
  },
  {
   "cell_type": "code",
   "execution_count": 66,
   "metadata": {},
   "outputs": [],
   "source": [
    "policy_bind_month=[]\n",
    "for i in data['policy_bind_date']:\n",
    "    policy_bind_month.append(i[3:5])"
   ]
  },
  {
   "cell_type": "code",
   "execution_count": 67,
   "metadata": {},
   "outputs": [],
   "source": [
    "policy_year=[]\n",
    "for i in data['policy_bind_date']:\n",
    "    policy_year.append(i[6:])"
   ]
  },
  {
   "cell_type": "code",
   "execution_count": 68,
   "metadata": {},
   "outputs": [],
   "source": [
    "#data.drop('incident_date',axis=1,inplace=True)\n",
    "#data.drop('policy_bind_date',axis=1,inplace=True)\n",
    "data.drop('datetime',axis=1,inplace=True)"
   ]
  },
  {
   "cell_type": "code",
   "execution_count": 69,
   "metadata": {},
   "outputs": [
    {
     "data": {
      "text/plain": [
       "Index(['months_as_customer', 'age', 'policy_number', 'policy_bind_date',\n",
       "       'policy_state', 'policy_csl', 'policy_deductable',\n",
       "       'policy_annual_premium', 'umbrella_limit', 'insured_zip', 'insured_sex',\n",
       "       'insured_education_level', 'insured_occupation', 'insured_hobbies',\n",
       "       'insured_relationship', 'capital-gains', 'capital-loss',\n",
       "       'incident_date', 'incident_type', 'collision_type', 'incident_severity',\n",
       "       'authorities_contacted', 'incident_state', 'incident_city',\n",
       "       'incident_hour_of_the_day', 'number_of_vehicles_involved',\n",
       "       'property_damage', 'bodily_injuries', 'witnesses',\n",
       "       'police_report_available', 'injury_claim', 'property_claim',\n",
       "       'vehicle_claim', 'auto_make', 'auto_model', 'auto_year',\n",
       "       'fraud_reported', 'Street_name', 'incident_datetime'],\n",
       "      dtype='object')"
      ]
     },
     "execution_count": 69,
     "metadata": {},
     "output_type": "execute_result"
    }
   ],
   "source": [
    "data.columns"
   ]
  },
  {
   "cell_type": "code",
   "execution_count": 70,
   "metadata": {},
   "outputs": [],
   "source": [
    "data.drop('incident_date',axis=1,inplace=True)\n",
    "data.drop('policy_bind_date',axis=1,inplace=True)"
   ]
  },
  {
   "cell_type": "code",
   "execution_count": 71,
   "metadata": {},
   "outputs": [
    {
     "data": {
      "text/plain": [
       "Index(['months_as_customer', 'age', 'policy_number', 'policy_state',\n",
       "       'policy_csl', 'policy_deductable', 'policy_annual_premium',\n",
       "       'umbrella_limit', 'insured_zip', 'insured_sex',\n",
       "       'insured_education_level', 'insured_occupation', 'insured_hobbies',\n",
       "       'insured_relationship', 'capital-gains', 'capital-loss',\n",
       "       'incident_type', 'collision_type', 'incident_severity',\n",
       "       'authorities_contacted', 'incident_state', 'incident_city',\n",
       "       'incident_hour_of_the_day', 'number_of_vehicles_involved',\n",
       "       'property_damage', 'bodily_injuries', 'witnesses',\n",
       "       'police_report_available', 'injury_claim', 'property_claim',\n",
       "       'vehicle_claim', 'auto_make', 'auto_model', 'auto_year',\n",
       "       'fraud_reported', 'Street_name', 'incident_datetime'],\n",
       "      dtype='object')"
      ]
     },
     "execution_count": 71,
     "metadata": {},
     "output_type": "execute_result"
    }
   ],
   "source": [
    "data.columns"
   ]
  },
  {
   "cell_type": "markdown",
   "metadata": {},
   "source": [
    "# SPLITTING DATA INTO TRAIN AND TEST DATA SETS"
   ]
  },
  {
   "cell_type": "code",
   "execution_count": 72,
   "metadata": {},
   "outputs": [
    {
     "data": {
      "text/html": [
       "<div>\n",
       "<style scoped>\n",
       "    .dataframe tbody tr th:only-of-type {\n",
       "        vertical-align: middle;\n",
       "    }\n",
       "\n",
       "    .dataframe tbody tr th {\n",
       "        vertical-align: top;\n",
       "    }\n",
       "\n",
       "    .dataframe thead th {\n",
       "        text-align: right;\n",
       "    }\n",
       "</style>\n",
       "<table border=\"1\" class=\"dataframe\">\n",
       "  <thead>\n",
       "    <tr style=\"text-align: right;\">\n",
       "      <th></th>\n",
       "      <th>months_as_customer</th>\n",
       "      <th>age</th>\n",
       "      <th>policy_number</th>\n",
       "      <th>policy_state</th>\n",
       "      <th>policy_csl</th>\n",
       "      <th>policy_deductable</th>\n",
       "      <th>policy_annual_premium</th>\n",
       "      <th>umbrella_limit</th>\n",
       "      <th>insured_zip</th>\n",
       "      <th>insured_sex</th>\n",
       "      <th>...</th>\n",
       "      <th>witnesses</th>\n",
       "      <th>police_report_available</th>\n",
       "      <th>injury_claim</th>\n",
       "      <th>property_claim</th>\n",
       "      <th>vehicle_claim</th>\n",
       "      <th>auto_make</th>\n",
       "      <th>auto_model</th>\n",
       "      <th>auto_year</th>\n",
       "      <th>Street_name</th>\n",
       "      <th>incident_datetime</th>\n",
       "    </tr>\n",
       "  </thead>\n",
       "  <tbody>\n",
       "    <tr>\n",
       "      <th>0</th>\n",
       "      <td>328</td>\n",
       "      <td>48</td>\n",
       "      <td>521585</td>\n",
       "      <td>OH</td>\n",
       "      <td>250/500</td>\n",
       "      <td>1000</td>\n",
       "      <td>1406.91</td>\n",
       "      <td>0</td>\n",
       "      <td>466132</td>\n",
       "      <td>MALE</td>\n",
       "      <td>...</td>\n",
       "      <td>2</td>\n",
       "      <td>YES</td>\n",
       "      <td>6510</td>\n",
       "      <td>13020</td>\n",
       "      <td>52080</td>\n",
       "      <td>Saab</td>\n",
       "      <td>92x</td>\n",
       "      <td>2004</td>\n",
       "      <td>4th Drive</td>\n",
       "      <td>1422144000</td>\n",
       "    </tr>\n",
       "    <tr>\n",
       "      <th>1</th>\n",
       "      <td>228</td>\n",
       "      <td>42</td>\n",
       "      <td>342868</td>\n",
       "      <td>IN</td>\n",
       "      <td>250/500</td>\n",
       "      <td>2000</td>\n",
       "      <td>1197.22</td>\n",
       "      <td>5000000</td>\n",
       "      <td>468176</td>\n",
       "      <td>MALE</td>\n",
       "      <td>...</td>\n",
       "      <td>0</td>\n",
       "      <td>NaN</td>\n",
       "      <td>780</td>\n",
       "      <td>780</td>\n",
       "      <td>3510</td>\n",
       "      <td>Mercedes</td>\n",
       "      <td>E400</td>\n",
       "      <td>2007</td>\n",
       "      <td>MLK Hwy</td>\n",
       "      <td>1421798400</td>\n",
       "    </tr>\n",
       "    <tr>\n",
       "      <th>2</th>\n",
       "      <td>134</td>\n",
       "      <td>29</td>\n",
       "      <td>687698</td>\n",
       "      <td>OH</td>\n",
       "      <td>100/300</td>\n",
       "      <td>2000</td>\n",
       "      <td>1413.14</td>\n",
       "      <td>5000000</td>\n",
       "      <td>430632</td>\n",
       "      <td>FEMALE</td>\n",
       "      <td>...</td>\n",
       "      <td>3</td>\n",
       "      <td>NO</td>\n",
       "      <td>7700</td>\n",
       "      <td>3850</td>\n",
       "      <td>23100</td>\n",
       "      <td>Dodge</td>\n",
       "      <td>RAM</td>\n",
       "      <td>2007</td>\n",
       "      <td>Francis Lane</td>\n",
       "      <td>1424563200</td>\n",
       "    </tr>\n",
       "    <tr>\n",
       "      <th>3</th>\n",
       "      <td>256</td>\n",
       "      <td>41</td>\n",
       "      <td>227811</td>\n",
       "      <td>IL</td>\n",
       "      <td>250/500</td>\n",
       "      <td>2000</td>\n",
       "      <td>1415.74</td>\n",
       "      <td>6000000</td>\n",
       "      <td>608117</td>\n",
       "      <td>FEMALE</td>\n",
       "      <td>...</td>\n",
       "      <td>2</td>\n",
       "      <td>NO</td>\n",
       "      <td>6340</td>\n",
       "      <td>6340</td>\n",
       "      <td>50720</td>\n",
       "      <td>Chevrolet</td>\n",
       "      <td>Tahoe</td>\n",
       "      <td>2014</td>\n",
       "      <td>Maple Drive</td>\n",
       "      <td>1420848000</td>\n",
       "    </tr>\n",
       "    <tr>\n",
       "      <th>4</th>\n",
       "      <td>228</td>\n",
       "      <td>44</td>\n",
       "      <td>367455</td>\n",
       "      <td>IL</td>\n",
       "      <td>500/1000</td>\n",
       "      <td>1000</td>\n",
       "      <td>1583.91</td>\n",
       "      <td>6000000</td>\n",
       "      <td>610706</td>\n",
       "      <td>MALE</td>\n",
       "      <td>...</td>\n",
       "      <td>1</td>\n",
       "      <td>NO</td>\n",
       "      <td>1300</td>\n",
       "      <td>650</td>\n",
       "      <td>4550</td>\n",
       "      <td>Accura</td>\n",
       "      <td>RSX</td>\n",
       "      <td>2009</td>\n",
       "      <td>3rd Ave</td>\n",
       "      <td>1424131200</td>\n",
       "    </tr>\n",
       "    <tr>\n",
       "      <th>...</th>\n",
       "      <td>...</td>\n",
       "      <td>...</td>\n",
       "      <td>...</td>\n",
       "      <td>...</td>\n",
       "      <td>...</td>\n",
       "      <td>...</td>\n",
       "      <td>...</td>\n",
       "      <td>...</td>\n",
       "      <td>...</td>\n",
       "      <td>...</td>\n",
       "      <td>...</td>\n",
       "      <td>...</td>\n",
       "      <td>...</td>\n",
       "      <td>...</td>\n",
       "      <td>...</td>\n",
       "      <td>...</td>\n",
       "      <td>...</td>\n",
       "      <td>...</td>\n",
       "      <td>...</td>\n",
       "      <td>...</td>\n",
       "      <td>...</td>\n",
       "    </tr>\n",
       "    <tr>\n",
       "      <th>995</th>\n",
       "      <td>3</td>\n",
       "      <td>38</td>\n",
       "      <td>941851</td>\n",
       "      <td>OH</td>\n",
       "      <td>500/1000</td>\n",
       "      <td>1000</td>\n",
       "      <td>1310.80</td>\n",
       "      <td>0</td>\n",
       "      <td>431289</td>\n",
       "      <td>FEMALE</td>\n",
       "      <td>...</td>\n",
       "      <td>1</td>\n",
       "      <td>NaN</td>\n",
       "      <td>17440</td>\n",
       "      <td>8720</td>\n",
       "      <td>61040</td>\n",
       "      <td>Honda</td>\n",
       "      <td>Accord</td>\n",
       "      <td>2006</td>\n",
       "      <td>Andromedia St</td>\n",
       "      <td>1424563200</td>\n",
       "    </tr>\n",
       "    <tr>\n",
       "      <th>996</th>\n",
       "      <td>285</td>\n",
       "      <td>41</td>\n",
       "      <td>186934</td>\n",
       "      <td>IL</td>\n",
       "      <td>100/300</td>\n",
       "      <td>1000</td>\n",
       "      <td>1436.79</td>\n",
       "      <td>0</td>\n",
       "      <td>608177</td>\n",
       "      <td>FEMALE</td>\n",
       "      <td>...</td>\n",
       "      <td>3</td>\n",
       "      <td>NaN</td>\n",
       "      <td>18080</td>\n",
       "      <td>18080</td>\n",
       "      <td>72320</td>\n",
       "      <td>Volkswagen</td>\n",
       "      <td>Passat</td>\n",
       "      <td>2015</td>\n",
       "      <td>Texas Drive</td>\n",
       "      <td>1422057600</td>\n",
       "    </tr>\n",
       "    <tr>\n",
       "      <th>997</th>\n",
       "      <td>130</td>\n",
       "      <td>34</td>\n",
       "      <td>918516</td>\n",
       "      <td>OH</td>\n",
       "      <td>250/500</td>\n",
       "      <td>500</td>\n",
       "      <td>1383.49</td>\n",
       "      <td>3000000</td>\n",
       "      <td>442797</td>\n",
       "      <td>FEMALE</td>\n",
       "      <td>...</td>\n",
       "      <td>3</td>\n",
       "      <td>YES</td>\n",
       "      <td>7500</td>\n",
       "      <td>7500</td>\n",
       "      <td>52500</td>\n",
       "      <td>Suburu</td>\n",
       "      <td>Impreza</td>\n",
       "      <td>1996</td>\n",
       "      <td>5th St</td>\n",
       "      <td>1421971200</td>\n",
       "    </tr>\n",
       "    <tr>\n",
       "      <th>998</th>\n",
       "      <td>458</td>\n",
       "      <td>62</td>\n",
       "      <td>533940</td>\n",
       "      <td>IL</td>\n",
       "      <td>500/1000</td>\n",
       "      <td>2000</td>\n",
       "      <td>1356.92</td>\n",
       "      <td>5000000</td>\n",
       "      <td>441714</td>\n",
       "      <td>MALE</td>\n",
       "      <td>...</td>\n",
       "      <td>1</td>\n",
       "      <td>YES</td>\n",
       "      <td>5220</td>\n",
       "      <td>5220</td>\n",
       "      <td>36540</td>\n",
       "      <td>Audi</td>\n",
       "      <td>A5</td>\n",
       "      <td>1998</td>\n",
       "      <td>Elm Lane</td>\n",
       "      <td>1424908800</td>\n",
       "    </tr>\n",
       "    <tr>\n",
       "      <th>999</th>\n",
       "      <td>456</td>\n",
       "      <td>60</td>\n",
       "      <td>556080</td>\n",
       "      <td>OH</td>\n",
       "      <td>250/500</td>\n",
       "      <td>1000</td>\n",
       "      <td>766.19</td>\n",
       "      <td>0</td>\n",
       "      <td>612260</td>\n",
       "      <td>FEMALE</td>\n",
       "      <td>...</td>\n",
       "      <td>3</td>\n",
       "      <td>NaN</td>\n",
       "      <td>460</td>\n",
       "      <td>920</td>\n",
       "      <td>3680</td>\n",
       "      <td>Mercedes</td>\n",
       "      <td>E400</td>\n",
       "      <td>2007</td>\n",
       "      <td>Cherokee Ridge</td>\n",
       "      <td>1424908800</td>\n",
       "    </tr>\n",
       "  </tbody>\n",
       "</table>\n",
       "<p>1000 rows × 36 columns</p>\n",
       "</div>"
      ],
      "text/plain": [
       "     months_as_customer  age  policy_number policy_state policy_csl  \\\n",
       "0                   328   48         521585           OH    250/500   \n",
       "1                   228   42         342868           IN    250/500   \n",
       "2                   134   29         687698           OH    100/300   \n",
       "3                   256   41         227811           IL    250/500   \n",
       "4                   228   44         367455           IL   500/1000   \n",
       "..                  ...  ...            ...          ...        ...   \n",
       "995                   3   38         941851           OH   500/1000   \n",
       "996                 285   41         186934           IL    100/300   \n",
       "997                 130   34         918516           OH    250/500   \n",
       "998                 458   62         533940           IL   500/1000   \n",
       "999                 456   60         556080           OH    250/500   \n",
       "\n",
       "     policy_deductable  policy_annual_premium  umbrella_limit  insured_zip  \\\n",
       "0                 1000                1406.91               0       466132   \n",
       "1                 2000                1197.22         5000000       468176   \n",
       "2                 2000                1413.14         5000000       430632   \n",
       "3                 2000                1415.74         6000000       608117   \n",
       "4                 1000                1583.91         6000000       610706   \n",
       "..                 ...                    ...             ...          ...   \n",
       "995               1000                1310.80               0       431289   \n",
       "996               1000                1436.79               0       608177   \n",
       "997                500                1383.49         3000000       442797   \n",
       "998               2000                1356.92         5000000       441714   \n",
       "999               1000                 766.19               0       612260   \n",
       "\n",
       "    insured_sex  ... witnesses police_report_available injury_claim  \\\n",
       "0          MALE  ...         2                     YES         6510   \n",
       "1          MALE  ...         0                     NaN          780   \n",
       "2        FEMALE  ...         3                      NO         7700   \n",
       "3        FEMALE  ...         2                      NO         6340   \n",
       "4          MALE  ...         1                      NO         1300   \n",
       "..          ...  ...       ...                     ...          ...   \n",
       "995      FEMALE  ...         1                     NaN        17440   \n",
       "996      FEMALE  ...         3                     NaN        18080   \n",
       "997      FEMALE  ...         3                     YES         7500   \n",
       "998        MALE  ...         1                     YES         5220   \n",
       "999      FEMALE  ...         3                     NaN          460   \n",
       "\n",
       "    property_claim  vehicle_claim   auto_make auto_model auto_year  \\\n",
       "0            13020          52080        Saab        92x      2004   \n",
       "1              780           3510    Mercedes       E400      2007   \n",
       "2             3850          23100       Dodge        RAM      2007   \n",
       "3             6340          50720   Chevrolet      Tahoe      2014   \n",
       "4              650           4550      Accura        RSX      2009   \n",
       "..             ...            ...         ...        ...       ...   \n",
       "995           8720          61040       Honda     Accord      2006   \n",
       "996          18080          72320  Volkswagen     Passat      2015   \n",
       "997           7500          52500      Suburu    Impreza      1996   \n",
       "998           5220          36540        Audi         A5      1998   \n",
       "999            920           3680    Mercedes       E400      2007   \n",
       "\n",
       "        Street_name incident_datetime  \n",
       "0         4th Drive        1422144000  \n",
       "1           MLK Hwy        1421798400  \n",
       "2      Francis Lane        1424563200  \n",
       "3       Maple Drive        1420848000  \n",
       "4           3rd Ave        1424131200  \n",
       "..              ...               ...  \n",
       "995   Andromedia St        1424563200  \n",
       "996     Texas Drive        1422057600  \n",
       "997          5th St        1421971200  \n",
       "998        Elm Lane        1424908800  \n",
       "999  Cherokee Ridge        1424908800  \n",
       "\n",
       "[1000 rows x 36 columns]"
      ]
     },
     "execution_count": 72,
     "metadata": {},
     "output_type": "execute_result"
    }
   ],
   "source": [
    "X=data.drop('fraud_reported',axis=1)\n",
    "X"
   ]
  },
  {
   "cell_type": "code",
   "execution_count": 92,
   "metadata": {},
   "outputs": [
    {
     "data": {
      "text/plain": [
       "array([1, 0], dtype=int64)"
      ]
     },
     "execution_count": 92,
     "metadata": {},
     "output_type": "execute_result"
    }
   ],
   "source": [
    "\n",
    "\n",
    "    # Import label encoder \n",
    "from sklearn import preprocessing \n",
    "\n",
    "# label_encoder object knows how to understand word labels. \n",
    "label_encoder = preprocessing.LabelEncoder() \n",
    "\n",
    "# Encode labels in column 'species'. \n",
    "data['fraud_reported']= label_encoder.fit_transform(data['fraud_reported']) \n",
    "\n",
    "data['fraud_reported'].unique() \n"
   ]
  },
  {
   "cell_type": "code",
   "execution_count": 95,
   "metadata": {},
   "outputs": [
    {
     "data": {
      "text/plain": [
       "0      1\n",
       "1      1\n",
       "2      0\n",
       "3      1\n",
       "4      0\n",
       "      ..\n",
       "995    0\n",
       "996    0\n",
       "997    0\n",
       "998    0\n",
       "999    0\n",
       "Name: fraud_reported, Length: 1000, dtype: int64"
      ]
     },
     "execution_count": 95,
     "metadata": {},
     "output_type": "execute_result"
    }
   ],
   "source": [
    "y=data['fraud_reported']\n",
    "y"
   ]
  },
  {
   "cell_type": "code",
   "execution_count": 96,
   "metadata": {},
   "outputs": [],
   "source": [
    "from sklearn.model_selection import train_test_split\n",
    "X_train,X_test,y_train,y_test=train_test_split(X,y,test_size=0.4,random_state=42)"
   ]
  },
  {
   "cell_type": "code",
   "execution_count": 97,
   "metadata": {},
   "outputs": [
    {
     "data": {
      "text/plain": [
       "(600, 36)"
      ]
     },
     "execution_count": 97,
     "metadata": {},
     "output_type": "execute_result"
    }
   ],
   "source": [
    "X_train.shape"
   ]
  },
  {
   "cell_type": "code",
   "execution_count": 98,
   "metadata": {},
   "outputs": [
    {
     "data": {
      "text/plain": [
       "(600,)"
      ]
     },
     "execution_count": 98,
     "metadata": {},
     "output_type": "execute_result"
    }
   ],
   "source": [
    "y_train.shape"
   ]
  },
  {
   "cell_type": "code",
   "execution_count": 99,
   "metadata": {},
   "outputs": [
    {
     "data": {
      "text/plain": [
       "dtype('int64')"
      ]
     },
     "execution_count": 99,
     "metadata": {},
     "output_type": "execute_result"
    }
   ],
   "source": [
    "y_train.dtypes"
   ]
  },
  {
   "cell_type": "code",
   "execution_count": 100,
   "metadata": {},
   "outputs": [
    {
     "data": {
      "text/plain": [
       "False"
      ]
     },
     "execution_count": 100,
     "metadata": {},
     "output_type": "execute_result"
    }
   ],
   "source": [
    "#data['fraud_reported'].fillna(method='ffill',inplace=True)\n",
    "data['fraud_reported'].isnull().any()"
   ]
  },
  {
   "cell_type": "markdown",
   "metadata": {},
   "source": [
    "# MISSING VALUES IMPUTATIONS OF NUMERICAL VARIABLES"
   ]
  },
  {
   "cell_type": "code",
   "execution_count": 101,
   "metadata": {},
   "outputs": [],
   "source": [
    "#from feature_engine.missing_data_imputers import MeanMedianImputer"
   ]
  },
  {
   "cell_type": "code",
   "execution_count": 102,
   "metadata": {},
   "outputs": [],
   "source": [
    "#"
   ]
  },
  {
   "cell_type": "code",
   "execution_count": 103,
   "metadata": {},
   "outputs": [],
   "source": [
    "#X_train=median_imputer.transform(X_train)\n",
    "#"
   ]
  },
  {
   "cell_type": "code",
   "execution_count": 104,
   "metadata": {},
   "outputs": [],
   "source": [
    "#median_imputer.imputer_dict_"
   ]
  },
  {
   "cell_type": "code",
   "execution_count": 105,
   "metadata": {},
   "outputs": [
    {
     "name": "stdout",
     "output_type": "stream",
     "text": [
      "<class 'pandas.core.frame.DataFrame'>\n",
      "Int64Index: 600 entries, 24 to 102\n",
      "Data columns (total 36 columns):\n",
      "months_as_customer             600 non-null int64\n",
      "age                            600 non-null int64\n",
      "policy_number                  600 non-null int64\n",
      "policy_state                   600 non-null object\n",
      "policy_csl                     600 non-null object\n",
      "policy_deductable              600 non-null int64\n",
      "policy_annual_premium          600 non-null float64\n",
      "umbrella_limit                 600 non-null int64\n",
      "insured_zip                    600 non-null int64\n",
      "insured_sex                    600 non-null object\n",
      "insured_education_level        600 non-null object\n",
      "insured_occupation             600 non-null object\n",
      "insured_hobbies                600 non-null object\n",
      "insured_relationship           600 non-null object\n",
      "capital-gains                  600 non-null int64\n",
      "capital-loss                   600 non-null int64\n",
      "incident_type                  600 non-null object\n",
      "collision_type                 492 non-null object\n",
      "incident_severity              600 non-null object\n",
      "authorities_contacted          600 non-null object\n",
      "incident_state                 600 non-null object\n",
      "incident_city                  600 non-null object\n",
      "incident_hour_of_the_day       600 non-null int64\n",
      "number_of_vehicles_involved    600 non-null int64\n",
      "property_damage                384 non-null object\n",
      "bodily_injuries                600 non-null int64\n",
      "witnesses                      600 non-null int64\n",
      "police_report_available        415 non-null object\n",
      "injury_claim                   600 non-null int64\n",
      "property_claim                 600 non-null int64\n",
      "vehicle_claim                  600 non-null int64\n",
      "auto_make                      600 non-null object\n",
      "auto_model                     600 non-null object\n",
      "auto_year                      600 non-null int64\n",
      "Street_name                    600 non-null object\n",
      "incident_datetime              600 non-null int64\n",
      "dtypes: float64(1), int64(17), object(18)\n",
      "memory usage: 173.4+ KB\n"
     ]
    }
   ],
   "source": [
    "X_train.info()"
   ]
  },
  {
   "cell_type": "code",
   "execution_count": 106,
   "metadata": {},
   "outputs": [
    {
     "name": "stdout",
     "output_type": "stream",
     "text": [
      "months_as_customer:False\n",
      "age:False\n",
      "policy_number:False\n",
      "policy_state:False\n",
      "policy_csl:False\n",
      "policy_deductable:False\n",
      "policy_annual_premium:False\n",
      "umbrella_limit:False\n",
      "insured_zip:False\n",
      "insured_sex:False\n",
      "insured_education_level:False\n",
      "insured_occupation:False\n",
      "insured_hobbies:False\n",
      "insured_relationship:False\n",
      "capital-gains:False\n",
      "capital-loss:False\n",
      "incident_type:False\n",
      "collision_type:True\n",
      "incident_severity:False\n",
      "authorities_contacted:False\n",
      "incident_state:False\n",
      "incident_city:False\n",
      "incident_hour_of_the_day:False\n",
      "number_of_vehicles_involved:False\n",
      "property_damage:True\n",
      "bodily_injuries:False\n",
      "witnesses:False\n",
      "police_report_available:True\n",
      "injury_claim:False\n",
      "property_claim:False\n",
      "vehicle_claim:False\n",
      "auto_make:False\n",
      "auto_model:False\n",
      "auto_year:False\n",
      "Street_name:False\n",
      "incident_datetime:False\n"
     ]
    }
   ],
   "source": [
    "for i in X_train.columns:\n",
    "    print(\"{}:{}\".format(i,X_train[i].isnull().any()))\n",
    "#X_train.isnull().any()"
   ]
  },
  {
   "cell_type": "code",
   "execution_count": 107,
   "metadata": {},
   "outputs": [
    {
     "data": {
      "text/plain": [
       "months_as_customer             False\n",
       "age                            False\n",
       "policy_number                  False\n",
       "policy_state                   False\n",
       "policy_csl                     False\n",
       "policy_deductable              False\n",
       "policy_annual_premium          False\n",
       "umbrella_limit                 False\n",
       "insured_zip                    False\n",
       "insured_sex                    False\n",
       "insured_education_level        False\n",
       "insured_occupation             False\n",
       "insured_hobbies                False\n",
       "insured_relationship           False\n",
       "capital-gains                  False\n",
       "capital-loss                   False\n",
       "incident_type                  False\n",
       "collision_type                  True\n",
       "incident_severity              False\n",
       "authorities_contacted          False\n",
       "incident_state                 False\n",
       "incident_city                  False\n",
       "incident_hour_of_the_day       False\n",
       "number_of_vehicles_involved    False\n",
       "property_damage                 True\n",
       "bodily_injuries                False\n",
       "witnesses                      False\n",
       "police_report_available         True\n",
       "injury_claim                   False\n",
       "property_claim                 False\n",
       "vehicle_claim                  False\n",
       "auto_make                      False\n",
       "auto_model                     False\n",
       "auto_year                      False\n",
       "Street_name                    False\n",
       "incident_datetime              False\n",
       "dtype: bool"
      ]
     },
     "execution_count": 107,
     "metadata": {},
     "output_type": "execute_result"
    }
   ],
   "source": [
    "X_train.isnull().any()"
   ]
  },
  {
   "cell_type": "code",
   "execution_count": 108,
   "metadata": {},
   "outputs": [
    {
     "data": {
      "text/plain": [
       "False"
      ]
     },
     "execution_count": 108,
     "metadata": {},
     "output_type": "execute_result"
    }
   ],
   "source": [
    "y_train.isnull().any()"
   ]
  },
  {
   "cell_type": "code",
   "execution_count": 109,
   "metadata": {},
   "outputs": [
    {
     "data": {
      "text/plain": [
       "False"
      ]
     },
     "execution_count": 109,
     "metadata": {},
     "output_type": "execute_result"
    }
   ],
   "source": [
    "y_test.isnull().any()"
   ]
  },
  {
   "cell_type": "code",
   "execution_count": 110,
   "metadata": {},
   "outputs": [
    {
     "data": {
      "text/plain": [
       "24     0\n",
       "467    0\n",
       "539    0\n",
       "531    0\n",
       "618    0\n",
       "Name: fraud_reported, dtype: int64"
      ]
     },
     "execution_count": 110,
     "metadata": {},
     "output_type": "execute_result"
    }
   ],
   "source": [
    "y_train.head()"
   ]
  },
  {
   "cell_type": "code",
   "execution_count": 111,
   "metadata": {},
   "outputs": [],
   "source": [
    "cat=[ var for var in categorical if var!='fraud_reported']"
   ]
  },
  {
   "cell_type": "code",
   "execution_count": 112,
   "metadata": {},
   "outputs": [
    {
     "data": {
      "text/plain": [
       "policy_state               object\n",
       "policy_csl                 object\n",
       "insured_sex                object\n",
       "insured_education_level    object\n",
       "insured_occupation         object\n",
       "insured_hobbies            object\n",
       "insured_relationship       object\n",
       "incident_type              object\n",
       "collision_type             object\n",
       "incident_severity          object\n",
       "authorities_contacted      object\n",
       "incident_state             object\n",
       "incident_city              object\n",
       "property_damage            object\n",
       "police_report_available    object\n",
       "auto_make                  object\n",
       "auto_model                 object\n",
       "Street_name                object\n",
       "dtype: object"
      ]
     },
     "execution_count": 112,
     "metadata": {},
     "output_type": "execute_result"
    }
   ],
   "source": [
    "data[cat].dtypes"
   ]
  },
  {
   "cell_type": "markdown",
   "metadata": {},
   "source": [
    "# SCALING THE DATA"
   ]
  },
  {
   "cell_type": "code",
   "execution_count": 113,
   "metadata": {},
   "outputs": [],
   "source": [
    "# from sklearn.preprocessing import StandardScaler\n",
    "# # set up the scaler\n",
    "# scaler = StandardScaler()\n",
    "# X_train = scaler.fit_transform(X_train)\n",
    "# X_test = scaler.transform(X_test)\n"
   ]
  },
  {
   "cell_type": "code",
   "execution_count": 114,
   "metadata": {},
   "outputs": [],
   "source": [
    "from sklearn.preprocessing import StandardScaler\n",
    "from feature_engine import missing_data_imputers as mdi\n",
    "from feature_engine import discretisers as dsc\n",
    "from feature_engine import categorical_encoders as ce\n",
    "from sklearn.preprocessing import MaxAbsScaler,RobustScaler\n",
    "from feature_engine import variable_transformers as vt\n",
    "from sklearn.preprocessing import RobustScaler\n",
    "from feature_engine.variable_transformers import ReciprocalTransformer as rt\n",
    "\n",
    "from feature_engine import outlier_removers as outr\n",
    "from feature_engine.outlier_removers import Winsorizer\n",
    "from feature_engine.outlier_removers import ArbitraryOutlierCapper\n",
    "from sklearn.pipeline import Pipeline\n",
    "from sklearn.impute import SimpleImputer\n",
    "from sklearn.preprocessing import MinMaxScaler\n",
    "\n"
   ]
  },
  {
   "cell_type": "code",
   "execution_count": 115,
   "metadata": {},
   "outputs": [],
   "source": [
    "patent_preprocess = Pipeline([\n",
    "    \n",
    "    #('imputer', mdi.CategoricalVariableImputer(variables=['collision_type','police_report_available','property_damage'])),\n",
    "   #('imputer', mdi.RandomSampleImputer(random_state=cat,seed='observation')),\n",
    "    ('imputer', mdi.FrequentCategoryImputer(variables=['collision_type','police_report_available','property_damage'])),\n",
    "   \n",
    "    \n",
    "    # categorical encoding \n",
    "    #('rare_label_enc', ce.RareLabelCategoricalEncoder(\n",
    "             #tol=0.0006,n_categories=20, variables=label)),\n",
    "     #('encoder',ce.OrdinalCategoricalEncoder(encoding_method='ordered',variables=['incident_severity','insured_education_level'])),\n",
    "     ('categorical_enc', ce.OneHotCategoricalEncoder(\n",
    "     top_categories=20,\n",
    "     variables=cat,\n",
    "     drop_last=True)),\n",
    "   \n",
    "    ('disc' , dsc.EqualWidthDiscretiser(bins=7, variables=discrete)),\n",
    "    #('capper',  outr.Winsorizer(distribution='skewed', tail='left', fold=1.5, variables=discrete)),\n",
    "    ('discr', dsc.DecisionTreeDiscretiser(cv=7,\n",
    "                              scoring='roc_auc',\n",
    "                              variables=discrete,\n",
    "                              param_grid=({'max_depth':range(1,10)}), \n",
    "                              regression=False)),\n",
    "    ('yjt',vt.PowerTransformer(variables=discrete, exp=0.5)),\n",
    "   # ('yjt', vt.YeoJohnsonTransformer(variables =discrete)),\n",
    "    \n",
    "    ('discretisation', dsc.EqualWidthDiscretiser(bins=10, variables=continuous)),\n",
    "    ('scaler',StandardScaler()),\n",
    "\n",
    "#     ('scaler_mean',MaxAbsScaler(with_centering=False,\n",
    "#                              with_scaling=True,\n",
    "#                              quantile_range=(0, 50))),\n",
    "\n",
    "     \n",
    "])"
   ]
  },
  {
   "cell_type": "code",
   "execution_count": 116,
   "metadata": {},
   "outputs": [
    {
     "data": {
      "text/plain": [
       "Pipeline(memory=None,\n",
       "         steps=[('imputer',\n",
       "                 FrequentCategoryImputer(variables=['collision_type',\n",
       "                                                    'police_report_available',\n",
       "                                                    'property_damage'])),\n",
       "                ('categorical_enc',\n",
       "                 OneHotCategoricalEncoder(drop_last=True, top_categories=20,\n",
       "                                          variables=['policy_state',\n",
       "                                                     'policy_csl',\n",
       "                                                     'insured_sex',\n",
       "                                                     'insured_education_level',\n",
       "                                                     'insured_occupation',\n",
       "                                                     'insured_hobbies',\n",
       "                                                     'insured_relation...\n",
       "                                             'capital-gains', 'capital-loss',\n",
       "                                             'incident_hour_of_the_day',\n",
       "                                             'number_of_vehicles_involved',\n",
       "                                             'bodily_injuries', 'witnesses',\n",
       "                                             'injury_claim', 'property_claim',\n",
       "                                             'vehicle_claim'])),\n",
       "                ('discretisation',\n",
       "                 EqualWidthDiscretiser(bins=10, return_object=False,\n",
       "                                       variables=['policy_annual_premium'])),\n",
       "                ('scaler',\n",
       "                 StandardScaler(copy=True, with_mean=True, with_std=True))],\n",
       "         verbose=False)"
      ]
     },
     "execution_count": 116,
     "metadata": {},
     "output_type": "execute_result"
    }
   ],
   "source": [
    "patent_preprocess.fit(X_train,y_train)"
   ]
  },
  {
   "cell_type": "code",
   "execution_count": 122,
   "metadata": {},
   "outputs": [],
   "source": [
    "# Apply Transformations\n",
    "X_train=patent_preprocess.transform(X_train)\n",
    "X_test=patent_preprocess.transform(X_test)"
   ]
  },
  {
   "cell_type": "code",
   "execution_count": 123,
   "metadata": {},
   "outputs": [
    {
     "data": {
      "text/plain": [
       "24     0\n",
       "467    0\n",
       "539    0\n",
       "531    0\n",
       "618    0\n",
       "      ..\n",
       "106    1\n",
       "270    0\n",
       "860    0\n",
       "435    0\n",
       "102    0\n",
       "Name: fraud_reported, Length: 600, dtype: int64"
      ]
     },
     "execution_count": 123,
     "metadata": {},
     "output_type": "execute_result"
    }
   ],
   "source": [
    "y_train"
   ]
  },
  {
   "cell_type": "code",
   "execution_count": 248,
   "metadata": {},
   "outputs": [
    {
     "name": "stdout",
     "output_type": "stream",
     "text": [
      "float64\n",
      "float64\n",
      "float64\n",
      "float64\n",
      "float64\n",
      "float64\n",
      "float64\n",
      "float64\n",
      "float64\n",
      "float64\n",
      "float64\n",
      "float64\n",
      "float64\n",
      "float64\n",
      "float64\n",
      "float64\n",
      "float64\n",
      "float64\n",
      "float64\n",
      "float64\n",
      "float64\n",
      "float64\n",
      "float64\n",
      "float64\n",
      "float64\n",
      "float64\n",
      "float64\n",
      "float64\n",
      "float64\n",
      "float64\n",
      "float64\n",
      "float64\n",
      "float64\n",
      "float64\n",
      "float64\n",
      "float64\n",
      "float64\n",
      "float64\n",
      "float64\n",
      "float64\n",
      "float64\n",
      "float64\n",
      "float64\n",
      "float64\n",
      "float64\n",
      "float64\n",
      "float64\n",
      "float64\n",
      "float64\n",
      "float64\n",
      "float64\n",
      "float64\n",
      "float64\n",
      "float64\n",
      "float64\n",
      "float64\n",
      "float64\n",
      "float64\n",
      "float64\n",
      "float64\n",
      "float64\n",
      "float64\n",
      "float64\n",
      "float64\n",
      "float64\n",
      "float64\n",
      "float64\n",
      "float64\n",
      "float64\n",
      "float64\n",
      "float64\n",
      "float64\n",
      "float64\n",
      "float64\n",
      "float64\n",
      "float64\n",
      "float64\n",
      "float64\n",
      "float64\n",
      "float64\n",
      "float64\n",
      "float64\n",
      "float64\n",
      "float64\n",
      "float64\n",
      "float64\n",
      "float64\n",
      "float64\n",
      "float64\n",
      "float64\n",
      "float64\n",
      "float64\n",
      "float64\n",
      "float64\n",
      "float64\n",
      "float64\n",
      "float64\n",
      "float64\n",
      "float64\n",
      "float64\n",
      "float64\n",
      "float64\n",
      "float64\n",
      "float64\n",
      "float64\n",
      "float64\n",
      "float64\n",
      "float64\n",
      "float64\n",
      "float64\n",
      "float64\n",
      "float64\n",
      "float64\n",
      "float64\n",
      "float64\n",
      "float64\n",
      "float64\n",
      "float64\n",
      "float64\n",
      "float64\n",
      "float64\n",
      "float64\n",
      "float64\n",
      "float64\n",
      "float64\n",
      "float64\n",
      "float64\n",
      "float64\n",
      "float64\n",
      "float64\n",
      "float64\n",
      "float64\n",
      "float64\n",
      "float64\n",
      "float64\n",
      "float64\n",
      "float64\n",
      "float64\n",
      "float64\n",
      "float64\n",
      "float64\n",
      "float64\n",
      "float64\n",
      "float64\n",
      "float64\n",
      "float64\n",
      "float64\n",
      "float64\n",
      "float64\n",
      "float64\n",
      "float64\n",
      "float64\n",
      "float64\n",
      "float64\n",
      "float64\n",
      "float64\n",
      "float64\n",
      "float64\n",
      "float64\n",
      "float64\n",
      "float64\n",
      "float64\n",
      "float64\n",
      "float64\n",
      "float64\n",
      "float64\n",
      "float64\n",
      "float64\n",
      "float64\n",
      "float64\n",
      "float64\n",
      "float64\n",
      "float64\n",
      "float64\n",
      "float64\n",
      "float64\n",
      "float64\n",
      "float64\n",
      "float64\n",
      "float64\n",
      "float64\n",
      "float64\n",
      "float64\n",
      "float64\n",
      "float64\n",
      "float64\n",
      "float64\n",
      "float64\n",
      "float64\n",
      "float64\n",
      "float64\n",
      "float64\n",
      "float64\n",
      "float64\n",
      "float64\n",
      "float64\n",
      "float64\n",
      "float64\n",
      "float64\n",
      "float64\n",
      "float64\n",
      "float64\n",
      "float64\n",
      "float64\n",
      "float64\n",
      "float64\n",
      "float64\n",
      "float64\n",
      "float64\n",
      "float64\n"
     ]
    }
   ],
   "source": [
    "\n",
    "    print(ok[i].dtype)"
   ]
  },
  {
   "cell_type": "code",
   "execution_count": 124,
   "metadata": {},
   "outputs": [
    {
     "name": "stdout",
     "output_type": "stream",
     "text": [
      "Mean Cross-validation scores: 0.5197610709278521\n",
      "\n",
      "Naive Algorithm Test Performance:  0.595\n"
     ]
    }
   ],
   "source": [
    "from sklearn.dummy import DummyClassifier\n",
    "from sklearn.model_selection import cross_val_score\n",
    "model_dummy = DummyClassifier(strategy='stratified',random_state=123)\n",
    "model_dummy.fit(X_train,y_train)\n",
    "cv_scores = cross_val_score(model_dummy, X_train, y_train,scoring='roc_auc')\n",
    "\n",
    "# Mean Cross validation Score\n",
    "print(\"Mean Cross-validation scores: {}\".format(cv_scores.mean()))\n",
    "print()\n",
    "\n",
    "# Check test data set performance\n",
    "print(\"Naive Algorithm Test Performance: \", model_dummy.score(X_test,y_test))"
   ]
  },
  {
   "cell_type": "markdown",
   "metadata": {},
   "source": [
    "# LOGISTIC REGRESSION"
   ]
  },
  {
   "cell_type": "code",
   "execution_count": 125,
   "metadata": {},
   "outputs": [
    {
     "name": "stdout",
     "output_type": "stream",
     "text": [
      "Mean Cross-validation scores: 0.8314220932249211\n",
      "Number of Iterations:7\n",
      "Mean Accuracy:0.8314220932249211\n",
      "Logistic Performance-train:  0.9495868297995004\n",
      "Logistic Performance-test:  0.852116801825414\n"
     ]
    }
   ],
   "source": [
    "import warnings\n",
    "warnings.filterwarnings(\"ignore\")\n",
    "from sklearn.linear_model import LogisticRegression\n",
    "from sklearn.model_selection import cross_val_score\n",
    "from sklearn.model_selection import GridSearchCV\n",
    "from sklearn.preprocessing import StandardScaler\n",
    "\n",
    "scale=StandardScaler()\n",
    "clf=scale.fit(X_train,y_train)\n",
    "clf = LogisticRegression()\n",
    "\n",
    "cv_scores = cross_val_score(clf, X_train, y_train,cv=7,scoring = 'roc_auc')\n",
    "c_space = np.logspace(-3,2,10)\n",
    "pen=['l1','l2','elasticnet']#'l2','l1','elasticnet']\n",
    "param_grid = {'C': c_space,'penalty':pen,'solver':['lbfgs','liblinear']}\n",
    "\n",
    "# Mean Cross validation Score\n",
    "print(\"Mean Cross-validation scores: {}\".format(cv_scores.mean()))\n",
    "print(\"Number of Iterations:{}\".format(len(cv_scores)))\n",
    "print(\"Mean Accuracy:{}\".format(cv_scores.mean()))\n",
    "\n",
    "clf_cv=GridSearchCV(clf,param_grid,cv=7,scoring = 'roc_auc')\n",
    "clf_cv=clf_cv.fit(X_train,y_train)\n",
    "\n",
    "# Print Co-efficients\n",
    "#print(\"Logistic.coef_:\", clf.coef_)\n",
    "#print(\"Logistic.intercept_:\", clf.intercept_)\n",
    "\n",
    "# Check test data set performance\n",
    "print(\"Logistic Performance-train: \", clf_cv.score(X_train,y_train))\n",
    "print(\"Logistic Performance-test: \", clf_cv.score(X_test,y_test))\n"
   ]
  },
  {
   "cell_type": "markdown",
   "metadata": {},
   "source": [
    "# K NEIGHBORS CLASSIFIER "
   ]
  },
  {
   "cell_type": "code",
   "execution_count": 135,
   "metadata": {},
   "outputs": [
    {
     "name": "stdout",
     "output_type": "stream",
     "text": [
      "Best Mean Cross-validation score: 0.7021\n",
      "\n",
      "KNN parameters:  {'n_jobs': -1, 'n_neighbors': 8}\n",
      "KNN Test Performance-train:  0.861836205239895\n",
      "KNN Test Performance-test:  0.6740618543985692\n"
     ]
    }
   ],
   "source": [
    "from sklearn.model_selection import GridSearchCV\n",
    "from sklearn.neighbors import KNeighborsClassifier\n",
    "\n",
    "knn = KNeighborsClassifier()\n",
    "\n",
    "# define a list of parameters\n",
    "\n",
    "param_knn = {'n_neighbors': range(1,10),'n_jobs':[-1]}\n",
    "\n",
    "#apply grid search\n",
    "grid_knn = GridSearchCV(knn, param_knn, cv=5, return_train_score=True,scoring = 'roc_auc')\n",
    "grid_knn.fit(X_train, y_train)\n",
    "\n",
    "# Mean Cross Validation Score\n",
    "print(\"Best Mean Cross-validation score: {:.4f}\".format(grid_knn.best_score_))\n",
    "print()\n",
    "\n",
    "#find best parameters \n",
    "print('KNN parameters: ', grid_knn.best_params_)\n",
    "\n",
    "# Check test data set performance\n",
    "print(\"KNN Test Performance-train: \", grid_knn.score(X_train,y_train))\n",
    "print(\"KNN Test Performance-test: \", grid_knn.score(X_test,y_test))"
   ]
  },
  {
   "cell_type": "markdown",
   "metadata": {},
   "source": [
    "# DECISION TREE CLASSIFIER"
   ]
  },
  {
   "cell_type": "code",
   "execution_count": 136,
   "metadata": {},
   "outputs": [
    {
     "name": "stdout",
     "output_type": "stream",
     "text": [
      "Best Mean Cross-validation score: 0.88\n",
      "\n",
      "Decision Tree parameters:  {'max_depth': 3, 'max_leaf_nodes': 4}\n",
      "Decision Tree Train Performance:  0.8790756517839984\n",
      "Decision Tree  Test Performance:  0.8722210230951867\n"
     ]
    }
   ],
   "source": [
    "from sklearn.tree import DecisionTreeClassifier\n",
    "dtree = DecisionTreeClassifier(random_state=0)\n",
    "\n",
    "#define a list of parameters\n",
    "param_dtree = {'max_depth': range(1,10),'max_leaf_nodes':range(2,10)}\n",
    "\n",
    "#apply grid search\n",
    "grid_dtree = GridSearchCV(dtree, param_dtree, cv=5, return_train_score = True,scoring = 'roc_auc')\n",
    "grid_dtree.fit(X_train, y_train)\n",
    "\n",
    "# Mean Cross Validation Score\n",
    "print(\"Best Mean Cross-validation score: {:.2f}\".format(grid_dtree.best_score_))\n",
    "print()\n",
    "\n",
    "#find best parameters\n",
    "print('Decision Tree parameters: ', grid_dtree.best_params_)\n",
    "\n",
    "\n",
    "# Check test data set performance\n",
    "print(\"Decision Tree Train Performance: \", grid_dtree.score(X_train,y_train))\n",
    "print(\"Decision Tree  Test Performance: \", grid_dtree.score(X_test,y_test))"
   ]
  },
  {
   "cell_type": "markdown",
   "metadata": {},
   "source": [
    "# SUPPORT VECTOR CLASSIFIER"
   ]
  },
  {
   "cell_type": "code",
   "execution_count": 137,
   "metadata": {
    "scrolled": true
   },
   "outputs": [],
   "source": [
    "from sklearn.svm import SVC\n",
    "from sklearn.model_selection import GridSearchCV\n",
    "#define a list of parameters\n",
    "\n",
    "param_grid_rbf= [{'kernel': ['rbf'],\n",
    "               'C': [0.001, 0.01, 0.1, 1, 10, 100,1000,20000],\n",
    "               'gamma': [0.001, 0.01, 0.1, 1, 10, 100]}]\n",
    "#param_grid_linear=[{'kernel': ['linear'],\n",
    "              # 'C': [0.001, 0.01, 0.1, 1, 10, 100]}]\n",
    "              \n",
    "param_grid_sig=[{'kernel': ['sigmoid'],'gamma': np.logspace(-5,5,10)}]\n",
    "\n",
    "param_grid_poly=[{'kernel':['poly'],\n",
    "               #'C':[0.001,0.01,0.1,0.25,0.5,1,10],\n",
    "               'degree':[1,2,3]}]\n",
    "               #'gamma':[0.1,1,2,5,10,50]}]\n",
    "    \n",
    "c=[0.001, 0.01, 0.1, 1, 10, 100]\n",
    "param_LinearSVC=[{'C': c }]\n",
    "\n",
    "#print(\"List of grids:\\n{}\".format(param_grid))"
   ]
  },
  {
   "cell_type": "markdown",
   "metadata": {},
   "source": [
    "## RBF KERNEL"
   ]
  },
  {
   "cell_type": "code",
   "execution_count": 138,
   "metadata": {},
   "outputs": [
    {
     "name": "stdout",
     "output_type": "stream",
     "text": [
      "train score:  0.965\n",
      "test score:  0.7725000000000001\n",
      "Best parameters: {'C': 10, 'gamma': 0.001, 'kernel': 'rbf'}\n",
      "Best cross-validation score: 0.82\n"
     ]
    }
   ],
   "source": [
    "grid_search = GridSearchCV(SVC(), param_grid_rbf, cv=3,\n",
    "                          return_train_score=True,scoring = 'f1_micro')\n",
    "grid_search.fit(X_train, y_train)\n",
    "print('train score: ', grid_search.score(X_train, y_train))\n",
    "print('test score: ', grid_search.score(X_test, y_test))\n",
    "print(\"Best parameters: {}\".format(grid_search.best_params_))\n",
    "print(\"Best cross-validation score: {:.2f}\".format(grid_search.best_score_))"
   ]
  },
  {
   "cell_type": "markdown",
   "metadata": {},
   "source": [
    "## SIGMOID KERNEL"
   ]
  },
  {
   "cell_type": "code",
   "execution_count": 139,
   "metadata": {},
   "outputs": [
    {
     "name": "stdout",
     "output_type": "stream",
     "text": [
      "train score:  0.7250000000000001\n",
      "test score:  0.7699999999999999\n",
      "Best parameters: {'gamma': 0.021544346900318846, 'kernel': 'sigmoid'}\n",
      "Best cross-validation score: 0.84\n"
     ]
    }
   ],
   "source": [
    "grid_search = GridSearchCV(SVC(),param_grid_sig, cv=10,\n",
    "                          return_train_score=True,scoring = 'f1_micro')\n",
    "grid_search.fit(X_train, y_train)\n",
    "print('train score: ', grid_search.score(X_train, y_train))\n",
    "print('test score: ', grid_search.score(X_test, y_test))\n",
    "print(\"Best parameters: {}\".format(grid_search.best_params_))\n",
    "\n",
    "print(\"Best cross-validation score: {:.2f}\".format(grid_search.best_score_))\n"
   ]
  },
  {
   "cell_type": "markdown",
   "metadata": {},
   "source": [
    "## POLYNOMIAL KERNEL"
   ]
  },
  {
   "cell_type": "code",
   "execution_count": 140,
   "metadata": {},
   "outputs": [
    {
     "name": "stdout",
     "output_type": "stream",
     "text": [
      "train score:  0.92\n",
      "test score:  0.78\n",
      "Best parameters: {'degree': 1, 'kernel': 'poly'}\n",
      "Best cross-validation score: 0.83\n"
     ]
    }
   ],
   "source": [
    "grid_search = GridSearchCV(SVC(), param_grid_poly, cv=3,\n",
    "                          return_train_score=True,scoring = 'f1_micro')\n",
    "grid_search.fit(X_train, y_train)\n",
    "print('train score: ', grid_search.score(X_train, y_train))\n",
    "print('test score: ', grid_search.score(X_test, y_test))\n",
    "print(\"Best parameters: {}\".format(grid_search.best_params_))\n",
    "print(\"Best cross-validation score: {:.2f}\".format(grid_search.best_score_))"
   ]
  },
  {
   "cell_type": "markdown",
   "metadata": {},
   "source": [
    "# LINEAR SUPPORT VECTOR CLASSIFIER"
   ]
  },
  {
   "cell_type": "code",
   "execution_count": 141,
   "metadata": {},
   "outputs": [
    {
     "name": "stdout",
     "output_type": "stream",
     "text": [
      "train score:  0.9116666666666666\n",
      "test score:  0.7975\n",
      "Best parameters: {'C': 0.001}\n",
      "Best cross-validation score: 0.82\n"
     ]
    }
   ],
   "source": [
    "from sklearn.svm import LinearSVC\n",
    "grid_search = GridSearchCV(LinearSVC(), param_LinearSVC, cv=3,\n",
    "                          return_train_score=True,scoring = 'f1_micro')\n",
    "grid_search.fit(X_train, y_train)\n",
    "print('train score: ', grid_search.score(X_train, y_train))\n",
    "print('test score: ', grid_search.score(X_test, y_test))\n",
    "print(\"Best parameters: {}\".format(grid_search.best_params_))\n",
    "print(\"Best cross-validation score: {:.2f}\".format(grid_search.best_score_))"
   ]
  },
  {
   "cell_type": "code",
   "execution_count": 142,
   "metadata": {},
   "outputs": [
    {
     "name": "stdout",
     "output_type": "stream",
     "text": [
      "Best Mean Cross Validation Score is 0.8794527320379528\n",
      "Best Mean Cross Validation Score is {'criterion': 'entropy', 'max_depth': 6, 'max_features': 'auto', 'n_estimators': 300}\n",
      "Train score is 0.9857152008199346\n",
      "Test score is 0.8445931361968487\n",
      "0.8445931361968487\n"
     ]
    }
   ],
   "source": [
    "from sklearn.ensemble import RandomForestClassifier\n",
    "rfc =RandomForestClassifier(random_state=42)\n",
    "rfc_param = { \n",
    "    'n_estimators': [100,200,300,500],\n",
    "    'max_features': ['auto'],\n",
    "    'max_depth' : [2,4,5,6,7,8,10],\n",
    "    'criterion' :['gini', 'entropy']\n",
    "}\n",
    "\n",
    "rfc_grid = GridSearchCV(rfc, rfc_param,cv=5, return_train_score=True,scoring = 'roc_auc')\n",
    "rfc_grid.fit(X_train,y_train)\n",
    "X_train_rfc = rfc_grid.predict(X_train)\n",
    "X_test_rfc = rfc_grid.predict(X_test)\n",
    "\n",
    "\n",
    "print(f'Best Mean Cross Validation Score is {rfc_grid.best_score_}')\n",
    "print(f'Best Mean Cross Validation Score is {rfc_grid.best_params_}')\n",
    "print(f'Train score is {rfc_grid.score(X_train,y_train)}')\n",
    "print(f'Test score is {rfc_grid.score(X_test,y_test)}')\n",
    "\n",
    "print(rfc_grid.score(X_test,y_test))"
   ]
  },
  {
   "cell_type": "markdown",
   "metadata": {},
   "source": [
    "For this dataset,Logistic regression works the best with a test performance score of 88.89%"
   ]
  },
  {
   "cell_type": "code",
   "execution_count": 143,
   "metadata": {},
   "outputs": [
    {
     "name": "stdout",
     "output_type": "stream",
     "text": [
      "Best Mean Cross Validation Score is 0.8750720072271203\n",
      "Best Mean Cross Validation Score is {'criterion': 'entropy', 'max_depth': 7, 'n_estimators': 500}\n",
      "Train score is 0.990343347639485\n",
      "Test score is 0.8450556566248342\n"
     ]
    }
   ],
   "source": [
    "from  sklearn.ensemble import ExtraTreesClassifier\n",
    "etc= ExtraTreesClassifier(random_state=42)\n",
    "etc_param = { \n",
    "    'n_estimators': [200, 500],\n",
    "    #'max_features': ['auto', 'sqrt', 'log2'],\n",
    "    'max_depth' : [2,4,5,6,7,8],\n",
    "    'criterion' :['gini', 'entropy']\n",
    "}\n",
    "etc_grid = GridSearchCV(etc, etc_param,cv=5, return_train_score=True,scoring = 'roc_auc' )\n",
    "etc_grid.fit(X_train,y_train)\n",
    "X_train_etc = etc_grid.predict(X_train)\n",
    "X_test_etc = etc_grid.predict(X_test)\n",
    "\n",
    "print(f'Best Mean Cross Validation Score is {etc_grid.best_score_}')\n",
    "print(f'Best Mean Cross Validation Score is {etc_grid.best_params_}')\n",
    "print(f'Train score is {etc_grid.score(X_train,y_train)}')\n",
    "print(f'Test score is {etc_grid.score(X_test,y_test)}')"
   ]
  },
  {
   "cell_type": "code",
   "execution_count": 107,
   "metadata": {},
   "outputs": [
    {
     "name": "stdout",
     "output_type": "stream",
     "text": [
      "Best Mean Cross Validation Score is 0.8957514595354906\n",
      "Best Mean Cross Validation Score is {'learning_rate': 0.1, 'max_depth': 2, 'n_estimators': 100}\n",
      "Train score is 0.9789731599513164\n",
      "Test score is 0.848940828219913\n"
     ]
    }
   ],
   "source": [
    "from  sklearn.ensemble import GradientBoostingClassifier\n",
    "gbc= GradientBoostingClassifier(random_state=42)\n",
    "gbc_param = {\n",
    "              'max_depth' : [2,3,4],\n",
    "              'n_estimators' : [100,150],\n",
    "              'learning_rate' : [0.1,0.5,1.0,2],\n",
    "             }\n",
    "gbc_grid = GridSearchCV(gbc, gbc_param,cv=5, return_train_score=True, scoring = 'roc_auc')\n",
    "gbc_grid.fit(X_train,y_train)\n",
    "X_train_gbc = gbc_grid.predict(X_train)\n",
    "X_test_gbc = gbc_grid.predict(X_test)\n",
    "\n",
    "# print('train mse: {}'.format(mean_squared_error(y_train, X_train_gbc)))\n",
    "# print('train rmse: {}'.format(sqrt(mean_squared_error(y_train, X_train_gbc))))\n",
    "# print('train r2: {}'.format(r2_score(y_train, X_train_gbc)))\n",
    "# print()\n",
    "# print('test mse: {}'.format(mean_squared_error(y_test, X_test_gbc)))\n",
    "# print('test rmse: {}'.format(sqrt(mean_squared_error(y_test, X_test_gbc))))\n",
    "# print('test r2: {}'.format(r2_score(y_test, X_test_gbc)))\n",
    "print(f'Best Mean Cross Validation Score is {gbc_grid.best_score_}')\n",
    "print(f'Best Mean Cross Validation Score is {gbc_grid.best_params_}')\n",
    "print(f'Train score is {gbc_grid.score(X_train,y_train)}')\n",
    "print(f'Test score is {gbc_grid.score(X_test,y_test)}')\n"
   ]
  },
  {
   "cell_type": "code",
   "execution_count": null,
   "metadata": {},
   "outputs": [],
   "source": [
    "from  xgboost import XGBClassifier\n",
    "xgbc= XGBClassifier(random_state=42,early_stopping_rounds=2,objective= 'binary:logistic')\n",
    "xgbc_param = {\n",
    "              'max_depth' : [2,4,6,8],\n",
    "              'n_estimators' : [25,50,100,150],\n",
    "              'learning_rate' : [0.05,0.09,0.1,0.2,0.5],\n",
    "               'min_child_weight' : [1,3,5,7],\n",
    "               'subsample':[0.6,0.7,0.8,0.9,1]\n",
    "             }\n",
    "xgbc_grid = GridSearchCV(xgbc, xgbc_param,cv=5, return_train_score=True,scoring = 'roc_auc' )\n",
    "xgbc_grid.fit(X_train,y_train)\n",
    "X_train_xgbc = etc_grid.predict(X_train)\n",
    "X_test_xgbc = etc_grid.predict(X_test)\n",
    "\n",
    "# print('train mse: {}'.format(mean_squared_error(y_train, X_train_xgbc)))\n",
    "\n",
    "# print('train r2: {}'.format(r2_score(y_train, X_train_xgbc)))\n",
    "# print()\n",
    "# print('test mse: {}'.format(mean_squared_error(y_test, X_test_xgbc)))\n",
    "\n",
    "# print('test r2: {}'.format(r2_score(y_test, X_test_xgbc)))\n",
    "print(f'Best Mean Cross Validation Score is {xgbc_grid.best_score_}')\n",
    "print(f'Best Mean Cross Validation Score is {xgbc_grid.best_params_}')\n",
    "print(f'Train score is {xgbc_grid.score(X_train,y_train)}')\n",
    "print(f'Test score is {xgbc_grid.score(X_test,y_test)}')\n"
   ]
  },
  {
   "cell_type": "code",
   "execution_count": 109,
   "metadata": {},
   "outputs": [],
   "source": [
    "classifiers={'knn':grid_knn ,\n",
    "             'dtree':grid_dtree,\n",
    "             'svm':grid_search,\n",
    "             'rfc': rfc_grid,\n",
    "             'etc': etc_grid,\n",
    "             'gbc': gbc_grid,\n",
    "             'xgbc': xgbc_grid}"
   ]
  },
  {
   "cell_type": "code",
   "execution_count": 110,
   "metadata": {},
   "outputs": [
    {
     "data": {
      "text/plain": [
       "dict_keys(['knn', 'dtree', 'svm', 'rfc', 'etc', 'gbc', 'xgbc'])"
      ]
     },
     "execution_count": 110,
     "metadata": {},
     "output_type": "execute_result"
    }
   ],
   "source": [
    "classifiers.keys()"
   ]
  },
  {
   "cell_type": "code",
   "execution_count": 111,
   "metadata": {},
   "outputs": [
    {
     "data": {
      "text/html": [
       "<div>\n",
       "<style scoped>\n",
       "    .dataframe tbody tr th:only-of-type {\n",
       "        vertical-align: middle;\n",
       "    }\n",
       "\n",
       "    .dataframe tbody tr th {\n",
       "        vertical-align: top;\n",
       "    }\n",
       "\n",
       "    .dataframe thead th {\n",
       "        text-align: right;\n",
       "    }\n",
       "</style>\n",
       "<table border=\"1\" class=\"dataframe\">\n",
       "  <thead>\n",
       "    <tr style=\"text-align: right;\">\n",
       "      <th></th>\n",
       "      <th>model</th>\n",
       "      <th>mean</th>\n",
       "      <th>std</th>\n",
       "    </tr>\n",
       "  </thead>\n",
       "  <tbody>\n",
       "    <tr>\n",
       "      <th>6</th>\n",
       "      <td>xgbc</td>\n",
       "      <td>0.899407</td>\n",
       "      <td>0.032219</td>\n",
       "    </tr>\n",
       "    <tr>\n",
       "      <th>5</th>\n",
       "      <td>gbc</td>\n",
       "      <td>0.895751</td>\n",
       "      <td>0.034457</td>\n",
       "    </tr>\n",
       "    <tr>\n",
       "      <th>1</th>\n",
       "      <td>dtree</td>\n",
       "      <td>0.878311</td>\n",
       "      <td>0.034340</td>\n",
       "    </tr>\n",
       "    <tr>\n",
       "      <th>3</th>\n",
       "      <td>rfc</td>\n",
       "      <td>0.877511</td>\n",
       "      <td>0.033808</td>\n",
       "    </tr>\n",
       "    <tr>\n",
       "      <th>4</th>\n",
       "      <td>etc</td>\n",
       "      <td>0.875539</td>\n",
       "      <td>0.033752</td>\n",
       "    </tr>\n",
       "    <tr>\n",
       "      <th>2</th>\n",
       "      <td>svm</td>\n",
       "      <td>0.828333</td>\n",
       "      <td>0.014337</td>\n",
       "    </tr>\n",
       "    <tr>\n",
       "      <th>0</th>\n",
       "      <td>knn</td>\n",
       "      <td>0.717675</td>\n",
       "      <td>0.048206</td>\n",
       "    </tr>\n",
       "  </tbody>\n",
       "</table>\n",
       "</div>"
      ],
      "text/plain": [
       "   model      mean       std\n",
       "6   xgbc  0.899407  0.032219\n",
       "5    gbc  0.895751  0.034457\n",
       "1  dtree  0.878311  0.034340\n",
       "3    rfc  0.877511  0.033808\n",
       "4    etc  0.875539  0.033752\n",
       "2    svm  0.828333  0.014337\n",
       "0    knn  0.717675  0.048206"
      ]
     },
     "execution_count": 111,
     "metadata": {},
     "output_type": "execute_result"
    }
   ],
   "source": [
    "results_mean_std = []\n",
    "for  key, value in classifiers.items():\n",
    "    mean = value.cv_results_['mean_test_score'][value.best_index_]\n",
    "    std=value.cv_results_['std_test_score'][value.best_index_]\n",
    "     \n",
    "    results_mean_std.append({\n",
    "        \"model\": key,\n",
    "        \"mean\": mean,\n",
    "        \"std\": std\n",
    "    })\n",
    "accuracy_df = pd.DataFrame(results_mean_std, columns=['model', 'mean', 'std'])\n",
    "accuracy_df.sort_values(by=['mean'], inplace=True,ascending=False)\n",
    "accuracy_df"
   ]
  },
  {
   "cell_type": "code",
   "execution_count": 112,
   "metadata": {},
   "outputs": [],
   "source": [
    "from sklearn.ensemble import StackingClassifier"
   ]
  },
  {
   "cell_type": "code",
   "execution_count": 116,
   "metadata": {},
   "outputs": [
    {
     "name": "stdout",
     "output_type": "stream",
     "text": [
      "Best Mean Cross Validation Score is 0.8583333333333332\n",
      "Best Mean Cross Validation Score is {'final_estimator__criterion': 'gini', 'final_estimator__max_depth': 6, 'final_estimator__splitter': 'random'}\n",
      "Train score is 0.81\n",
      "Test score is 0.815\n"
     ]
    }
   ],
   "source": [
    "sclf1 = StackingClassifier(estimators=\n",
    "                              [('xgbc', xgbc_grid.best_estimator_), \n",
    "                                ('rfc', rfc_grid.best_estimator_), \n",
    "                               #('gbc', gbc_grid.best_estimator_),\n",
    "                               #('adc_dtree',adc_dtree_grid.best_estimator_),\n",
    "                               ('dtree', grid_dtree.best_estimator_)\n",
    "                              ], final_estimator=DecisionTreeClassifier())\n",
    "sclf1_param = {\n",
    "              'final_estimator__criterion' : [\"gini\", \"entropy\"],\n",
    "              'final_estimator__splitter' :   [\"best\", \"random\"],\n",
    "                 'final_estimator__max_depth' : [2,4,6],\n",
    "\n",
    "              }\n",
    "sclf1_grid = GridSearchCV(sclf1, sclf1_param,cv=5, return_train_score=True, )\n",
    "sclf1_grid.fit(X_train,y_train)\n",
    "print(f'Best Mean Cross Validation Score is {sclf1_grid.best_score_}')\n",
    "print(f'Best Mean Cross Validation Score is {sclf1_grid.best_params_}')\n",
    "print(f'Train score is {sclf1_grid.score(X_train,y_train)}')\n",
    "print(f'Test score is {sclf1_grid.score(X_test,y_test)}')\n",
    "#print(f'Val score is {sclf1_grid.score(X_val,y_val)}')"
   ]
  },
  {
   "cell_type": "markdown",
   "metadata": {},
   "source": [
    "# Cost Sensitive Algorithms:"
   ]
  },
  {
   "cell_type": "code",
   "execution_count": 126,
   "metadata": {},
   "outputs": [
    {
     "name": "stdout",
     "output_type": "stream",
     "text": [
      "Best parameters: {'class_weight': {0: 100, 1: 1}}\n",
      "Best Mean cross-validation score: 0.82\n"
     ]
    }
   ],
   "source": [
    "#cost sensitive logistic regession\n",
    "param_grid = {   \n",
    "    'class_weight': [{0:100,1:1}, {0:10,1:1}, {0:1,1:1}, {0:1,1:10}, {0:1,1:100}],\n",
    "}\n",
    "#apply grid search\n",
    "cgrid_logreg= GridSearchCV(LogisticRegression(solver='liblinear'), param_grid, cv=5, n_jobs=2, scoring='roc_auc')\n",
    "cgrid_logreg.fit(X_train, y_train)\n",
    "\n",
    "print(\"Best parameters: {}\".format(cgrid_logreg.best_params_))\n",
    "print(\"Best Mean cross-validation score: {:.2f}\".format(cgrid_logreg.best_score_))"
   ]
  },
  {
   "cell_type": "code",
   "execution_count": 130,
   "metadata": {},
   "outputs": [],
   "source": [
    "from sklearn import svm"
   ]
  },
  {
   "cell_type": "code",
   "execution_count": 132,
   "metadata": {},
   "outputs": [
    {
     "name": "stdout",
     "output_type": "stream",
     "text": [
      "Best parameters: {'class_weight': {0: 1, 1: 10}}\n",
      "Best Mean cross-validation score: 0.87\n"
     ]
    }
   ],
   "source": [
    "svc = svm.SVC()\n",
    "param_grid = {\n",
    "    \n",
    "    'class_weight': [{0:100,1:1}, {0:10,1:1}, {0:1,1:1}, {0:1,1:10}, {0:1,1:100}],\n",
    "}\n",
    "\n",
    "#apply grid search\n",
    "grid_svc= GridSearchCV(svc, param_grid, cv=5, n_jobs=2, scoring='roc_auc')\n",
    "grid_svc.fit(X_train, y_train)\n",
    "\n",
    "print(\"Best parameters: {}\".format(grid_svc.best_params_))\n",
    "print(\"Best Mean cross-validation score: {:.2f}\".format(grid_svc.best_score_))"
   ]
  },
  {
   "cell_type": "code",
   "execution_count": 134,
   "metadata": {},
   "outputs": [
    {
     "name": "stdout",
     "output_type": "stream",
     "text": [
      "Best parameters: {'scale_pos_weight': 10}\n",
      "Best Mean cross-validation score: 0.88\n"
     ]
    }
   ],
   "source": [
    "from  xgboost import XGBClassifier\n",
    "xgboost = XGBClassifier()\n",
    "param_grid = {\n",
    "    \n",
    "    'scale_pos_weight': [1, 10, 25],#, 50, 75, 99, 100, 1000],\n",
    "}\n",
    "\n",
    "#apply grid search\n",
    "grid_xgboost= GridSearchCV(xgboost, param_grid, cv=5, n_jobs=2, scoring='roc_auc')\n",
    "grid_xgboost.fit(X_train, y_train)\n",
    "\n",
    "print(\"Best parameters: {}\".format(grid_xgboost.best_params_))\n",
    "print(\"Best Mean cross-validation score: {:.2f}\".format(grid_xgboost.best_score_))"
   ]
  },
  {
   "cell_type": "code",
   "execution_count": 252,
   "metadata": {},
   "outputs": [
    {
     "name": "stdout",
     "output_type": "stream",
     "text": [
      "Mean ROC AUC: 0.812\n"
     ]
    }
   ],
   "source": [
    "from numpy import mean\n",
    "from sklearn.datasets import make_classification\n",
    "from sklearn.model_selection import cross_val_score\n",
    "from sklearn.model_selection import RepeatedStratifiedKFold\n",
    "from sklearn.ensemble import BaggingClassifier\n",
    "\n",
    "rfc = RandomForestClassifier(n_estimators=10, class_weight='balanced')\n",
    "# define evaluation procedure\n",
    "cv = RepeatedStratifiedKFold(n_splits=10, n_repeats=3, random_state=1)\n",
    "# evaluate model\n",
    "scores = cross_val_score(rfc, X_train, y_train, scoring='roc_auc', cv=cv, n_jobs=-1)\n",
    "# summarize performance\n",
    "print('Mean ROC AUC: %.3f' % mean(scores))"
   ]
  },
  {
   "cell_type": "code",
   "execution_count": 253,
   "metadata": {},
   "outputs": [
    {
     "name": "stdout",
     "output_type": "stream",
     "text": [
      "Mean ROC AUC: 0.820\n"
     ]
    }
   ],
   "source": [
    "etc= ExtraTreesClassifier(n_estimators=10, class_weight='balanced')\n",
    "# define evaluation procedure\n",
    "cv = RepeatedStratifiedKFold(n_splits=10, n_repeats=3, random_state=1)\n",
    "# evaluate model\n",
    "scores = cross_val_score(etc, X_train, y_train, scoring='roc_auc', cv=cv, n_jobs=-1)\n",
    "# summarize performance\n",
    "print('Mean ROC AUC: %.3f' % mean(scores))"
   ]
  },
  {
   "cell_type": "code",
   "execution_count": 255,
   "metadata": {},
   "outputs": [
    {
     "name": "stdout",
     "output_type": "stream",
     "text": [
      "Collecting imblearn\n",
      "  Downloading https://files.pythonhosted.org/packages/81/a7/4179e6ebfd654bd0eac0b9c06125b8b4c96a9d0a8ff9e9507eb2a26d2d7e/imblearn-0.0-py2.py3-none-any.whl\n",
      "Collecting imbalanced-learn\n",
      "  Downloading https://files.pythonhosted.org/packages/c8/73/36a13185c2acff44d601dc6107b5347e075561a49e15ddd4e69988414c3e/imbalanced_learn-0.6.2-py3-none-any.whl (163kB)\n",
      "Requirement already satisfied: scikit-learn>=0.22 in c:\\users\\14695\\appdata\\local\\continuum\\anaconda3\\envs\\buan6341_2020\\lib\\site-packages (from imbalanced-learn->imblearn) (0.22.1)\n",
      "Requirement already satisfied: joblib>=0.11 in c:\\users\\14695\\appdata\\local\\continuum\\anaconda3\\envs\\buan6341_2020\\lib\\site-packages (from imbalanced-learn->imblearn) (0.14.1)\n",
      "Requirement already satisfied: scipy>=0.17 in c:\\users\\14695\\appdata\\local\\continuum\\anaconda3\\envs\\buan6341_2020\\lib\\site-packages (from imbalanced-learn->imblearn) (1.4.1)\n",
      "Requirement already satisfied: numpy>=1.11 in c:\\users\\14695\\appdata\\local\\continuum\\anaconda3\\envs\\buan6341_2020\\lib\\site-packages (from imbalanced-learn->imblearn) (1.17.4)\n",
      "Installing collected packages: imbalanced-learn, imblearn\n",
      "Successfully installed imbalanced-learn-0.6.2 imblearn-0.0\n",
      "Note: you may need to restart the kernel to use updated packages.\n"
     ]
    }
   ],
   "source": [
    "pip install imblearn"
   ]
  },
  {
   "cell_type": "code",
   "execution_count": 254,
   "metadata": {},
   "outputs": [
    {
     "ename": "ModuleNotFoundError",
     "evalue": "No module named 'imblearn'",
     "output_type": "error",
     "traceback": [
      "\u001b[1;31m---------------------------------------------------------------------------\u001b[0m",
      "\u001b[1;31mModuleNotFoundError\u001b[0m                       Traceback (most recent call last)",
      "\u001b[1;32m<ipython-input-254-bfb093f75d1f>\u001b[0m in \u001b[0;36m<module>\u001b[1;34m\u001b[0m\n\u001b[1;32m----> 1\u001b[1;33m \u001b[1;32mfrom\u001b[0m \u001b[0mimblearn\u001b[0m\u001b[1;33m.\u001b[0m\u001b[0mensemble\u001b[0m \u001b[1;32mimport\u001b[0m \u001b[0mBalancedBaggingClassifier\u001b[0m\u001b[1;33m\u001b[0m\u001b[1;33m\u001b[0m\u001b[0m\n\u001b[0m\u001b[0;32m      2\u001b[0m \u001b[1;31m# define model\u001b[0m\u001b[1;33m\u001b[0m\u001b[1;33m\u001b[0m\u001b[1;33m\u001b[0m\u001b[0m\n\u001b[0;32m      3\u001b[0m \u001b[0mbag_dtree\u001b[0m \u001b[1;33m=\u001b[0m \u001b[0mBalancedBaggingClassifier\u001b[0m\u001b[1;33m(\u001b[0m\u001b[1;33m)\u001b[0m\u001b[1;33m\u001b[0m\u001b[1;33m\u001b[0m\u001b[0m\n\u001b[0;32m      4\u001b[0m \u001b[1;31m# define evaluation procedure\u001b[0m\u001b[1;33m\u001b[0m\u001b[1;33m\u001b[0m\u001b[1;33m\u001b[0m\u001b[0m\n\u001b[0;32m      5\u001b[0m \u001b[0mcv\u001b[0m \u001b[1;33m=\u001b[0m \u001b[0mRepeatedStratifiedKFold\u001b[0m\u001b[1;33m(\u001b[0m\u001b[0mn_splits\u001b[0m\u001b[1;33m=\u001b[0m\u001b[1;36m10\u001b[0m\u001b[1;33m,\u001b[0m \u001b[0mn_repeats\u001b[0m\u001b[1;33m=\u001b[0m\u001b[1;36m3\u001b[0m\u001b[1;33m,\u001b[0m \u001b[0mrandom_state\u001b[0m\u001b[1;33m=\u001b[0m\u001b[1;36m1\u001b[0m\u001b[1;33m)\u001b[0m\u001b[1;33m\u001b[0m\u001b[1;33m\u001b[0m\u001b[0m\n",
      "\u001b[1;31mModuleNotFoundError\u001b[0m: No module named 'imblearn'"
     ]
    }
   ],
   "source": [
    "\n",
    "from imblearn.ensemble import BalancedBaggingClassifier\n",
    "# define model\n",
    "bag_dtree = BalancedBaggingClassifier()\n",
    "# define evaluation procedure\n",
    "cv = RepeatedStratifiedKFold(n_splits=10, n_repeats=3, random_state=1)\n",
    "# evaluate model\n",
    "scores = cross_val_score(bag_dtree, X_train, y_train, scoring='roc_auc', cv=cv, n_jobs=-1)\n",
    "# summarize performance\n",
    "print('Mean ROC AUC: %.3f' % mean(scores))"
   ]
  },
  {
   "cell_type": "markdown",
   "metadata": {},
   "source": [
    "# Data Sampling"
   ]
  },
  {
   "cell_type": "code",
   "execution_count": 278,
   "metadata": {},
   "outputs": [
    {
     "name": "stdout",
     "output_type": "stream",
     "text": [
      "Best parameters: {'model__max_depth': 3, 'smote__k_neighbors': 4}\n",
      "Best Mean cross-validation score: 0.85\n"
     ]
    }
   ],
   "source": [
    "from imblearn.over_sampling import SMOTE\n",
    "from imblearn.pipeline import Pipeline\n",
    "pipe_rand_smote = Pipeline([('smote', SMOTE()), ('model', DecisionTreeClassifier())])\n",
    "param_grid = {\n",
    "    # try different feature engineering parameters\n",
    "    'smote__k_neighbors': [1,2,3,4,5],\n",
    "    'model__max_depth': [2,3,4,5,6],\n",
    "}\n",
    "\n",
    "#apply grid search\n",
    "grid_smote= GridSearchCV(pipe_rand_smote, param_grid, cv=5, n_jobs=2, scoring='roc_auc')\n",
    "grid_smote.fit(X_train, y_train)\n",
    "\n",
    "print(\"Best parameters: {}\".format(grid_smote.best_params_))\n",
    "print(\"Best Mean cross-validation score: {:.2f}\".format(grid_smote.best_score_))"
   ]
  },
  {
   "cell_type": "code",
   "execution_count": 281,
   "metadata": {},
   "outputs": [
    {
     "name": "stdout",
     "output_type": "stream",
     "text": [
      "Best parameters: {'model__n_neighbors': 7, 'smote__k_neighbors': 2}\n",
      "Best Mean cross-validation score: 0.62\n"
     ]
    }
   ],
   "source": [
    "pipe_rand_smote = Pipeline([('smote', SMOTE()), ('model', KNeighborsClassifier())])\n",
    "param_grid = {\n",
    "    # try different feature engineering parameters\n",
    "    'smote__k_neighbors': [1,2,3,4,5],\n",
    "    'model__n_neighbors': range(1,10),\n",
    "}\n",
    "\n",
    "#apply grid search\n",
    "grid_smote= GridSearchCV(pipe_rand_smote, param_grid, cv=5, n_jobs=2, scoring='roc_auc')\n",
    "grid_smote.fit(X_train, y_train)\n",
    "\n",
    "print(\"Best parameters: {}\".format(grid_smote.best_params_))\n",
    "print(\"Best Mean cross-validation score: {:.2f}\".format(grid_smote.best_score_))"
   ]
  },
  {
   "cell_type": "code",
   "execution_count": 282,
   "metadata": {},
   "outputs": [
    {
     "name": "stdout",
     "output_type": "stream",
     "text": [
      "Best parameters: {'model__gamma': 0.0016681005372000592, 'model__kernel': 'sigmoid', 'smote__k_neighbors': 5}\n",
      "Best Mean cross-validation score: 0.87\n"
     ]
    }
   ],
   "source": [
    "pipe_rand_smote = Pipeline([('smote', SMOTE()), ('model', SVC())])\n",
    "param_grid = {\n",
    "    # try different feature engineering parameters\n",
    "    'smote__k_neighbors': [1,2,3,4,5],\n",
    "    'model__kernel': ['sigmoid'],\n",
    "     'model__gamma': np.logspace(-5,5,10)\n",
    "}\n",
    "\n",
    "#apply grid search\n",
    "grid_smote= GridSearchCV(pipe_rand_smote, param_grid, cv=5, n_jobs=2, scoring='roc_auc')\n",
    "grid_smote.fit(X_train, y_train)\n",
    "\n",
    "print(\"Best parameters: {}\".format(grid_smote.best_params_))\n",
    "print(\"Best Mean cross-validation score: {:.2f}\".format(grid_smote.best_score_))"
   ]
  },
  {
   "cell_type": "code",
   "execution_count": 283,
   "metadata": {},
   "outputs": [
    {
     "name": "stdout",
     "output_type": "stream",
     "text": [
      "Best parameters: {'model__max_depth': 10, 'smote__k_neighbors': 1}\n",
      "Best Mean cross-validation score: 0.88\n"
     ]
    }
   ],
   "source": [
    "pipe_rand_smote = Pipeline([('smote', SMOTE()), ('model', RandomForestClassifier())])\n",
    "param_grid = {\n",
    "    # try different feature engineering parameters\n",
    "    'smote__k_neighbors': [1,2,3,4,5],\n",
    "#      'model__n_estimators': [100,200,300,500],\n",
    "#     'model__max_features': ['auto'],\n",
    "    'model__max_depth' : [2,4,5,6,7,8,10],\n",
    "#     'model__criterion' :['gini', 'entropy']\n",
    "}\n",
    "\n",
    "#apply grid search\n",
    "grid_smote= GridSearchCV(pipe_rand_smote, param_grid, cv=5, n_jobs=2, scoring='roc_auc')\n",
    "grid_smote.fit(X_train, y_train)\n",
    "\n",
    "print(\"Best parameters: {}\".format(grid_smote.best_params_))\n",
    "print(\"Best Mean cross-validation score: {:.2f}\".format(grid_smote.best_score_))"
   ]
  },
  {
   "cell_type": "code",
   "execution_count": 284,
   "metadata": {},
   "outputs": [
    {
     "name": "stdout",
     "output_type": "stream",
     "text": [
      "Best parameters: {'model__max_depth': 6, 'smote__k_neighbors': 4}\n",
      "Best Mean cross-validation score: 0.86\n"
     ]
    }
   ],
   "source": [
    "pipe_rand_smote = Pipeline([('smote', SMOTE()), ('model', RandomForestClassifier())])\n",
    "param_grid = {\n",
    "    # try different feature engineering parameters\n",
    "    'smote__k_neighbors': [1,2,3,4,5],\n",
    "     'model__max_depth' : [2,4,6,8],\n",
    "#     'model__n_estimators' : [25,50,100,150],\n",
    "#     'model__learning_rate' : [0.05,0.09,0.1,0.2,0.5],\n",
    "#     'model__min_child_weight' : [1,3,5,7],\n",
    "#     'model__subsample':[0.6,0.7,0.8,0.9,1]\n",
    "}\n",
    "\n",
    "#apply grid search\n",
    "grid_smote= GridSearchCV(pipe_rand_smote, param_grid, cv=5, n_jobs=2, scoring='roc_auc')\n",
    "grid_smote.fit(X_train, y_train)\n",
    "\n",
    "print(\"Best parameters: {}\".format(grid_smote.best_params_))\n",
    "print(\"Best Mean cross-validation score: {:.2f}\".format(grid_smote.best_score_))"
   ]
  },
  {
   "cell_type": "code",
   "execution_count": 285,
   "metadata": {},
   "outputs": [
    {
     "name": "stdout",
     "output_type": "stream",
     "text": [
      "Best parameters: {'smote__k_neighbors': 5}\n",
      "Best Mean cross-validation score: 0.84\n"
     ]
    }
   ],
   "source": [
    "from imblearn.ensemble import EasyEnsembleClassifier\n",
    "pipe_roc_ee = Pipeline([('smote',SMOTE()),('ee',EasyEnsembleClassifier())])\n",
    "param_roc_ee = {'smote__k_neighbors': [1,2,3,4,5]}\n",
    "\n",
    "ogrid_ee= GridSearchCV(pipe_roc_ee,param_roc_ee, cv=5, n_jobs=2, scoring='roc_auc')\n",
    "ogrid_ee.fit(X_train, y_train)\n",
    "\n",
    "print(\"Best parameters: {}\".format(ogrid_ee.best_params_))\n",
    "print(\"Best Mean cross-validation score: {:.2f}\".format(ogrid_ee.best_score_))"
   ]
  },
  {
   "cell_type": "code",
   "execution_count": 287,
   "metadata": {},
   "outputs": [
    {
     "name": "stdout",
     "output_type": "stream",
     "text": [
      "Best parameters: {'model__max_depth': 4, 'smote__k_neighbors': 1}\n",
      "Best Mean cross-validation score: 0.89\n"
     ]
    }
   ],
   "source": [
    "pipe_rand_smote = Pipeline([('smote', SMOTE()), ('model', XGBClassifier())])\n",
    "param_grid = {\n",
    "    # try different feature engineering parameters\n",
    "    'smote__k_neighbors': [1,2,3,4,5],\n",
    "     'model__max_depth' : [2,4,6,8],\n",
    "#     'model__n_estimators' : [25,50,100,150],\n",
    "#     'model__learning_rate' : [0.05,0.09,0.1,0.2,0.5],\n",
    "     'model__min_child_weight' : [1,3,5,7],\n",
    "#     'model__subsample':[0.6,0.7,0.8,0.9,1]\n",
    " }\n",
    "\n",
    "#apply grid search\n",
    "grid_smote= GridSearchCV(pipe_rand_smote, param_grid, cv=5, n_jobs=2, scoring='roc_auc')\n",
    "grid_smote.fit(X_train, y_train)\n",
    "\n",
    "print(\"Best parameters: {}\".format(grid_smote.best_params_))\n",
    "print(\"Best Mean cross-validation score: {:.2f}\".format(grid_smote.best_score_))"
   ]
  },
  {
   "cell_type": "code",
   "execution_count": null,
   "metadata": {},
   "outputs": [],
   "source": []
  }
 ],
 "metadata": {
  "kernelspec": {
   "display_name": "buan6341_2020",
   "language": "python",
   "name": "buan6341_2020"
  },
  "language_info": {
   "codemirror_mode": {
    "name": "ipython",
    "version": 3
   },
   "file_extension": ".py",
   "mimetype": "text/x-python",
   "name": "python",
   "nbconvert_exporter": "python",
   "pygments_lexer": "ipython3",
   "version": "3.7.6"
  },
  "toc": {
   "base_numbering": 1,
   "nav_menu": {},
   "number_sections": true,
   "sideBar": true,
   "skip_h1_title": false,
   "title_cell": "Table of Contents",
   "title_sidebar": "Contents",
   "toc_cell": false,
   "toc_position": {},
   "toc_section_display": true,
   "toc_window_display": false
  }
 },
 "nbformat": 4,
 "nbformat_minor": 2
}
